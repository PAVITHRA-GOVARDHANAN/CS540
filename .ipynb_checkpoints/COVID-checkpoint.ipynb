{
 "cells": [
  {
   "cell_type": "markdown",
   "metadata": {
    "colab": {
     "base_uri": "https://localhost:8080/",
     "height": 67
    },
    "colab_type": "code",
    "executionInfo": {
     "elapsed": 896,
     "status": "ok",
     "timestamp": 1587683971246,
     "user": {
      "displayName": "Pavithra Govardhanan",
      "photoUrl": "",
      "userId": "09897390697507392118"
     },
     "user_tz": 360
    },
    "id": "ALd0QEmzk6mr",
    "outputId": "f7c2be8a-e90a-4f1a-fe42-829554b06629"
   },
   "source": [
    "# *CS540 PROJECT : COVID CHATBOT*"
   ]
  },
  {
   "cell_type": "markdown",
   "metadata": {},
   "source": [
    "-**_by TEAM F_**\n",
    "- **Pavithra Govardhanan**\n",
    "- **Saptarshi Chatterjee**\n",
    "- **Shree Harini Ravichandran**\n",
    "- **Rusha Lawande**\n",
    "\n",
    "\n"
   ]
  },
  {
   "cell_type": "markdown",
   "metadata": {},
   "source": [
    "### Importing Packages "
   ]
  },
  {
   "cell_type": "code",
   "execution_count": 1,
   "metadata": {},
   "outputs": [
    {
     "name": "stderr",
     "output_type": "stream",
     "text": [
      "[nltk_data] Downloading package punkt to /home/sapchat/nltk_data...\n",
      "[nltk_data]   Package punkt is already up-to-date!\n"
     ]
    },
    {
     "data": {
      "text/plain": [
       "True"
      ]
     },
     "execution_count": 1,
     "metadata": {},
     "output_type": "execute_result"
    }
   ],
   "source": [
    "import numpy\n",
    "import random\n",
    "import json\n",
    "import pickle\n",
    "import nltk\n",
    "import tensorflow as tf\n",
    "from flask import Flask,render_template\n",
    "import flask_restful as restful\n",
    "from flask_restful import reqparse, abort, Api, Resource\n",
    "from tensorflow.keras.preprocessing.text import Tokenizer\n",
    "from tensorflow.keras.preprocessing.sequence import pad_sequences\n",
    "from tensorflow.keras import backend\n",
    "from tensorflow.keras.models import Sequential, load_model\n",
    "from tensorflow.keras.layers import LSTM, Dense, RepeatVector, Masking, TimeDistributed\n",
    "from tensorflow. keras.utils import plot_model\n",
    "from tensorflow.keras.models import Sequential\n",
    "from nltk.stem.lancaster import LancasterStemmer\n",
    "\n",
    "nltk.download('punkt')"
   ]
  },
  {
   "cell_type": "markdown",
   "metadata": {
    "colab": {
     "base_uri": "https://localhost:8080/",
     "height": 34
    },
    "colab_type": "code",
    "executionInfo": {
     "elapsed": 1434,
     "status": "ok",
     "timestamp": 1587683971889,
     "user": {
      "displayName": "Pavithra Govardhanan",
      "photoUrl": "",
      "userId": "09897390697507392118"
     },
     "user_tz": 360
    },
    "id": "nJlK8MlKVJjX",
    "outputId": "726d21d0-f44f-4635-97ac-910932ac48f2"
   },
   "source": [
    "### Reading JSON File "
   ]
  },
  {
   "cell_type": "code",
   "execution_count": 2,
   "metadata": {
    "colab": {},
    "colab_type": "code",
    "id": "yOYmZ2qxk6mv"
   },
   "outputs": [],
   "source": [
    "with open(\"Dataset/covid_dataset\",encoding=\"utf-8\") as data:\n",
    "        contents = json.load(data)"
   ]
  },
  {
   "cell_type": "markdown",
   "metadata": {},
   "source": [
    "### Pre-Processing"
   ]
  },
  {
   "cell_type": "code",
   "execution_count": 3,
   "metadata": {
    "colab": {},
    "colab_type": "code",
    "id": "rifMludtk6mx"
   },
   "outputs": [],
   "source": [
    "try:\n",
    "    # [IMP: If you changing the json input data, delete the pickle file and try running code again]\n",
    "\n",
    "    # Try loading already pre-processed data from the pickle file.\n",
    "    with open(\"cache.pickle\", \"rb\") as f:\n",
    "        vocabulary, labels, training, output = pickle.load(f)\n",
    "\n",
    "except:\n",
    "\n",
    "    # If no stored data in pickle file, pre-process the data, and store it now.\n",
    "    vocabulary = []\n",
    "    labels = []\n",
    "    docs_x = []\n",
    "    docs_y = []\n",
    "\n",
    "    # Extract words from the patterns, extract labels (tags)\n",
    "\n",
    "    for intent in data[\"intents\"]:\n",
    "        for pattern in intent[\"patterns\"]:\n",
    "\n",
    "            tokenized_words = nltk.word_tokenize(pattern) #toknising the data\n",
    "            vocabulary.extend(tokenized_words)  #What is extending?\n",
    "            docs_x.append(tokenized_words)\n",
    "            docs_y.append(intent[\"tag\"])\n",
    "\n",
    "        if intent[\"tag\"] not in labels:\n",
    "            labels.append(intent[\"tag\"])\n",
    "\n",
    "    \n",
    "    vocabulary = [word_stemmer.stem(w.lower()) for w in vocabulary if w != \"?\"] \n",
    "    vocabulary = sorted(list(set(vocabulary)))\n",
    "\n",
    "    labels = sorted(labels)\n",
    "\n",
    "\n",
    "    training = []\n",
    "    output = []\n",
    "\n",
    "    out_empty = [0 for _ in range(len(labels))]\n",
    "\n",
    "    for x, doc in enumerate(docs_x):\n",
    "        bag_of_words = []\n",
    "\n",
    "        wrds = [word_stemmer.stem(w) for w in doc]\n",
    "\n",
    "        for w in vocabulary:\n",
    "            if w in wrds:\n",
    "                bag_of_words.append(1)\n",
    "            else:\n",
    "                bag_of_words.append(0)\n",
    "\n",
    "        output_row = out_empty[:]\n",
    "        output_row[labels.index(docs_y[x])] = 1\n",
    "\n",
    "        training.append(bag_of_words)\n",
    "#         print(training)\n",
    "        output.append(output_row)\n",
    "\n",
    "  \n",
    "\n",
    "    training = numpy.array(training)\n",
    "    output = numpy.array(output)\n",
    "\n",
    "    # Write the pre-processed data into the pickle file to use it subsequent time.\n",
    "    with open(\"cache.pickle\", \"wb\") as f:\n",
    "        pickle.dump((vocabulary, labels, training, output), f)\n",
    "\n"
   ]
  },
  {
   "cell_type": "code",
   "execution_count": 4,
   "metadata": {
    "colab": {
     "base_uri": "https://localhost:8080/",
     "height": 34
    },
    "colab_type": "code",
    "executionInfo": {
     "elapsed": 1014,
     "status": "ok",
     "timestamp": 1587683972145,
     "user": {
      "displayName": "Pavithra Govardhanan",
      "photoUrl": "",
      "userId": "09897390697507392118"
     },
     "user_tz": 360
    },
    "id": "NyAFGqrZk6mz",
    "outputId": "950e8724-0039-4a08-cc6c-8e835a9b926e",
    "scrolled": true
   },
   "outputs": [
    {
     "data": {
      "text/plain": [
       "304"
      ]
     },
     "execution_count": 4,
     "metadata": {},
     "output_type": "execute_result"
    }
   ],
   "source": [
    "\n",
    "len(vocabulary)"
   ]
  },
  {
   "cell_type": "markdown",
   "metadata": {
    "colab": {},
    "colab_type": "code",
    "id": "TbSL91ymk6m1"
   },
   "source": [
    "### Bag of Words "
   ]
  },
  {
   "cell_type": "code",
   "execution_count": 5,
   "metadata": {},
   "outputs": [],
   "source": [
    "def bag_of_words(user_query, vocabulary):\n",
    "    bag = [0 for _ in range(len(vocabulary))]\n",
    "\n",
    "    s_words = nltk.word_tokenize(user_query)\n",
    "    s_words = [word_stemmer.stem(word.lower()) for word in s_words]\n",
    "\n",
    "    for se in s_words:\n",
    "        for i, w in enumerate(vocabulary):\n",
    "            if se == w:\n",
    "                bag[i] = 1\n",
    "\n",
    "    return numpy.array(bag)\n"
   ]
  },
  {
   "cell_type": "markdown",
   "metadata": {},
   "source": [
    "### Convolutional Neural Network(CNN) "
   ]
  },
  {
   "cell_type": "code",
   "execution_count": 19,
   "metadata": {
    "colab": {},
    "colab_type": "code",
    "id": "v7i98tuPk6m3"
   },
   "outputs": [],
   "source": [
    "from tensorflow.keras.models import Sequential\n",
    "from tensorflow.keras.layers import Dense, Dropout, Flatten\n",
    "from tensorflow.keras.layers import Conv1D, MaxPooling1D, Embedding, LSTM\n",
    "cnn_model = Sequential()\n",
    "cnn_model.add(Embedding(304, 32, input_length=304))\n",
    "cnn_model.add(Conv1D(128, 5, activation='relu'))\n",
    "cnn_model.add(MaxPooling1D(pool_size = 3))\n",
    "# model.add(LSTM(100))\n",
    "cnn_model.add(Flatten())\n",
    "cnn_model.add(Dense(50, activation='relu'))\n",
    "cnn_model.add(Dense(172,activation='softmax'))\n",
    "cnn_model.compile(optimizer='adam',\n",
    "              loss='binary_crossentropy',\n",
    "              metrics=['accuracy'])"
   ]
  },
  {
   "cell_type": "code",
   "execution_count": 20,
   "metadata": {
    "colab": {
     "base_uri": "https://localhost:8080/",
     "height": 353
    },
    "colab_type": "code",
    "executionInfo": {
     "elapsed": 1517,
     "status": "ok",
     "timestamp": 1587683973154,
     "user": {
      "displayName": "Pavithra Govardhanan",
      "photoUrl": "",
      "userId": "09897390697507392118"
     },
     "user_tz": 360
    },
    "id": "Zz4264rI-oqf",
    "outputId": "401e4a43-278f-4925-a8d4-544f0b326432"
   },
   "outputs": [
    {
     "name": "stdout",
     "output_type": "stream",
     "text": [
      "Model: \"sequential_2\"\n",
      "_________________________________________________________________\n",
      "Layer (type)                 Output Shape              Param #   \n",
      "=================================================================\n",
      "embedding_2 (Embedding)      (None, 304, 32)           9728      \n",
      "_________________________________________________________________\n",
      "conv1d_2 (Conv1D)            (None, 300, 128)          20608     \n",
      "_________________________________________________________________\n",
      "max_pooling1d_2 (MaxPooling1 (None, 100, 128)          0         \n",
      "_________________________________________________________________\n",
      "flatten_2 (Flatten)          (None, 12800)             0         \n",
      "_________________________________________________________________\n",
      "dense_4 (Dense)              (None, 50)                640050    \n",
      "_________________________________________________________________\n",
      "dense_5 (Dense)              (None, 172)               8772      \n",
      "=================================================================\n",
      "Total params: 679,158\n",
      "Trainable params: 679,158\n",
      "Non-trainable params: 0\n",
      "_________________________________________________________________\n"
     ]
    }
   ],
   "source": [
    "cnn_model.summary()"
   ]
  },
  {
   "cell_type": "code",
   "execution_count": 21,
   "metadata": {
    "colab": {
     "base_uri": "https://localhost:8080/",
     "height": 1000
    },
    "colab_type": "code",
    "executionInfo": {
     "elapsed": 5808,
     "status": "ok",
     "timestamp": 1587683977608,
     "user": {
      "displayName": "Pavithra Govardhanan",
      "photoUrl": "",
      "userId": "09897390697507392118"
     },
     "user_tz": 360
    },
    "id": "iK9z47C9q1pi",
    "outputId": "57576ceb-1159-46a9-96c9-f14eccc4fdb1"
   },
   "outputs": [
    {
     "name": "stdout",
     "output_type": "stream",
     "text": [
      "Train on 428 samples\n",
      "Epoch 1/100\n",
      "428/428 - 1s - loss: 0.0357 - accuracy: 0.9942\n",
      "Epoch 2/100\n",
      "428/428 - 1s - loss: 0.0352 - accuracy: 0.9942\n",
      "Epoch 3/100\n",
      "428/428 - 1s - loss: 0.0345 - accuracy: 0.9942\n",
      "Epoch 4/100\n",
      "428/428 - 1s - loss: 0.0328 - accuracy: 0.9942\n",
      "Epoch 5/100\n",
      "428/428 - 1s - loss: 0.0287 - accuracy: 0.9942\n",
      "Epoch 6/100\n",
      "428/428 - 1s - loss: 0.0222 - accuracy: 0.9948\n",
      "Epoch 7/100\n",
      "428/428 - 1s - loss: 0.0159 - accuracy: 0.9958\n",
      "Epoch 8/100\n",
      "428/428 - 1s - loss: 0.0123 - accuracy: 0.9967\n",
      "Epoch 9/100\n",
      "428/428 - 1s - loss: 0.0089 - accuracy: 0.9975\n",
      "Epoch 10/100\n",
      "428/428 - 1s - loss: 0.0060 - accuracy: 0.9982\n",
      "Epoch 11/100\n",
      "428/428 - 1s - loss: 0.0043 - accuracy: 0.9986\n",
      "Epoch 12/100\n",
      "428/428 - 1s - loss: 0.0034 - accuracy: 0.9992\n",
      "Epoch 13/100\n",
      "428/428 - 1s - loss: 0.0023 - accuracy: 0.9992\n",
      "Epoch 14/100\n",
      "428/428 - 1s - loss: 0.0024 - accuracy: 0.9992\n",
      "Epoch 15/100\n",
      "428/428 - 1s - loss: 0.0013 - accuracy: 0.9994\n",
      "Epoch 16/100\n",
      "428/428 - 1s - loss: 0.0016 - accuracy: 0.9996\n",
      "Epoch 17/100\n",
      "428/428 - 1s - loss: 0.0015 - accuracy: 0.9995\n",
      "Epoch 18/100\n",
      "428/428 - 1s - loss: 0.0014 - accuracy: 0.9995\n",
      "Epoch 19/100\n",
      "428/428 - 1s - loss: 0.0011 - accuracy: 0.9994\n",
      "Epoch 20/100\n",
      "428/428 - 1s - loss: 8.8503e-04 - accuracy: 0.9995\n",
      "Epoch 21/100\n",
      "428/428 - 1s - loss: 9.6488e-04 - accuracy: 0.9995\n",
      "Epoch 22/100\n",
      "428/428 - 1s - loss: 0.0011 - accuracy: 0.9996\n",
      "Epoch 23/100\n",
      "428/428 - 1s - loss: 0.0010 - accuracy: 0.9995\n",
      "Epoch 24/100\n",
      "428/428 - 1s - loss: 0.0010 - accuracy: 0.9996\n",
      "Epoch 25/100\n",
      "428/428 - 1s - loss: 8.9109e-04 - accuracy: 0.9995\n",
      "Epoch 26/100\n",
      "428/428 - 1s - loss: 8.3642e-04 - accuracy: 0.9995\n",
      "Epoch 27/100\n",
      "428/428 - 1s - loss: 7.5810e-04 - accuracy: 0.9995\n",
      "Epoch 28/100\n",
      "428/428 - 1s - loss: 8.1885e-04 - accuracy: 0.9996\n",
      "Epoch 29/100\n",
      "428/428 - 1s - loss: 7.9705e-04 - accuracy: 0.9995\n",
      "Epoch 30/100\n",
      "428/428 - 1s - loss: 8.1054e-04 - accuracy: 0.9996\n",
      "Epoch 31/100\n",
      "428/428 - 1s - loss: 7.1978e-04 - accuracy: 0.9996\n",
      "Epoch 32/100\n",
      "428/428 - 1s - loss: 7.6678e-04 - accuracy: 0.9996\n",
      "Epoch 33/100\n",
      "428/428 - 1s - loss: 7.3121e-04 - accuracy: 0.9996\n",
      "Epoch 34/100\n",
      "428/428 - 1s - loss: 8.0928e-04 - accuracy: 0.9995\n",
      "Epoch 35/100\n",
      "428/428 - 1s - loss: 8.7566e-04 - accuracy: 0.9996\n",
      "Epoch 36/100\n",
      "428/428 - 1s - loss: 7.7629e-04 - accuracy: 0.9995\n",
      "Epoch 37/100\n",
      "428/428 - 1s - loss: 8.2461e-04 - accuracy: 0.9996\n",
      "Epoch 38/100\n",
      "428/428 - 1s - loss: 7.8125e-04 - accuracy: 0.9996\n",
      "Epoch 39/100\n",
      "428/428 - 1s - loss: 8.4217e-04 - accuracy: 0.9995\n",
      "Epoch 40/100\n",
      "428/428 - 1s - loss: 6.4835e-04 - accuracy: 0.9996\n",
      "Epoch 41/100\n",
      "428/428 - 1s - loss: 6.9470e-04 - accuracy: 0.9996\n",
      "Epoch 42/100\n",
      "428/428 - 1s - loss: 8.0288e-04 - accuracy: 0.9995\n",
      "Epoch 43/100\n",
      "428/428 - 1s - loss: 7.0515e-04 - accuracy: 0.9995\n",
      "Epoch 44/100\n",
      "428/428 - 1s - loss: 6.7917e-04 - accuracy: 0.9995\n",
      "Epoch 45/100\n",
      "428/428 - 1s - loss: 6.8952e-04 - accuracy: 0.9995\n",
      "Epoch 46/100\n",
      "428/428 - 1s - loss: 6.2840e-04 - accuracy: 0.9995\n",
      "Epoch 47/100\n",
      "428/428 - 1s - loss: 7.0394e-04 - accuracy: 0.9996\n",
      "Epoch 48/100\n",
      "428/428 - 1s - loss: 6.7776e-04 - accuracy: 0.9996\n",
      "Epoch 49/100\n",
      "428/428 - 1s - loss: 6.9189e-04 - accuracy: 0.9995\n",
      "Epoch 50/100\n",
      "428/428 - 1s - loss: 6.6066e-04 - accuracy: 0.9995\n",
      "Epoch 51/100\n",
      "428/428 - 1s - loss: 6.8922e-04 - accuracy: 0.9996\n",
      "Epoch 52/100\n",
      "428/428 - 1s - loss: 6.3677e-04 - accuracy: 0.9996\n",
      "Epoch 53/100\n",
      "428/428 - 1s - loss: 6.3170e-04 - accuracy: 0.9995\n",
      "Epoch 54/100\n",
      "428/428 - 1s - loss: 7.6959e-04 - accuracy: 0.9995\n",
      "Epoch 55/100\n",
      "428/428 - 1s - loss: 7.7620e-04 - accuracy: 0.9996\n",
      "Epoch 56/100\n",
      "428/428 - 1s - loss: 6.3726e-04 - accuracy: 0.9996\n",
      "Epoch 57/100\n",
      "428/428 - 1s - loss: 6.9524e-04 - accuracy: 0.9995\n",
      "Epoch 58/100\n",
      "428/428 - 1s - loss: 6.5450e-04 - accuracy: 0.9996\n",
      "Epoch 59/100\n",
      "428/428 - 1s - loss: 7.1246e-04 - accuracy: 0.9995\n",
      "Epoch 60/100\n",
      "428/428 - 1s - loss: 6.6150e-04 - accuracy: 0.9996\n",
      "Epoch 61/100\n",
      "428/428 - 1s - loss: 6.1496e-04 - accuracy: 0.9995\n",
      "Epoch 62/100\n",
      "428/428 - 1s - loss: 6.7754e-04 - accuracy: 0.9995\n",
      "Epoch 63/100\n",
      "428/428 - 1s - loss: 6.9680e-04 - accuracy: 0.9995\n",
      "Epoch 64/100\n",
      "428/428 - 1s - loss: 6.3376e-04 - accuracy: 0.9995\n",
      "Epoch 65/100\n",
      "428/428 - 1s - loss: 6.0097e-04 - accuracy: 0.9995\n",
      "Epoch 66/100\n",
      "428/428 - 1s - loss: 6.1873e-04 - accuracy: 0.9995\n",
      "Epoch 67/100\n",
      "428/428 - 1s - loss: 6.9196e-04 - accuracy: 0.9996\n",
      "Epoch 68/100\n",
      "428/428 - 1s - loss: 6.1736e-04 - accuracy: 0.9995\n",
      "Epoch 69/100\n",
      "428/428 - 1s - loss: 6.4238e-04 - accuracy: 0.9995\n",
      "Epoch 70/100\n",
      "428/428 - 1s - loss: 6.5543e-04 - accuracy: 0.9995\n",
      "Epoch 71/100\n",
      "428/428 - 1s - loss: 6.7084e-04 - accuracy: 0.9995\n",
      "Epoch 72/100\n",
      "428/428 - 1s - loss: 6.4004e-04 - accuracy: 0.9995\n",
      "Epoch 73/100\n",
      "428/428 - 1s - loss: 6.0994e-04 - accuracy: 0.9996\n",
      "Epoch 74/100\n",
      "428/428 - 1s - loss: 6.3622e-04 - accuracy: 0.9995\n",
      "Epoch 75/100\n",
      "428/428 - 1s - loss: 5.9751e-04 - accuracy: 0.9995\n",
      "Epoch 76/100\n",
      "428/428 - 1s - loss: 6.4056e-04 - accuracy: 0.9995\n",
      "Epoch 77/100\n",
      "428/428 - 1s - loss: 6.5403e-04 - accuracy: 0.9995\n",
      "Epoch 78/100\n",
      "428/428 - 1s - loss: 7.1434e-04 - accuracy: 0.9996\n",
      "Epoch 79/100\n",
      "428/428 - 1s - loss: 6.7372e-04 - accuracy: 0.9995\n",
      "Epoch 80/100\n",
      "428/428 - 1s - loss: 6.5964e-04 - accuracy: 0.9995\n",
      "Epoch 81/100\n",
      "428/428 - 1s - loss: 5.8478e-04 - accuracy: 0.9996\n",
      "Epoch 82/100\n",
      "428/428 - 1s - loss: 6.0733e-04 - accuracy: 0.9996\n",
      "Epoch 83/100\n",
      "428/428 - 1s - loss: 5.9205e-04 - accuracy: 0.9995\n",
      "Epoch 84/100\n",
      "428/428 - 1s - loss: 6.3949e-04 - accuracy: 0.9995\n",
      "Epoch 85/100\n",
      "428/428 - 1s - loss: 6.5566e-04 - accuracy: 0.9995\n",
      "Epoch 86/100\n",
      "428/428 - 1s - loss: 5.9301e-04 - accuracy: 0.9995\n",
      "Epoch 87/100\n",
      "428/428 - 1s - loss: 6.1145e-04 - accuracy: 0.9995\n",
      "Epoch 88/100\n",
      "428/428 - 1s - loss: 6.1303e-04 - accuracy: 0.9995\n",
      "Epoch 89/100\n",
      "428/428 - 1s - loss: 5.7736e-04 - accuracy: 0.9995\n",
      "Epoch 90/100\n",
      "428/428 - 1s - loss: 5.8348e-04 - accuracy: 0.9995\n",
      "Epoch 91/100\n",
      "428/428 - 1s - loss: 6.0953e-04 - accuracy: 0.9996\n",
      "Epoch 92/100\n",
      "428/428 - 1s - loss: 5.7156e-04 - accuracy: 0.9995\n",
      "Epoch 93/100\n",
      "428/428 - 1s - loss: 5.6714e-04 - accuracy: 0.9996\n",
      "Epoch 94/100\n",
      "428/428 - 1s - loss: 6.0677e-04 - accuracy: 0.9995\n",
      "Epoch 95/100\n",
      "428/428 - 1s - loss: 6.0875e-04 - accuracy: 0.9995\n",
      "Epoch 96/100\n",
      "428/428 - 1s - loss: 5.8611e-04 - accuracy: 0.9996\n",
      "Epoch 97/100\n",
      "428/428 - 1s - loss: 5.8507e-04 - accuracy: 0.9996\n",
      "Epoch 98/100\n",
      "428/428 - 1s - loss: 5.8362e-04 - accuracy: 0.9996\n",
      "Epoch 99/100\n",
      "428/428 - 1s - loss: 6.1587e-04 - accuracy: 0.9995\n",
      "Epoch 100/100\n",
      "428/428 - 1s - loss: 5.6683e-04 - accuracy: 0.9995\n"
     ]
    }
   ],
   "source": [
    "cnn=cnn_model.fit(training, output, epochs=100,verbose = 2, batch_size=16)"
   ]
  },
  {
   "cell_type": "code",
   "execution_count": 22,
   "metadata": {
    "colab": {
     "base_uri": "https://localhost:8080/",
     "height": 34
    },
    "colab_type": "code",
    "executionInfo": {
     "elapsed": 5666,
     "status": "ok",
     "timestamp": 1587683977609,
     "user": {
      "displayName": "Pavithra Govardhanan",
      "photoUrl": "",
      "userId": "09897390697507392118"
     },
     "user_tz": 360
    },
    "id": "2DOgm44HHtcv",
    "outputId": "cf640d1a-9e5a-4e54-b7a8-f9320026d602"
   },
   "outputs": [
    {
     "name": "stdout",
     "output_type": "stream",
     "text": [
      "Model saved successfully...\n"
     ]
    }
   ],
   "source": [
    "cnn_model.save('model_covid_cnn.h5')\n",
    "print(\"Model saved successfully...\")"
   ]
  },
  {
   "cell_type": "markdown",
   "metadata": {},
   "source": [
    "### Accuracy (CNN) "
   ]
  },
  {
   "cell_type": "code",
   "execution_count": 23,
   "metadata": {},
   "outputs": [
    {
     "name": "stdout",
     "output_type": "stream",
     "text": [
      "428/428 [==============================] - 0s 1ms/sample - loss: 5.1527e-04 - accuracy: 0.9996\n",
      "Accuracy: 0.9996469\n"
     ]
    }
   ],
   "source": [
    "scores = cnn_model.evaluate(training, output, verbose=1)\n",
    "print(\"Accuracy:\", scores[1])"
   ]
  },
  {
   "cell_type": "markdown",
   "metadata": {},
   "source": [
    "### Graph results of CNN "
   ]
  },
  {
   "cell_type": "code",
   "execution_count": 31,
   "metadata": {
    "colab": {},
    "colab_type": "code",
    "id": "SSelAUXxk6m-"
   },
   "outputs": [
    {
     "data": {
      "image/png": "[encoded data removed]",
      "text/plain": [
       "<Figure size 432x288 with 1 Axes>"
      ]
     },
     "metadata": {
      "needs_background": "light"
     },
     "output_type": "display_data"
    }
   ],
   "source": [
    "%matplotlib inline\n",
    "import matplotlib.pyplot as plt\n",
    "\n",
    "plt.plot(cnn.history['accuracy'])\n",
    "plt.title('model accuracy')\n",
    "plt.ylim(0.9990,0.9999)\n",
    "plt.xlim(0,100)\n",
    "plt.ylabel('accuracy')\n",
    "plt.xlabel('epoch')\n",
    "plt.legend(['accuracy'], loc='upper left')\n",
    "plt.show()"
   ]
  },
  {
   "cell_type": "code",
   "execution_count": 25,
   "metadata": {
    "scrolled": true
   },
   "outputs": [
    {
     "data": {
      "image/png": "[encoded data removed]",
      "text/plain": [
       "<Figure size 432x288 with 1 Axes>"
      ]
     },
     "metadata": {
      "needs_background": "light"
     },
     "output_type": "display_data"
    }
   ],
   "source": [
    "%matplotlib inline\n",
    "import matplotlib.pyplot as plt\n",
    "\n",
    "plt.plot(cnn.history['loss'])\n",
    "plt.title('model loss')\n",
    "plt.ylim(-0.005,0.02)\n",
    "plt.xlim(0,100)\n",
    "plt.ylabel('loss')\n",
    "plt.xlabel('epoch')\n",
    "plt.legend(['loss'], loc='upper left')\n",
    "plt.show()"
   ]
  },
  {
   "cell_type": "markdown",
   "metadata": {},
   "source": [
    "### Recurrent Neural Network (RNN)"
   ]
  },
  {
   "cell_type": "code",
   "execution_count": 26,
   "metadata": {},
   "outputs": [
    {
     "name": "stderr",
     "output_type": "stream",
     "text": [
      "Using TensorFlow backend.\n"
     ]
    }
   ],
   "source": [
    "from keras.models import Sequential\n",
    "from keras.layers import Dense, Dropout, Flatten\n",
    "from keras.layers import Conv1D, MaxPooling1D, Embedding, LSTM,SimpleRNN\n",
    "rnn_model = Sequential()\n",
    "rnn_model.add(Embedding(304, 32, input_length=304))\n",
    "rnn_model.add(SimpleRNN(128, activation='relu', return_sequences=True))\n",
    "rnn_model.add(Flatten())\n",
    "rnn_model.add(Dense(50, activation='relu'))\n",
    "rnn_model.add(Dense(172,activation='softmax'))\n",
    "rnn_model.compile(optimizer='adam',\n",
    "              loss='categorical_crossentropy',\n",
    "              metrics=['accuracy'])"
   ]
  },
  {
   "cell_type": "code",
   "execution_count": 27,
   "metadata": {},
   "outputs": [
    {
     "name": "stdout",
     "output_type": "stream",
     "text": [
      "Model: \"sequential_1\"\n",
      "_________________________________________________________________\n",
      "Layer (type)                 Output Shape              Param #   \n",
      "=================================================================\n",
      "embedding_1 (Embedding)      (None, 304, 32)           9728      \n",
      "_________________________________________________________________\n",
      "simple_rnn_1 (SimpleRNN)     (None, 304, 128)          20608     \n",
      "_________________________________________________________________\n",
      "flatten_1 (Flatten)          (None, 38912)             0         \n",
      "_________________________________________________________________\n",
      "dense_1 (Dense)              (None, 50)                1945650   \n",
      "_________________________________________________________________\n",
      "dense_2 (Dense)              (None, 172)               8772      \n",
      "=================================================================\n",
      "Total params: 1,984,758\n",
      "Trainable params: 1,984,758\n",
      "Non-trainable params: 0\n",
      "_________________________________________________________________\n"
     ]
    }
   ],
   "source": [
    "rnn_model.summary()"
   ]
  },
  {
   "cell_type": "code",
   "execution_count": 28,
   "metadata": {
    "scrolled": true
   },
   "outputs": [
    {
     "name": "stderr",
     "output_type": "stream",
     "text": [
      "/home/sapchat/anaconda3/envs/tf/lib/python3.7/site-packages/tensorflow_core/python/framework/indexed_slices.py:433: UserWarning: Converting sparse IndexedSlices to a dense Tensor of unknown shape. This may consume a large amount of memory.\n",
      "  \"Converting sparse IndexedSlices to a dense Tensor of unknown shape. \"\n"
     ]
    },
    {
     "name": "stdout",
     "output_type": "stream",
     "text": [
      "Train on 385 samples, validate on 43 samples\n",
      "Epoch 1/100\n",
      " - 10s - loss: 5.1326 - accuracy: 0.0156 - val_loss: 5.2732 - val_accuracy: 0.0000e+00\n",
      "Epoch 2/100\n",
      " - 8s - loss: 5.0325 - accuracy: 0.0675 - val_loss: 5.7361 - val_accuracy: 0.0000e+00\n",
      "Epoch 3/100\n",
      " - 7s - loss: 4.4108 - accuracy: 0.1039 - val_loss: 7.5422 - val_accuracy: 0.0000e+00\n",
      "Epoch 4/100\n",
      " - 7s - loss: 3.2653 - accuracy: 0.2883 - val_loss: 10.8852 - val_accuracy: 0.0233\n",
      "Epoch 5/100\n",
      " - 8s - loss: 2.0853 - accuracy: 0.5091 - val_loss: 14.1976 - val_accuracy: 0.0465\n",
      "Epoch 6/100\n",
      " - 7s - loss: 1.3673 - accuracy: 0.6753 - val_loss: 18.9560 - val_accuracy: 0.0465\n",
      "Epoch 7/100\n",
      " - 6s - loss: 0.7808 - accuracy: 0.8052 - val_loss: 25.4933 - val_accuracy: 0.0465\n",
      "Epoch 8/100\n",
      " - 7s - loss: 0.5557 - accuracy: 0.8779 - val_loss: 25.0081 - val_accuracy: 0.0465\n",
      "Epoch 9/100\n",
      " - 7s - loss: 0.4151 - accuracy: 0.9273 - val_loss: 28.4626 - val_accuracy: 0.0465\n",
      "Epoch 10/100\n",
      " - 11s - loss: 0.3293 - accuracy: 0.9169 - val_loss: 25.7017 - val_accuracy: 0.0465\n",
      "Epoch 11/100\n",
      " - 10s - loss: 0.2193 - accuracy: 0.9351 - val_loss: 26.9096 - val_accuracy: 0.0465\n",
      "Epoch 12/100\n",
      " - 7s - loss: 0.2426 - accuracy: 0.9325 - val_loss: 26.3923 - val_accuracy: 0.0465\n",
      "Epoch 13/100\n",
      " - 9s - loss: 0.2203 - accuracy: 0.9429 - val_loss: 26.3466 - val_accuracy: 0.0465\n",
      "Epoch 14/100\n",
      " - 8s - loss: 0.1256 - accuracy: 0.9584 - val_loss: 27.7329 - val_accuracy: 0.0465\n",
      "Epoch 15/100\n",
      " - 7s - loss: 0.1709 - accuracy: 0.9377 - val_loss: 26.7184 - val_accuracy: 0.0465\n",
      "Epoch 16/100\n",
      " - 8s - loss: 0.1076 - accuracy: 0.9506 - val_loss: 28.8849 - val_accuracy: 0.0465\n",
      "Epoch 17/100\n",
      " - 7s - loss: 0.0881 - accuracy: 0.9610 - val_loss: 29.5557 - val_accuracy: 0.0465\n",
      "Epoch 18/100\n",
      " - 8s - loss: 0.0950 - accuracy: 0.9481 - val_loss: 28.6830 - val_accuracy: 0.0465\n",
      "Epoch 19/100\n",
      " - 8s - loss: 0.0891 - accuracy: 0.9481 - val_loss: 29.3019 - val_accuracy: 0.0465\n",
      "Epoch 20/100\n",
      " - 8s - loss: 0.0830 - accuracy: 0.9532 - val_loss: 29.5705 - val_accuracy: 0.0465\n",
      "Epoch 21/100\n",
      " - 8s - loss: 0.0857 - accuracy: 0.9481 - val_loss: 29.6837 - val_accuracy: 0.0465\n",
      "Epoch 22/100\n",
      " - 8s - loss: 0.0702 - accuracy: 0.9584 - val_loss: 30.5062 - val_accuracy: 0.0465\n",
      "Epoch 23/100\n",
      " - 8s - loss: 0.0791 - accuracy: 0.9481 - val_loss: 30.4928 - val_accuracy: 0.0465\n",
      "Epoch 24/100\n",
      " - 7s - loss: 0.0712 - accuracy: 0.9558 - val_loss: 30.9059 - val_accuracy: 0.0465\n",
      "Epoch 25/100\n",
      " - 7s - loss: 0.0755 - accuracy: 0.9610 - val_loss: 30.2997 - val_accuracy: 0.0465\n",
      "Epoch 26/100\n",
      " - 7s - loss: 0.0762 - accuracy: 0.9532 - val_loss: 30.6794 - val_accuracy: 0.0465\n",
      "Epoch 27/100\n",
      " - 7s - loss: 0.0726 - accuracy: 0.9558 - val_loss: 30.1410 - val_accuracy: 0.0465\n",
      "Epoch 28/100\n",
      " - 7s - loss: 0.0728 - accuracy: 0.9532 - val_loss: 30.5963 - val_accuracy: 0.0465\n",
      "Epoch 29/100\n",
      " - 8s - loss: 0.0724 - accuracy: 0.9506 - val_loss: 31.1529 - val_accuracy: 0.0465\n",
      "Epoch 30/100\n",
      " - 7s - loss: 0.0722 - accuracy: 0.9558 - val_loss: 30.4173 - val_accuracy: 0.0465\n",
      "Epoch 31/100\n",
      " - 7s - loss: 0.0767 - accuracy: 0.9558 - val_loss: 30.2804 - val_accuracy: 0.0465\n",
      "Epoch 32/100\n",
      " - 8s - loss: 0.0711 - accuracy: 0.9481 - val_loss: 30.5388 - val_accuracy: 0.0465\n",
      "Epoch 33/100\n",
      " - 7s - loss: 0.0718 - accuracy: 0.9481 - val_loss: 30.0069 - val_accuracy: 0.0465\n",
      "Epoch 34/100\n",
      " - 7s - loss: 0.0681 - accuracy: 0.9584 - val_loss: 30.7514 - val_accuracy: 0.0465\n",
      "Epoch 35/100\n",
      " - 7s - loss: 0.0612 - accuracy: 0.9662 - val_loss: 31.0191 - val_accuracy: 0.0465\n",
      "Epoch 36/100\n",
      " - 7s - loss: 0.0704 - accuracy: 0.9610 - val_loss: 31.3005 - val_accuracy: 0.0465\n",
      "Epoch 37/100\n",
      " - 7s - loss: 0.0642 - accuracy: 0.9610 - val_loss: 31.1754 - val_accuracy: 0.0465\n",
      "Epoch 38/100\n",
      " - 7s - loss: 0.0667 - accuracy: 0.9610 - val_loss: 31.4262 - val_accuracy: 0.0465\n",
      "Epoch 39/100\n",
      " - 7s - loss: 0.0661 - accuracy: 0.9532 - val_loss: 31.5430 - val_accuracy: 0.0465\n",
      "Epoch 40/100\n",
      " - 7s - loss: 0.0628 - accuracy: 0.9481 - val_loss: 31.6276 - val_accuracy: 0.0465\n",
      "Epoch 41/100\n",
      " - 7s - loss: 0.0684 - accuracy: 0.9532 - val_loss: 31.5017 - val_accuracy: 0.0465\n",
      "Epoch 42/100\n",
      " - 8s - loss: 0.0673 - accuracy: 0.9532 - val_loss: 30.9244 - val_accuracy: 0.0465\n",
      "Epoch 43/100\n",
      " - 6s - loss: 0.0692 - accuracy: 0.9506 - val_loss: 30.8229 - val_accuracy: 0.0465\n",
      "Epoch 44/100\n",
      " - 7s - loss: 0.0698 - accuracy: 0.9506 - val_loss: 30.1606 - val_accuracy: 0.0465\n",
      "Epoch 45/100\n",
      " - 7s - loss: 0.0647 - accuracy: 0.9455 - val_loss: 30.5746 - val_accuracy: 0.0465\n",
      "Epoch 46/100\n",
      " - 7s - loss: 0.0847 - accuracy: 0.9506 - val_loss: 30.4927 - val_accuracy: 0.0465\n",
      "Epoch 47/100\n",
      " - 7s - loss: 0.0946 - accuracy: 0.9532 - val_loss: 29.3919 - val_accuracy: 0.0465\n",
      "Epoch 48/100\n",
      " - 7s - loss: 0.0782 - accuracy: 0.9636 - val_loss: 28.3498 - val_accuracy: 0.0465\n",
      "Epoch 49/100\n",
      " - 7s - loss: 0.1418 - accuracy: 0.9610 - val_loss: 24.8553 - val_accuracy: 0.0465\n",
      "Epoch 50/100\n",
      " - 7s - loss: 0.1121 - accuracy: 0.9558 - val_loss: 26.6964 - val_accuracy: 0.0465\n",
      "Epoch 51/100\n",
      " - 7s - loss: 0.1567 - accuracy: 0.9481 - val_loss: 23.2018 - val_accuracy: 0.0465\n",
      "Epoch 52/100\n",
      " - 7s - loss: 0.1248 - accuracy: 0.9351 - val_loss: 26.5566 - val_accuracy: 0.0465\n",
      "Epoch 53/100\n",
      " - 7s - loss: 0.1436 - accuracy: 0.9455 - val_loss: 23.8980 - val_accuracy: 0.0465\n",
      "Epoch 54/100\n",
      " - 7s - loss: 0.1128 - accuracy: 0.9377 - val_loss: 29.0285 - val_accuracy: 0.0465\n",
      "Epoch 55/100\n",
      " - 6s - loss: 0.0781 - accuracy: 0.9558 - val_loss: 29.2558 - val_accuracy: 0.0465\n",
      "Epoch 56/100\n",
      " - 7s - loss: 0.0746 - accuracy: 0.9506 - val_loss: 29.4914 - val_accuracy: 0.0465\n",
      "Epoch 57/100\n",
      " - 7s - loss: 0.0761 - accuracy: 0.9558 - val_loss: 28.0834 - val_accuracy: 0.0465\n",
      "Epoch 58/100\n",
      " - 6s - loss: 0.0647 - accuracy: 0.9584 - val_loss: 29.5558 - val_accuracy: 0.0465\n",
      "Epoch 59/100\n",
      " - 7s - loss: 0.0904 - accuracy: 0.9584 - val_loss: 25.8638 - val_accuracy: 0.0465\n",
      "Epoch 60/100\n",
      " - 7s - loss: 0.0742 - accuracy: 0.9610 - val_loss: 28.3487 - val_accuracy: 0.0465\n",
      "Epoch 61/100\n",
      " - 7s - loss: 0.1105 - accuracy: 0.9558 - val_loss: 25.3153 - val_accuracy: 0.0465\n",
      "Epoch 62/100\n",
      " - 7s - loss: 0.0960 - accuracy: 0.9532 - val_loss: 25.2872 - val_accuracy: 0.0465\n",
      "Epoch 63/100\n",
      " - 8s - loss: 0.0859 - accuracy: 0.9636 - val_loss: 26.0197 - val_accuracy: 0.0465\n",
      "Epoch 64/100\n",
      " - 7s - loss: 0.0724 - accuracy: 0.9636 - val_loss: 27.6659 - val_accuracy: 0.0465\n",
      "Epoch 65/100\n",
      " - 6s - loss: 0.0683 - accuracy: 0.9636 - val_loss: 28.4045 - val_accuracy: 0.0465\n",
      "Epoch 66/100\n",
      " - 7s - loss: 0.0670 - accuracy: 0.9636 - val_loss: 28.7007 - val_accuracy: 0.0465\n",
      "Epoch 67/100\n",
      " - 8s - loss: 0.0693 - accuracy: 0.9636 - val_loss: 29.5268 - val_accuracy: 0.0465\n",
      "Epoch 68/100\n",
      " - 7s - loss: 0.0644 - accuracy: 0.9532 - val_loss: 28.9924 - val_accuracy: 0.0465\n",
      "Epoch 69/100\n",
      " - 7s - loss: 0.0609 - accuracy: 0.9584 - val_loss: 30.0280 - val_accuracy: 0.0465\n",
      "Epoch 70/100\n",
      " - 7s - loss: 0.0587 - accuracy: 0.9558 - val_loss: 30.8851 - val_accuracy: 0.0465\n",
      "Epoch 71/100\n",
      " - 7s - loss: 0.0616 - accuracy: 0.9532 - val_loss: 30.8530 - val_accuracy: 0.0465\n",
      "Epoch 72/100\n",
      " - 6s - loss: 0.0603 - accuracy: 0.9584 - val_loss: 31.2109 - val_accuracy: 0.0465\n",
      "Epoch 73/100\n",
      " - 7s - loss: 0.0536 - accuracy: 0.9662 - val_loss: 31.7801 - val_accuracy: 0.0465\n",
      "Epoch 74/100\n",
      " - 7s - loss: 0.0597 - accuracy: 0.9506 - val_loss: 31.6840 - val_accuracy: 0.0465\n",
      "Epoch 75/100\n",
      " - 8s - loss: 0.0556 - accuracy: 0.9584 - val_loss: 32.2897 - val_accuracy: 0.0465\n",
      "Epoch 76/100\n",
      " - 7s - loss: 0.0574 - accuracy: 0.9558 - val_loss: 32.0275 - val_accuracy: 0.0465\n",
      "Epoch 77/100\n",
      " - 7s - loss: 0.0594 - accuracy: 0.9558 - val_loss: 32.0732 - val_accuracy: 0.0465\n",
      "Epoch 78/100\n",
      " - 8s - loss: 0.0605 - accuracy: 0.9506 - val_loss: 31.1905 - val_accuracy: 0.0465\n",
      "Epoch 79/100\n",
      " - 6s - loss: 0.0560 - accuracy: 0.9610 - val_loss: 31.7615 - val_accuracy: 0.0465\n",
      "Epoch 80/100\n",
      " - 6s - loss: 0.0567 - accuracy: 0.9584 - val_loss: 31.3609 - val_accuracy: 0.0465\n",
      "Epoch 81/100\n",
      " - 6s - loss: 0.0584 - accuracy: 0.9636 - val_loss: 30.8415 - val_accuracy: 0.0465\n",
      "Epoch 82/100\n",
      " - 6s - loss: 0.0542 - accuracy: 0.9584 - val_loss: 31.7469 - val_accuracy: 0.0465\n",
      "Epoch 83/100\n",
      " - 7s - loss: 0.0570 - accuracy: 0.9610 - val_loss: 31.9226 - val_accuracy: 0.0465\n",
      "Epoch 84/100\n",
      " - 7s - loss: 0.0541 - accuracy: 0.9584 - val_loss: 32.2481 - val_accuracy: 0.0465\n",
      "Epoch 85/100\n",
      " - 7s - loss: 0.0556 - accuracy: 0.9584 - val_loss: 32.7665 - val_accuracy: 0.0465\n"
     ]
    },
    {
     "name": "stdout",
     "output_type": "stream",
     "text": [
      "Epoch 86/100\n",
      " - 7s - loss: 0.0546 - accuracy: 0.9610 - val_loss: 32.3786 - val_accuracy: 0.0465\n",
      "Epoch 87/100\n",
      " - 8s - loss: 0.0544 - accuracy: 0.9610 - val_loss: 32.8353 - val_accuracy: 0.0465\n",
      "Epoch 88/100\n",
      " - 9s - loss: 0.0554 - accuracy: 0.9532 - val_loss: 32.5421 - val_accuracy: 0.0465\n",
      "Epoch 89/100\n",
      " - 7s - loss: 0.0515 - accuracy: 0.9636 - val_loss: 32.8838 - val_accuracy: 0.0465\n",
      "Epoch 90/100\n",
      " - 7s - loss: 0.0533 - accuracy: 0.9636 - val_loss: 33.3934 - val_accuracy: 0.0465\n",
      "Epoch 91/100\n",
      " - 10s - loss: 0.0553 - accuracy: 0.9558 - val_loss: 33.1877 - val_accuracy: 0.0465\n",
      "Epoch 92/100\n",
      " - 9s - loss: 0.0520 - accuracy: 0.9558 - val_loss: 32.8675 - val_accuracy: 0.0465\n",
      "Epoch 93/100\n",
      " - 8s - loss: 0.0545 - accuracy: 0.9481 - val_loss: 33.0446 - val_accuracy: 0.0465\n",
      "Epoch 94/100\n",
      " - 7s - loss: 0.0554 - accuracy: 0.9532 - val_loss: 33.2770 - val_accuracy: 0.0465\n",
      "Epoch 95/100\n",
      " - 7s - loss: 0.0539 - accuracy: 0.9532 - val_loss: 32.8258 - val_accuracy: 0.0465\n",
      "Epoch 96/100\n",
      " - 7s - loss: 0.0526 - accuracy: 0.9558 - val_loss: 32.9930 - val_accuracy: 0.0465\n",
      "Epoch 97/100\n",
      " - 7s - loss: 0.0518 - accuracy: 0.9506 - val_loss: 33.6211 - val_accuracy: 0.0465\n",
      "Epoch 98/100\n",
      " - 7s - loss: 0.0551 - accuracy: 0.9506 - val_loss: 33.0966 - val_accuracy: 0.0465\n",
      "Epoch 99/100\n",
      " - 7s - loss: 0.0532 - accuracy: 0.9532 - val_loss: 33.0061 - val_accuracy: 0.0465\n",
      "Epoch 100/100\n",
      " - 7s - loss: 0.0538 - accuracy: 0.9532 - val_loss: 32.8409 - val_accuracy: 0.0465\n"
     ]
    }
   ],
   "source": [
    "rnn=rnn_model.fit(training, output, epochs=100,verbose = 2, batch_size=16,validation_split=0.1)"
   ]
  },
  {
   "cell_type": "markdown",
   "metadata": {},
   "source": [
    "### Accuracy (RNN) "
   ]
  },
  {
   "cell_type": "code",
   "execution_count": 29,
   "metadata": {},
   "outputs": [
    {
     "name": "stdout",
     "output_type": "stream",
     "text": [
      "Model saved successfully...\n",
      "428/428 [==============================] - 1s 3ms/step\n",
      "Accuracy: 0.8738317489624023\n"
     ]
    }
   ],
   "source": [
    "rnn_model.save('model_covid_rnn.h5')\n",
    "print(\"Model saved successfully...\")\n",
    "\n",
    "scores = rnn_model.evaluate(training, output, verbose=1)\n",
    "print(\"Accuracy:\", scores[1])"
   ]
  },
  {
   "cell_type": "markdown",
   "metadata": {},
   "source": [
    "### Graph results of RNN "
   ]
  },
  {
   "cell_type": "code",
   "execution_count": 30,
   "metadata": {},
   "outputs": [
    {
     "data": {
      "text/plain": [
       "<matplotlib.legend.Legend at 0x7f25afc3dad0>"
      ]
     },
     "execution_count": 30,
     "metadata": {},
     "output_type": "execute_result"
    },
    {
     "data": {
      "image/png": "[encoded data removed]",
      "text/plain": [
       "<Figure size 432x288 with 1 Axes>"
      ]
     },
     "metadata": {
      "needs_background": "light"
     },
     "output_type": "display_data"
    }
   ],
   "source": [
    "%matplotlib inline\n",
    "import matplotlib.pyplot as plt\n",
    "\n",
    "acc=rnn.history['accuracy']\n",
    "loss=rnn.history['loss']\n",
    "\n",
    "\n",
    "epochs=range(len(acc))\n",
    "\n",
    "plt.plot(epochs,acc,'bo', alpha = 0.6, label='acc')\n",
    "plt.ylim(0,1.2)\n",
    "plt.plot(epochs, loss,'go',alpha=0.6, label='loss')\n",
    "plt.title('Model accuracy and Loss')\n",
    "plt.legend()"
   ]
  },
  {
   "cell_type": "code",
   "execution_count": null,
   "metadata": {},
   "outputs": [],
   "source": []
  }
 ],
 "metadata": {
  "accelerator": "GPU",
  "colab": {
   "collapsed_sections": [],
   "name": "AI_540.ipynb",
   "provenance": [],
   "toc_visible": true
  },
  "kernelspec": {
   "display_name": "Python 3",
   "language": "python",
   "name": "python3"
  },
  "language_info": {
   "codemirror_mode": {
    "name": "ipython",
    "version": 3
   },
   "file_extension": ".py",
   "mimetype": "text/x-python",
   "name": "python",
   "nbconvert_exporter": "python",
   "pygments_lexer": "ipython3",
   "version": "3.7.7"
  }
 },
 "nbformat": 4,
 "nbformat_minor": 1
}
