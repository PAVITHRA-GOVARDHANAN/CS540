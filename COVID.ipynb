{
 "cells": [
  {
   "cell_type": "markdown",
   "metadata": {
    "colab": {
     "base_uri": "https://localhost:8080/",
     "height": 67
    },
    "colab_type": "code",
    "executionInfo": {
     "elapsed": 896,
     "status": "ok",
     "timestamp": 1587683971246,
     "user": {
      "displayName": "Pavithra Govardhanan",
      "photoUrl": "",
      "userId": "09897390697507392118"
     },
     "user_tz": 360
    },
    "id": "ALd0QEmzk6mr",
    "outputId": "f7c2be8a-e90a-4f1a-fe42-829554b06629"
   },
   "source": [
    "# *CS540 PROJECT : COVID CHATBOT*"
   ]
  },
  {
   "cell_type": "markdown",
   "metadata": {},
   "source": [
    "-**_by TEAM F_**\n",
    "- **Pavithra Govardhanan**\n",
    "- **Saptarshi Chatterjee**\n",
    "- **Shree Harini Ravichandran**\n",
    "- **Rusha Lawande**\n",
    "\n",
    "\n"
   ]
  },
  {
   "cell_type": "markdown",
   "metadata": {},
   "source": [
    "### Importing Packages "
   ]
  },
  {
   "cell_type": "code",
   "execution_count": 2,
   "metadata": {},
   "outputs": [
    {
     "name": "stderr",
     "output_type": "stream",
     "text": [
      "C:\\Users\\pavig\\anaconda3\\lib\\site-packages\\tensorflow\\python\\framework\\dtypes.py:516: FutureWarning: Passing (type, 1) or '1type' as a synonym of type is deprecated; in a future version of numpy, it will be understood as (type, (1,)) / '(1,)type'.\n",
      "  _np_qint8 = np.dtype([(\"qint8\", np.int8, 1)])\n",
      "C:\\Users\\pavig\\anaconda3\\lib\\site-packages\\tensorflow\\python\\framework\\dtypes.py:517: FutureWarning: Passing (type, 1) or '1type' as a synonym of type is deprecated; in a future version of numpy, it will be understood as (type, (1,)) / '(1,)type'.\n",
      "  _np_quint8 = np.dtype([(\"quint8\", np.uint8, 1)])\n",
      "C:\\Users\\pavig\\anaconda3\\lib\\site-packages\\tensorflow\\python\\framework\\dtypes.py:518: FutureWarning: Passing (type, 1) or '1type' as a synonym of type is deprecated; in a future version of numpy, it will be understood as (type, (1,)) / '(1,)type'.\n",
      "  _np_qint16 = np.dtype([(\"qint16\", np.int16, 1)])\n",
      "C:\\Users\\pavig\\anaconda3\\lib\\site-packages\\tensorflow\\python\\framework\\dtypes.py:519: FutureWarning: Passing (type, 1) or '1type' as a synonym of type is deprecated; in a future version of numpy, it will be understood as (type, (1,)) / '(1,)type'.\n",
      "  _np_quint16 = np.dtype([(\"quint16\", np.uint16, 1)])\n",
      "C:\\Users\\pavig\\anaconda3\\lib\\site-packages\\tensorflow\\python\\framework\\dtypes.py:520: FutureWarning: Passing (type, 1) or '1type' as a synonym of type is deprecated; in a future version of numpy, it will be understood as (type, (1,)) / '(1,)type'.\n",
      "  _np_qint32 = np.dtype([(\"qint32\", np.int32, 1)])\n",
      "C:\\Users\\pavig\\anaconda3\\lib\\site-packages\\tensorflow\\python\\framework\\dtypes.py:525: FutureWarning: Passing (type, 1) or '1type' as a synonym of type is deprecated; in a future version of numpy, it will be understood as (type, (1,)) / '(1,)type'.\n",
      "  np_resource = np.dtype([(\"resource\", np.ubyte, 1)])\n",
      "C:\\Users\\pavig\\anaconda3\\lib\\site-packages\\tensorboard\\compat\\tensorflow_stub\\dtypes.py:541: FutureWarning: Passing (type, 1) or '1type' as a synonym of type is deprecated; in a future version of numpy, it will be understood as (type, (1,)) / '(1,)type'.\n",
      "  _np_qint8 = np.dtype([(\"qint8\", np.int8, 1)])\n",
      "C:\\Users\\pavig\\anaconda3\\lib\\site-packages\\tensorboard\\compat\\tensorflow_stub\\dtypes.py:542: FutureWarning: Passing (type, 1) or '1type' as a synonym of type is deprecated; in a future version of numpy, it will be understood as (type, (1,)) / '(1,)type'.\n",
      "  _np_quint8 = np.dtype([(\"quint8\", np.uint8, 1)])\n",
      "C:\\Users\\pavig\\anaconda3\\lib\\site-packages\\tensorboard\\compat\\tensorflow_stub\\dtypes.py:543: FutureWarning: Passing (type, 1) or '1type' as a synonym of type is deprecated; in a future version of numpy, it will be understood as (type, (1,)) / '(1,)type'.\n",
      "  _np_qint16 = np.dtype([(\"qint16\", np.int16, 1)])\n",
      "C:\\Users\\pavig\\anaconda3\\lib\\site-packages\\tensorboard\\compat\\tensorflow_stub\\dtypes.py:544: FutureWarning: Passing (type, 1) or '1type' as a synonym of type is deprecated; in a future version of numpy, it will be understood as (type, (1,)) / '(1,)type'.\n",
      "  _np_quint16 = np.dtype([(\"quint16\", np.uint16, 1)])\n",
      "C:\\Users\\pavig\\anaconda3\\lib\\site-packages\\tensorboard\\compat\\tensorflow_stub\\dtypes.py:545: FutureWarning: Passing (type, 1) or '1type' as a synonym of type is deprecated; in a future version of numpy, it will be understood as (type, (1,)) / '(1,)type'.\n",
      "  _np_qint32 = np.dtype([(\"qint32\", np.int32, 1)])\n",
      "C:\\Users\\pavig\\anaconda3\\lib\\site-packages\\tensorboard\\compat\\tensorflow_stub\\dtypes.py:550: FutureWarning: Passing (type, 1) or '1type' as a synonym of type is deprecated; in a future version of numpy, it will be understood as (type, (1,)) / '(1,)type'.\n",
      "  np_resource = np.dtype([(\"resource\", np.ubyte, 1)])\n",
      "[nltk_data] Downloading package punkt to\n",
      "[nltk_data]     C:\\Users\\pavig\\AppData\\Roaming\\nltk_data...\n",
      "[nltk_data]   Package punkt is already up-to-date!\n"
     ]
    },
    {
     "data": {
      "text/plain": [
       "True"
      ]
     },
     "execution_count": 2,
     "metadata": {},
     "output_type": "execute_result"
    }
   ],
   "source": [
    "import numpy\n",
    "import random\n",
    "import json\n",
    "import pickle\n",
    "import nltk\n",
    "import tensorflow as tf\n",
    "from flask import Flask,render_template\n",
    "import flask_restful as restful\n",
    "from flask_restful import reqparse, abort, Api, Resource\n",
    "from tensorflow.keras.preprocessing.text import Tokenizer\n",
    "from tensorflow.keras.preprocessing.sequence import pad_sequences\n",
    "from tensorflow.keras import backend\n",
    "from tensorflow.keras.models import Sequential, load_model\n",
    "from tensorflow.keras.layers import LSTM, Dense, RepeatVector, Masking, TimeDistributed\n",
    "from tensorflow. keras.utils import plot_model\n",
    "from tensorflow.keras.models import Sequential\n",
    "from nltk.stem.lancaster import LancasterStemmer\n",
    "\n",
    "nltk.download('punkt')"
   ]
  },
  {
   "cell_type": "markdown",
   "metadata": {
    "colab": {
     "base_uri": "https://localhost:8080/",
     "height": 34
    },
    "colab_type": "code",
    "executionInfo": {
     "elapsed": 1434,
     "status": "ok",
     "timestamp": 1587683971889,
     "user": {
      "displayName": "Pavithra Govardhanan",
      "photoUrl": "",
      "userId": "09897390697507392118"
     },
     "user_tz": 360
    },
    "id": "nJlK8MlKVJjX",
    "outputId": "726d21d0-f44f-4635-97ac-910932ac48f2"
   },
   "source": [
    "### Reading JSON File "
   ]
  },
  {
   "cell_type": "code",
   "execution_count": 3,
   "metadata": {
    "colab": {},
    "colab_type": "code",
    "id": "yOYmZ2qxk6mv"
   },
   "outputs": [],
   "source": [
    "with open(\"covid_dataset.json\",encoding=\"utf-8\") as data:\n",
    "        contents = json.load(data)"
   ]
  },
  {
   "cell_type": "markdown",
   "metadata": {},
   "source": [
    "### Pre-Processing"
   ]
  },
  {
   "cell_type": "code",
   "execution_count": 4,
   "metadata": {
    "colab": {},
    "colab_type": "code",
    "id": "rifMludtk6mx"
   },
   "outputs": [],
   "source": [
    "try:\n",
    "    # [IMP: If you changing the json input data, delete the pickle file and try running code again]\n",
    "\n",
    "    # Try loading already pre-processed data from the pickle file.\n",
    "    with open(\"cache.pickle\", \"rb\") as f:\n",
    "        vocabulary, labels, training, output = pickle.load(f)\n",
    "\n",
    "except:\n",
    "\n",
    "    # If no stored data in pickle file, pre-process the data, and store it now.\n",
    "    vocabulary = []\n",
    "    labels = []\n",
    "    docs_x = []\n",
    "    docs_y = []\n",
    "\n",
    "    # Extract words from the patterns, extract labels (tags)\n",
    "\n",
    "    for intent in data[\"intents\"]:\n",
    "        for pattern in intent[\"patterns\"]:\n",
    "\n",
    "            tokenized_words = nltk.word_tokenize(pattern) #toknising the data\n",
    "            vocabulary.extend(tokenized_words)  #What is extending?\n",
    "            docs_x.append(tokenized_words)\n",
    "            docs_y.append(intent[\"tag\"])\n",
    "\n",
    "        if intent[\"tag\"] not in labels:\n",
    "            labels.append(intent[\"tag\"])\n",
    "\n",
    "    \n",
    "    vocabulary = [word_stemmer.stem(w.lower()) for w in vocabulary if w != \"?\"] \n",
    "    vocabulary = sorted(list(set(vocabulary)))\n",
    "\n",
    "    labels = sorted(labels)\n",
    "\n",
    "\n",
    "    training = []\n",
    "    output = []\n",
    "\n",
    "    out_empty = [0 for _ in range(len(labels))]\n",
    "\n",
    "    for x, doc in enumerate(docs_x):\n",
    "        bag_of_words = []\n",
    "\n",
    "        wrds = [word_stemmer.stem(w) for w in doc]\n",
    "\n",
    "        for w in vocabulary:\n",
    "            if w in wrds:\n",
    "                bag_of_words.append(1)\n",
    "            else:\n",
    "                bag_of_words.append(0)\n",
    "\n",
    "        output_row = out_empty[:]\n",
    "        output_row[labels.index(docs_y[x])] = 1\n",
    "\n",
    "        training.append(bag_of_words)\n",
    "#         print(training)\n",
    "        output.append(output_row)\n",
    "\n",
    "  \n",
    "\n",
    "    training = numpy.array(training)\n",
    "    output = numpy.array(output)\n",
    "\n",
    "    # Write the pre-processed data into the pickle file to use it subsequent time.\n",
    "    with open(\"cache.pickle\", \"wb\") as f:\n",
    "        pickle.dump((vocabulary, labels, training, output), f)\n",
    "\n"
   ]
  },
  {
   "cell_type": "code",
   "execution_count": 5,
   "metadata": {
    "colab": {
     "base_uri": "https://localhost:8080/",
     "height": 34
    },
    "colab_type": "code",
    "executionInfo": {
     "elapsed": 1014,
     "status": "ok",
     "timestamp": 1587683972145,
     "user": {
      "displayName": "Pavithra Govardhanan",
      "photoUrl": "",
      "userId": "09897390697507392118"
     },
     "user_tz": 360
    },
    "id": "NyAFGqrZk6mz",
    "outputId": "950e8724-0039-4a08-cc6c-8e835a9b926e",
    "scrolled": true
   },
   "outputs": [
    {
     "data": {
      "text/plain": [
       "304"
      ]
     },
     "execution_count": 5,
     "metadata": {},
     "output_type": "execute_result"
    }
   ],
   "source": [
    "\n",
    "len(vocabulary)"
   ]
  },
  {
   "cell_type": "markdown",
   "metadata": {
    "colab": {},
    "colab_type": "code",
    "id": "TbSL91ymk6m1"
   },
   "source": [
    "### Bag of Words "
   ]
  },
  {
   "cell_type": "code",
   "execution_count": 6,
   "metadata": {},
   "outputs": [],
   "source": [
    "def bag_of_words(user_query, vocabulary):\n",
    "    bag = [0 for _ in range(len(vocabulary))]\n",
    "\n",
    "    s_words = nltk.word_tokenize(user_query)\n",
    "    s_words = [word_stemmer.stem(word.lower()) for word in s_words]\n",
    "\n",
    "    for se in s_words:\n",
    "        for i, w in enumerate(vocabulary):\n",
    "            if se == w:\n",
    "                bag[i] = 1\n",
    "\n",
    "    return numpy.array(bag)\n"
   ]
  },
  {
   "cell_type": "markdown",
   "metadata": {},
   "source": [
    "### Convolutional Neural Network(CNN) "
   ]
  },
  {
   "cell_type": "code",
   "execution_count": 7,
   "metadata": {
    "colab": {},
    "colab_type": "code",
    "id": "v7i98tuPk6m3"
   },
   "outputs": [
    {
     "name": "stdout",
     "output_type": "stream",
     "text": [
      "WARNING:tensorflow:From C:\\Users\\pavig\\anaconda3\\lib\\site-packages\\tensorflow\\python\\keras\\initializers.py:119: calling RandomUniform.__init__ (from tensorflow.python.ops.init_ops) with dtype is deprecated and will be removed in a future version.\n",
      "Instructions for updating:\n",
      "Call initializer instance with the dtype argument instead of passing it to the constructor\n",
      "WARNING:tensorflow:From C:\\Users\\pavig\\anaconda3\\lib\\site-packages\\tensorflow\\python\\ops\\init_ops.py:1251: calling VarianceScaling.__init__ (from tensorflow.python.ops.init_ops) with dtype is deprecated and will be removed in a future version.\n",
      "Instructions for updating:\n",
      "Call initializer instance with the dtype argument instead of passing it to the constructor\n"
     ]
    }
   ],
   "source": [
    "from tensorflow.keras.models import Sequential\n",
    "from tensorflow.keras.layers import Dense, Dropout, Flatten\n",
    "from tensorflow.keras.layers import Conv1D, MaxPooling1D, Embedding, LSTM\n",
    "cnn_model = Sequential()\n",
    "cnn_model.add(Embedding(304, 32, input_length=304))\n",
    "cnn_model.add(Conv1D(128, 5, activation='relu'))\n",
    "cnn_model.add(MaxPooling1D(pool_size = 3))\n",
    "# model.add(LSTM(100))\n",
    "cnn_model.add(Flatten())\n",
    "cnn_model.add(Dense(50, activation='relu'))\n",
    "cnn_model.add(Dense(172,activation='softmax'))\n",
    "cnn_model.compile(optimizer='adam',\n",
    "              loss='binary_crossentropy',\n",
    "              metrics=['accuracy'])"
   ]
  },
  {
   "cell_type": "code",
   "execution_count": 8,
   "metadata": {
    "colab": {
     "base_uri": "https://localhost:8080/",
     "height": 353
    },
    "colab_type": "code",
    "executionInfo": {
     "elapsed": 1517,
     "status": "ok",
     "timestamp": 1587683973154,
     "user": {
      "displayName": "Pavithra Govardhanan",
      "photoUrl": "",
      "userId": "09897390697507392118"
     },
     "user_tz": 360
    },
    "id": "Zz4264rI-oqf",
    "outputId": "401e4a43-278f-4925-a8d4-544f0b326432"
   },
   "outputs": [
    {
     "name": "stdout",
     "output_type": "stream",
     "text": [
      "Model: \"sequential\"\n",
      "_________________________________________________________________\n",
      "Layer (type)                 Output Shape              Param #   \n",
      "=================================================================\n",
      "embedding (Embedding)        (None, 304, 32)           9728      \n",
      "_________________________________________________________________\n",
      "conv1d (Conv1D)              (None, 300, 128)          20608     \n",
      "_________________________________________________________________\n",
      "max_pooling1d (MaxPooling1D) (None, 100, 128)          0         \n",
      "_________________________________________________________________\n",
      "flatten (Flatten)            (None, 12800)             0         \n",
      "_________________________________________________________________\n",
      "dense (Dense)                (None, 50)                640050    \n",
      "_________________________________________________________________\n",
      "dense_1 (Dense)              (None, 172)               8772      \n",
      "=================================================================\n",
      "Total params: 679,158\n",
      "Trainable params: 679,158\n",
      "Non-trainable params: 0\n",
      "_________________________________________________________________\n"
     ]
    }
   ],
   "source": [
    "cnn_model.summary()"
   ]
  },
  {
   "cell_type": "code",
   "execution_count": 9,
   "metadata": {
    "colab": {
     "base_uri": "https://localhost:8080/",
     "height": 1000
    },
    "colab_type": "code",
    "executionInfo": {
     "elapsed": 5808,
     "status": "ok",
     "timestamp": 1587683977608,
     "user": {
      "displayName": "Pavithra Govardhanan",
      "photoUrl": "",
      "userId": "09897390697507392118"
     },
     "user_tz": 360
    },
    "id": "iK9z47C9q1pi",
    "outputId": "57576ceb-1159-46a9-96c9-f14eccc4fdb1"
   },
   "outputs": [
    {
     "name": "stdout",
     "output_type": "stream",
     "text": [
      "WARNING:tensorflow:From C:\\Users\\pavig\\anaconda3\\lib\\site-packages\\tensorflow\\python\\ops\\math_grad.py:1250: add_dispatch_support.<locals>.wrapper (from tensorflow.python.ops.array_ops) is deprecated and will be removed in a future version.\n",
      "Instructions for updating:\n",
      "Use tf.where in 2.0, which has the same broadcast rule as np.where\n",
      "Epoch 1/100\n",
      "428/428 - 0s - loss: 0.0357 - acc: 0.9942\n",
      "Epoch 2/100\n",
      "428/428 - 0s - loss: 0.0353 - acc: 0.9942\n",
      "Epoch 3/100\n",
      "428/428 - 0s - loss: 0.0347 - acc: 0.9942\n",
      "Epoch 4/100\n",
      "428/428 - 0s - loss: 0.0333 - acc: 0.9942\n",
      "Epoch 5/100\n",
      "428/428 - 0s - loss: 0.0296 - acc: 0.9942\n",
      "Epoch 6/100\n",
      "428/428 - 0s - loss: 0.0243 - acc: 0.9944\n",
      "Epoch 7/100\n",
      "428/428 - 0s - loss: 0.0188 - acc: 0.9952\n",
      "Epoch 8/100\n",
      "428/428 - 0s - loss: 0.0149 - acc: 0.9960\n",
      "Epoch 9/100\n",
      "428/428 - 0s - loss: 0.0118 - acc: 0.9970\n",
      "Epoch 10/100\n",
      "428/428 - 0s - loss: 0.0082 - acc: 0.9976\n",
      "Epoch 11/100\n",
      "428/428 - 0s - loss: 0.0057 - acc: 0.9982\n",
      "Epoch 12/100\n",
      "428/428 - 0s - loss: 0.0049 - acc: 0.9986\n",
      "Epoch 13/100\n",
      "428/428 - 0s - loss: 0.0048 - acc: 0.9987\n",
      "Epoch 14/100\n",
      "428/428 - 0s - loss: 0.0030 - acc: 0.9992\n",
      "Epoch 15/100\n",
      "428/428 - 0s - loss: 0.0020 - acc: 0.9994\n",
      "Epoch 16/100\n",
      "428/428 - 0s - loss: 0.0013 - acc: 0.9995\n",
      "Epoch 17/100\n",
      "428/428 - 0s - loss: 0.0018 - acc: 0.9994\n",
      "Epoch 18/100\n",
      "428/428 - 0s - loss: 0.0017 - acc: 0.9994\n",
      "Epoch 19/100\n",
      "428/428 - 0s - loss: 0.0013 - acc: 0.9994\n",
      "Epoch 20/100\n",
      "428/428 - 0s - loss: 0.0011 - acc: 0.9995\n",
      "Epoch 21/100\n",
      "428/428 - 0s - loss: 0.0013 - acc: 0.9995\n",
      "Epoch 22/100\n",
      "428/428 - 0s - loss: 9.7007e-04 - acc: 0.9996\n",
      "Epoch 23/100\n",
      "428/428 - 0s - loss: 9.7843e-04 - acc: 0.9996\n",
      "Epoch 24/100\n",
      "428/428 - 0s - loss: 8.6659e-04 - acc: 0.9995\n",
      "Epoch 25/100\n",
      "428/428 - 0s - loss: 8.4205e-04 - acc: 0.9996\n",
      "Epoch 26/100\n",
      "428/428 - 0s - loss: 9.9347e-04 - acc: 0.9995\n",
      "Epoch 27/100\n",
      "428/428 - 0s - loss: 8.5955e-04 - acc: 0.9995\n",
      "Epoch 28/100\n",
      "428/428 - 0s - loss: 0.0013 - acc: 0.9995\n",
      "Epoch 29/100\n",
      "428/428 - 0s - loss: 8.5554e-04 - acc: 0.9996\n",
      "Epoch 30/100\n",
      "428/428 - 0s - loss: 8.3939e-04 - acc: 0.9996\n",
      "Epoch 31/100\n",
      "428/428 - 0s - loss: 9.6080e-04 - acc: 0.9995\n",
      "Epoch 32/100\n",
      "428/428 - 0s - loss: 0.0010 - acc: 0.9995\n",
      "Epoch 33/100\n",
      "428/428 - 0s - loss: 9.2808e-04 - acc: 0.9995\n",
      "Epoch 34/100\n",
      "428/428 - 0s - loss: 8.4872e-04 - acc: 0.9996\n",
      "Epoch 35/100\n",
      "428/428 - 0s - loss: 8.9168e-04 - acc: 0.9995\n",
      "Epoch 36/100\n",
      "428/428 - 0s - loss: 7.1371e-04 - acc: 0.9995\n",
      "Epoch 37/100\n",
      "428/428 - 0s - loss: 7.4532e-04 - acc: 0.9996\n",
      "Epoch 38/100\n",
      "428/428 - 0s - loss: 9.2686e-04 - acc: 0.9996\n",
      "Epoch 39/100\n",
      "428/428 - 0s - loss: 7.8201e-04 - acc: 0.9996\n",
      "Epoch 40/100\n",
      "428/428 - 0s - loss: 6.6324e-04 - acc: 0.9996\n",
      "Epoch 41/100\n",
      "428/428 - 0s - loss: 8.1220e-04 - acc: 0.9995\n",
      "Epoch 42/100\n",
      "428/428 - 0s - loss: 8.2619e-04 - acc: 0.9994\n",
      "Epoch 43/100\n",
      "428/428 - 0s - loss: 7.0021e-04 - acc: 0.9996\n",
      "Epoch 44/100\n",
      "428/428 - 0s - loss: 7.3438e-04 - acc: 0.9994\n",
      "Epoch 45/100\n",
      "428/428 - 0s - loss: 8.4368e-04 - acc: 0.9996\n",
      "Epoch 46/100\n",
      "428/428 - 0s - loss: 0.0010 - acc: 0.9995\n",
      "Epoch 47/100\n",
      "428/428 - 0s - loss: 6.5932e-04 - acc: 0.9996\n",
      "Epoch 48/100\n",
      "428/428 - 0s - loss: 7.5612e-04 - acc: 0.9996\n",
      "Epoch 49/100\n",
      "428/428 - 0s - loss: 7.3599e-04 - acc: 0.9996\n",
      "Epoch 50/100\n",
      "428/428 - 0s - loss: 7.2067e-04 - acc: 0.9996\n",
      "Epoch 51/100\n",
      "428/428 - 0s - loss: 6.6288e-04 - acc: 0.9996\n",
      "Epoch 52/100\n",
      "428/428 - 0s - loss: 6.7813e-04 - acc: 0.9995\n",
      "Epoch 53/100\n",
      "428/428 - 0s - loss: 6.9765e-04 - acc: 0.9995\n",
      "Epoch 54/100\n",
      "428/428 - 0s - loss: 7.4007e-04 - acc: 0.9996\n",
      "Epoch 55/100\n",
      "428/428 - 0s - loss: 6.8563e-04 - acc: 0.9996\n",
      "Epoch 56/100\n",
      "428/428 - 0s - loss: 6.8691e-04 - acc: 0.9995\n",
      "Epoch 57/100\n",
      "428/428 - 0s - loss: 6.6519e-04 - acc: 0.9995\n",
      "Epoch 58/100\n",
      "428/428 - 0s - loss: 6.8901e-04 - acc: 0.9996\n",
      "Epoch 59/100\n",
      "428/428 - 0s - loss: 8.0582e-04 - acc: 0.9996\n",
      "Epoch 60/100\n",
      "428/428 - 0s - loss: 7.2439e-04 - acc: 0.9996\n",
      "Epoch 61/100\n",
      "428/428 - 0s - loss: 6.4139e-04 - acc: 0.9996\n",
      "Epoch 62/100\n",
      "428/428 - 0s - loss: 6.3328e-04 - acc: 0.9995\n",
      "Epoch 63/100\n",
      "428/428 - 0s - loss: 6.2279e-04 - acc: 0.9996\n",
      "Epoch 64/100\n",
      "428/428 - 0s - loss: 6.6327e-04 - acc: 0.9996\n",
      "Epoch 65/100\n",
      "428/428 - 0s - loss: 6.3695e-04 - acc: 0.9996\n",
      "Epoch 66/100\n",
      "428/428 - 0s - loss: 6.8755e-04 - acc: 0.9996\n",
      "Epoch 67/100\n",
      "428/428 - 0s - loss: 6.2869e-04 - acc: 0.9996\n",
      "Epoch 68/100\n",
      "428/428 - 0s - loss: 6.2776e-04 - acc: 0.9995\n",
      "Epoch 69/100\n",
      "428/428 - 0s - loss: 6.6130e-04 - acc: 0.9995\n",
      "Epoch 70/100\n",
      "428/428 - 0s - loss: 7.0204e-04 - acc: 0.9994\n",
      "Epoch 71/100\n",
      "428/428 - 0s - loss: 6.7202e-04 - acc: 0.9995\n",
      "Epoch 72/100\n",
      "428/428 - 0s - loss: 6.3964e-04 - acc: 0.9995\n",
      "Epoch 73/100\n",
      "428/428 - 0s - loss: 6.0199e-04 - acc: 0.9996\n",
      "Epoch 74/100\n",
      "428/428 - 0s - loss: 6.1425e-04 - acc: 0.9995\n",
      "Epoch 75/100\n",
      "428/428 - 0s - loss: 6.0793e-04 - acc: 0.9996\n",
      "Epoch 76/100\n",
      "428/428 - 0s - loss: 7.0588e-04 - acc: 0.9995\n",
      "Epoch 77/100\n",
      "428/428 - 0s - loss: 0.0015 - acc: 0.9993\n",
      "Epoch 78/100\n",
      "428/428 - 0s - loss: 0.0024 - acc: 0.9991\n",
      "Epoch 79/100\n",
      "428/428 - 0s - loss: 0.0026 - acc: 0.9991\n",
      "Epoch 80/100\n",
      "428/428 - 0s - loss: 0.0022 - acc: 0.9992\n",
      "Epoch 81/100\n",
      "428/428 - 0s - loss: 0.0014 - acc: 0.9994\n",
      "Epoch 82/100\n",
      "428/428 - 0s - loss: 0.0015 - acc: 0.9994\n",
      "Epoch 83/100\n",
      "428/428 - 0s - loss: 7.8086e-04 - acc: 0.9995\n",
      "Epoch 84/100\n",
      "428/428 - 0s - loss: 9.0247e-04 - acc: 0.9995\n",
      "Epoch 85/100\n",
      "428/428 - 0s - loss: 6.6875e-04 - acc: 0.9995\n",
      "Epoch 86/100\n",
      "428/428 - 0s - loss: 6.9303e-04 - acc: 0.9995\n",
      "Epoch 87/100\n",
      "428/428 - 0s - loss: 6.1720e-04 - acc: 0.9995\n",
      "Epoch 88/100\n",
      "428/428 - 0s - loss: 6.0849e-04 - acc: 0.9996\n",
      "Epoch 89/100\n",
      "428/428 - 0s - loss: 6.4126e-04 - acc: 0.9995\n",
      "Epoch 90/100\n",
      "428/428 - 0s - loss: 6.1341e-04 - acc: 0.9995\n",
      "Epoch 91/100\n",
      "428/428 - 0s - loss: 6.1144e-04 - acc: 0.9995\n",
      "Epoch 92/100\n",
      "428/428 - 0s - loss: 6.1119e-04 - acc: 0.9995\n",
      "Epoch 93/100\n",
      "428/428 - 0s - loss: 5.6941e-04 - acc: 0.9996\n",
      "Epoch 94/100\n",
      "428/428 - 0s - loss: 5.8883e-04 - acc: 0.9996\n",
      "Epoch 95/100\n",
      "428/428 - 0s - loss: 5.9509e-04 - acc: 0.9994\n",
      "Epoch 96/100\n",
      "428/428 - 0s - loss: 5.8753e-04 - acc: 0.9995\n",
      "Epoch 97/100\n",
      "428/428 - 0s - loss: 5.6982e-04 - acc: 0.9995\n",
      "Epoch 98/100\n",
      "428/428 - 0s - loss: 6.0197e-04 - acc: 0.9996\n",
      "Epoch 99/100\n",
      "428/428 - 0s - loss: 7.0517e-04 - acc: 0.9995\n",
      "Epoch 100/100\n",
      "428/428 - 0s - loss: 5.8847e-04 - acc: 0.9996\n"
     ]
    }
   ],
   "source": [
    "cnn=cnn_model.fit(training, output, epochs=100,verbose = 2, batch_size=16)"
   ]
  },
  {
   "cell_type": "code",
   "execution_count": 10,
   "metadata": {
    "colab": {
     "base_uri": "https://localhost:8080/",
     "height": 34
    },
    "colab_type": "code",
    "executionInfo": {
     "elapsed": 5666,
     "status": "ok",
     "timestamp": 1587683977609,
     "user": {
      "displayName": "Pavithra Govardhanan",
      "photoUrl": "",
      "userId": "09897390697507392118"
     },
     "user_tz": 360
    },
    "id": "2DOgm44HHtcv",
    "outputId": "cf640d1a-9e5a-4e54-b7a8-f9320026d602"
   },
   "outputs": [
    {
     "name": "stdout",
     "output_type": "stream",
     "text": [
      "Model saved successfully...\n"
     ]
    }
   ],
   "source": [
    "cnn_model.save('model_covid_cnn.h5')\n",
    "print(\"Model saved successfully...\")"
   ]
  },
  {
   "cell_type": "markdown",
   "metadata": {},
   "source": [
    "### Accuracy (CNN) "
   ]
  },
  {
   "cell_type": "code",
   "execution_count": 11,
   "metadata": {},
   "outputs": [
    {
     "name": "stdout",
     "output_type": "stream",
     "text": [
      "428/428 [==============================] - 0s 176us/sample - loss: 5.2302e-04 - acc: 0.9996\n",
      "Accuracy: 0.9996469\n"
     ]
    }
   ],
   "source": [
    "\n",
    "\n",
    "scores = cnn_model.evaluate(training, output, verbose=1)\n",
    "print(\"Accuracy:\", scores[1])"
   ]
  },
  {
   "cell_type": "markdown",
   "metadata": {},
   "source": [
    "### Graph results of CNN "
   ]
  },
  {
   "cell_type": "code",
   "execution_count": 12,
   "metadata": {
    "colab": {},
    "colab_type": "code",
    "id": "SSelAUXxk6m-"
   },
   "outputs": [
    {
     "data": {
      "image/png": "[encoded data removed]",
      "text/plain": [
       "<Figure size 432x288 with 1 Axes>"
      ]
     },
     "metadata": {
      "needs_background": "light"
     },
     "output_type": "display_data"
    }
   ],
   "source": [
    "%matplotlib inline\n",
    "import matplotlib.pyplot as plt\n",
    "\n",
    "plt.plot(cnn.history['acc'])\n",
    "plt.title('model accuracy')\n",
    "plt.ylim(0.9990,0.9999)\n",
    "plt.xlim(0,100)\n",
    "plt.ylabel('accuracy')\n",
    "plt.xlabel('epoch')\n",
    "plt.legend(['accuracy'], loc='upper left')\n",
    "plt.show()"
   ]
  },
  {
   "cell_type": "code",
   "execution_count": 14,
   "metadata": {
    "scrolled": true
   },
   "outputs": [
    {
     "data": {
      "image/png": "[encoded data removed]",
      "text/plain": [
       "<Figure size 432x288 with 1 Axes>"
      ]
     },
     "metadata": {
      "needs_background": "light"
     },
     "output_type": "display_data"
    }
   ],
   "source": [
    "%matplotlib inline\n",
    "import matplotlib.pyplot as plt\n",
    "\n",
    "plt.plot(cnn.history['loss'])\n",
    "plt.title('model loss')\n",
    "plt.ylim(-0.005,0.02)\n",
    "plt.xlim(0,100)\n",
    "plt.ylabel('loss')\n",
    "plt.xlabel('epoch')\n",
    "plt.legend(['loss'], loc='upper left')\n",
    "plt.show()"
   ]
  },
  {
   "cell_type": "markdown",
   "metadata": {},
   "source": [
    "### Recurrent Neural Network (RNN)"
   ]
  },
  {
   "cell_type": "code",
   "execution_count": 15,
   "metadata": {},
   "outputs": [
    {
     "name": "stderr",
     "output_type": "stream",
     "text": [
      "Using TensorFlow backend.\n"
     ]
    }
   ],
   "source": [
    "from keras.models import Sequential\n",
    "from keras.layers import Dense, Dropout, Flatten\n",
    "from keras.layers import Conv1D, MaxPooling1D, Embedding, LSTM,SimpleRNN\n",
    "rnn_model = Sequential()\n",
    "rnn_model.add(Embedding(304, 32, input_length=304))\n",
    "rnn_model.add(SimpleRNN(128, activation='relu', return_sequences=True))\n",
    "rnn_model.add(Flatten())\n",
    "rnn_model.add(Dense(50, activation='relu'))\n",
    "rnn_model.add(Dense(172,activation='softmax'))\n",
    "rnn_model.compile(optimizer='adam',\n",
    "              loss='categorical_crossentropy',\n",
    "              metrics=['accuracy'])"
   ]
  },
  {
   "cell_type": "code",
   "execution_count": 16,
   "metadata": {},
   "outputs": [
    {
     "name": "stdout",
     "output_type": "stream",
     "text": [
      "Model: \"sequential_1\"\n",
      "_________________________________________________________________\n",
      "Layer (type)                 Output Shape              Param #   \n",
      "=================================================================\n",
      "embedding_1 (Embedding)      (None, 304, 32)           9728      \n",
      "_________________________________________________________________\n",
      "simple_rnn_1 (SimpleRNN)     (None, 304, 128)          20608     \n",
      "_________________________________________________________________\n",
      "flatten_1 (Flatten)          (None, 38912)             0         \n",
      "_________________________________________________________________\n",
      "dense_1 (Dense)              (None, 50)                1945650   \n",
      "_________________________________________________________________\n",
      "dense_2 (Dense)              (None, 172)               8772      \n",
      "=================================================================\n",
      "Total params: 1,984,758\n",
      "Trainable params: 1,984,758\n",
      "Non-trainable params: 0\n",
      "_________________________________________________________________\n"
     ]
    }
   ],
   "source": [
    "rnn_model.summary()"
   ]
  },
  {
   "cell_type": "code",
   "execution_count": 17,
   "metadata": {
    "scrolled": true
   },
   "outputs": [
    {
     "name": "stdout",
     "output_type": "stream",
     "text": [
      "WARNING:tensorflow:From C:\\Users\\pavig\\anaconda3\\lib\\site-packages\\keras\\backend\\tensorflow_backend.py:422: The name tf.global_variables is deprecated. Please use tf.compat.v1.global_variables instead.\n",
      "\n",
      "Train on 385 samples, validate on 43 samples\n",
      "Epoch 1/100\n",
      " - 2s - loss: 5.1387 - accuracy: 0.0104 - val_loss: 5.2224 - val_accuracy: 0.0000e+00\n",
      "Epoch 2/100\n",
      " - 2s - loss: 4.9781 - accuracy: 0.0208 - val_loss: 5.6572 - val_accuracy: 0.0000e+00\n",
      "Epoch 3/100\n",
      " - 2s - loss: 4.1964 - accuracy: 0.1818 - val_loss: 8.6300 - val_accuracy: 0.0465\n",
      "Epoch 4/100\n",
      " - 2s - loss: 2.7957 - accuracy: 0.4364 - val_loss: 11.9850 - val_accuracy: 0.0465\n",
      "Epoch 5/100\n",
      " - 2s - loss: 1.6446 - accuracy: 0.6000 - val_loss: 18.3188 - val_accuracy: 0.0465\n",
      "Epoch 6/100\n",
      " - 2s - loss: 1.0217 - accuracy: 0.7299 - val_loss: 28.3346 - val_accuracy: 0.0465\n",
      "Epoch 7/100\n",
      " - 2s - loss: 0.6790 - accuracy: 0.8338 - val_loss: 28.2194 - val_accuracy: 0.0465\n",
      "Epoch 8/100\n",
      " - 2s - loss: 0.6016 - accuracy: 0.8831 - val_loss: 28.7234 - val_accuracy: 0.0465\n",
      "Epoch 9/100\n",
      " - 2s - loss: 0.4252 - accuracy: 0.8935 - val_loss: 28.0300 - val_accuracy: 0.0465\n",
      "Epoch 10/100\n",
      " - 2s - loss: 0.2140 - accuracy: 0.9403 - val_loss: 32.3394 - val_accuracy: 0.0465\n",
      "Epoch 11/100\n",
      " - 2s - loss: 0.2329 - accuracy: 0.9377 - val_loss: 33.8274 - val_accuracy: 0.0465\n",
      "Epoch 12/100\n",
      " - 2s - loss: 0.1362 - accuracy: 0.9532 - val_loss: 31.8180 - val_accuracy: 0.0465\n",
      "Epoch 13/100\n",
      " - 2s - loss: 0.1309 - accuracy: 0.9481 - val_loss: 38.5433 - val_accuracy: 0.0465\n",
      "Epoch 14/100\n",
      " - 2s - loss: 0.2674 - accuracy: 0.9429 - val_loss: 22.9674 - val_accuracy: 0.0233\n",
      "Epoch 15/100\n",
      " - 2s - loss: 0.1750 - accuracy: 0.9532 - val_loss: 26.5035 - val_accuracy: 0.0465\n",
      "Epoch 16/100\n",
      " - 2s - loss: 0.1342 - accuracy: 0.9403 - val_loss: 28.3952 - val_accuracy: 0.0465\n",
      "Epoch 17/100\n",
      " - 2s - loss: 0.1104 - accuracy: 0.9506 - val_loss: 30.2283 - val_accuracy: 0.0465\n",
      "Epoch 18/100\n",
      " - 2s - loss: 0.1047 - accuracy: 0.9377 - val_loss: 28.0760 - val_accuracy: 0.0465\n",
      "Epoch 19/100\n",
      " - 2s - loss: 0.1015 - accuracy: 0.9584 - val_loss: 29.3027 - val_accuracy: 0.0465\n",
      "Epoch 20/100\n",
      " - 2s - loss: 0.0807 - accuracy: 0.9481 - val_loss: 29.1719 - val_accuracy: 0.0465\n",
      "Epoch 21/100\n",
      " - 2s - loss: 0.0707 - accuracy: 0.9532 - val_loss: 30.2268 - val_accuracy: 0.0465\n",
      "Epoch 22/100\n",
      " - 2s - loss: 0.0608 - accuracy: 0.9610 - val_loss: 31.7471 - val_accuracy: 0.0465\n",
      "Epoch 23/100\n",
      " - 2s - loss: 0.0723 - accuracy: 0.9584 - val_loss: 31.7504 - val_accuracy: 0.0465\n",
      "Epoch 24/100\n",
      " - 2s - loss: 0.0688 - accuracy: 0.9584 - val_loss: 31.6746 - val_accuracy: 0.0465\n",
      "Epoch 25/100\n",
      " - 2s - loss: 0.0712 - accuracy: 0.9377 - val_loss: 31.1998 - val_accuracy: 0.0465\n",
      "Epoch 26/100\n",
      " - 2s - loss: 0.0668 - accuracy: 0.9455 - val_loss: 31.5237 - val_accuracy: 0.0465\n",
      "Epoch 27/100\n",
      " - 2s - loss: 0.0650 - accuracy: 0.9584 - val_loss: 31.9118 - val_accuracy: 0.0465\n",
      "Epoch 28/100\n",
      " - 2s - loss: 0.0643 - accuracy: 0.9558 - val_loss: 31.9763 - val_accuracy: 0.0465\n",
      "Epoch 29/100\n",
      " - 2s - loss: 0.0645 - accuracy: 0.9558 - val_loss: 32.0830 - val_accuracy: 0.0465\n",
      "Epoch 30/100\n",
      " - 2s - loss: 0.0584 - accuracy: 0.9558 - val_loss: 32.3035 - val_accuracy: 0.0465\n",
      "Epoch 31/100\n",
      " - 2s - loss: 0.0606 - accuracy: 0.9481 - val_loss: 32.7585 - val_accuracy: 0.0465\n",
      "Epoch 32/100\n",
      " - 2s - loss: 0.0587 - accuracy: 0.9532 - val_loss: 33.2513 - val_accuracy: 0.0465\n",
      "Epoch 33/100\n",
      " - 2s - loss: 0.0609 - accuracy: 0.9532 - val_loss: 33.4893 - val_accuracy: 0.0465\n",
      "Epoch 34/100\n",
      " - 2s - loss: 0.0676 - accuracy: 0.9506 - val_loss: 32.7119 - val_accuracy: 0.0465\n",
      "Epoch 35/100\n",
      " - 2s - loss: 0.0709 - accuracy: 0.9558 - val_loss: 31.2077 - val_accuracy: 0.0465\n",
      "Epoch 36/100\n",
      " - 2s - loss: 0.0869 - accuracy: 0.9558 - val_loss: 27.5846 - val_accuracy: 0.0465\n",
      "Epoch 37/100\n",
      " - 2s - loss: 0.0868 - accuracy: 0.9610 - val_loss: 28.1836 - val_accuracy: 0.0465\n",
      "Epoch 38/100\n",
      " - 2s - loss: 0.1023 - accuracy: 0.9429 - val_loss: 27.0857 - val_accuracy: 0.0465\n",
      "Epoch 39/100\n",
      " - 2s - loss: 0.0869 - accuracy: 0.9532 - val_loss: 27.5974 - val_accuracy: 0.0465\n",
      "Epoch 40/100\n",
      " - 2s - loss: 0.0707 - accuracy: 0.9558 - val_loss: 29.4664 - val_accuracy: 0.0465\n",
      "Epoch 41/100\n",
      " - 2s - loss: 0.1422 - accuracy: 0.9558 - val_loss: 24.0880 - val_accuracy: 0.0465\n",
      "Epoch 42/100\n",
      " - 2s - loss: 0.0962 - accuracy: 0.9558 - val_loss: 25.6058 - val_accuracy: 0.0465\n",
      "Epoch 43/100\n",
      " - 2s - loss: 0.0669 - accuracy: 0.9584 - val_loss: 28.4338 - val_accuracy: 0.0465\n",
      "Epoch 44/100\n",
      " - 2s - loss: 0.0707 - accuracy: 0.9481 - val_loss: 28.1136 - val_accuracy: 0.0465\n",
      "Epoch 45/100\n",
      " - 2s - loss: 0.0612 - accuracy: 0.9481 - val_loss: 28.3221 - val_accuracy: 0.0465\n",
      "Epoch 46/100\n",
      " - 2s - loss: 0.0648 - accuracy: 0.9558 - val_loss: 28.7368 - val_accuracy: 0.0465\n",
      "Epoch 47/100\n",
      " - 2s - loss: 0.0636 - accuracy: 0.9584 - val_loss: 28.6861 - val_accuracy: 0.0465\n",
      "Epoch 48/100\n",
      " - 2s - loss: 0.0634 - accuracy: 0.9584 - val_loss: 28.5852 - val_accuracy: 0.0465\n",
      "Epoch 49/100\n",
      " - 2s - loss: 0.0623 - accuracy: 0.9584 - val_loss: 28.5306 - val_accuracy: 0.0465\n",
      "Epoch 50/100\n",
      " - 2s - loss: 0.0631 - accuracy: 0.9506 - val_loss: 28.8932 - val_accuracy: 0.0465\n",
      "Epoch 51/100\n",
      " - 2s - loss: 0.0596 - accuracy: 0.9610 - val_loss: 29.3323 - val_accuracy: 0.0465\n",
      "Epoch 52/100\n",
      " - 2s - loss: 0.0767 - accuracy: 0.9584 - val_loss: 27.0523 - val_accuracy: 0.0465\n",
      "Epoch 53/100\n",
      " - 2s - loss: 0.0658 - accuracy: 0.9584 - val_loss: 27.3810 - val_accuracy: 0.0465\n",
      "Epoch 54/100\n",
      " - 2s - loss: 0.0641 - accuracy: 0.9558 - val_loss: 28.1781 - val_accuracy: 0.0465\n",
      "Epoch 55/100\n",
      " - 2s - loss: 0.0596 - accuracy: 0.9558 - val_loss: 28.3306 - val_accuracy: 0.0465\n",
      "Epoch 56/100\n",
      " - 2s - loss: 0.0803 - accuracy: 0.9532 - val_loss: 26.9331 - val_accuracy: 0.0465\n",
      "Epoch 57/100\n",
      " - 2s - loss: 0.0761 - accuracy: 0.9584 - val_loss: 25.8889 - val_accuracy: 0.0465\n",
      "Epoch 58/100\n",
      " - 2s - loss: 0.0698 - accuracy: 0.9636 - val_loss: 26.9400 - val_accuracy: 0.0465\n",
      "Epoch 59/100\n",
      " - 2s - loss: 0.0628 - accuracy: 0.9610 - val_loss: 27.6544 - val_accuracy: 0.0465\n",
      "Epoch 60/100\n",
      " - 2s - loss: 0.0641 - accuracy: 0.9584 - val_loss: 27.5620 - val_accuracy: 0.0465\n",
      "Epoch 61/100\n",
      " - 2s - loss: 0.0592 - accuracy: 0.9558 - val_loss: 28.0760 - val_accuracy: 0.0465\n",
      "Epoch 62/100\n",
      " - 2s - loss: 0.0589 - accuracy: 0.9610 - val_loss: 28.7468 - val_accuracy: 0.0465\n",
      "Epoch 63/100\n",
      " - 2s - loss: 0.0582 - accuracy: 0.9584 - val_loss: 29.0201 - val_accuracy: 0.0465\n",
      "Epoch 64/100\n",
      " - 2s - loss: 0.0602 - accuracy: 0.9532 - val_loss: 28.9652 - val_accuracy: 0.0465\n",
      "Epoch 65/100\n",
      " - 2s - loss: 0.0572 - accuracy: 0.9558 - val_loss: 29.2926 - val_accuracy: 0.0465\n",
      "Epoch 66/100\n",
      " - 2s - loss: 0.0563 - accuracy: 0.9532 - val_loss: 29.4615 - val_accuracy: 0.0465\n",
      "Epoch 67/100\n",
      " - 2s - loss: 0.0569 - accuracy: 0.9610 - val_loss: 29.6636 - val_accuracy: 0.0465\n",
      "Epoch 68/100\n",
      " - 2s - loss: 0.0609 - accuracy: 0.9558 - val_loss: 29.3378 - val_accuracy: 0.0465\n",
      "Epoch 69/100\n",
      " - 2s - loss: 0.0549 - accuracy: 0.9584 - val_loss: 28.9283 - val_accuracy: 0.0465\n",
      "Epoch 70/100\n",
      " - 2s - loss: 0.0616 - accuracy: 0.9636 - val_loss: 27.7648 - val_accuracy: 0.0465\n",
      "Epoch 71/100\n",
      " - 2s - loss: 0.0592 - accuracy: 0.9584 - val_loss: 27.8904 - val_accuracy: 0.0465\n",
      "Epoch 72/100\n",
      " - 2s - loss: 0.0533 - accuracy: 0.9662 - val_loss: 29.0771 - val_accuracy: 0.0465\n",
      "Epoch 73/100\n",
      " - 2s - loss: 0.0581 - accuracy: 0.9506 - val_loss: 29.4138 - val_accuracy: 0.0465\n",
      "Epoch 74/100\n",
      " - 2s - loss: 0.0582 - accuracy: 0.9584 - val_loss: 29.1374 - val_accuracy: 0.0465\n",
      "Epoch 75/100\n",
      " - 2s - loss: 0.0591 - accuracy: 0.9584 - val_loss: 28.8499 - val_accuracy: 0.0465\n",
      "Epoch 76/100\n",
      " - 2s - loss: 0.0597 - accuracy: 0.9584 - val_loss: 27.7271 - val_accuracy: 0.0465\n",
      "Epoch 77/100\n",
      " - 2s - loss: 0.0594 - accuracy: 0.9636 - val_loss: 28.1184 - val_accuracy: 0.0465\n",
      "Epoch 78/100\n",
      " - 2s - loss: 0.0544 - accuracy: 0.9532 - val_loss: 28.7796 - val_accuracy: 0.0465\n",
      "Epoch 79/100\n",
      " - 2s - loss: 0.0533 - accuracy: 0.9506 - val_loss: 29.4709 - val_accuracy: 0.0465\n",
      "Epoch 80/100\n",
      " - 2s - loss: 0.0545 - accuracy: 0.9506 - val_loss: 29.7894 - val_accuracy: 0.0465\n",
      "Epoch 81/100\n",
      " - 2s - loss: 0.0555 - accuracy: 0.9558 - val_loss: 29.7343 - val_accuracy: 0.0465\n",
      "Epoch 82/100\n",
      " - 2s - loss: 0.0551 - accuracy: 0.9506 - val_loss: 29.5617 - val_accuracy: 0.0465\n",
      "Epoch 83/100\n",
      " - 2s - loss: 0.0559 - accuracy: 0.9532 - val_loss: 29.5965 - val_accuracy: 0.0465\n"
     ]
    },
    {
     "name": "stdout",
     "output_type": "stream",
     "text": [
      "Epoch 84/100\n",
      " - 2s - loss: 0.0538 - accuracy: 0.9662 - val_loss: 29.6782 - val_accuracy: 0.0465\n",
      "Epoch 85/100\n",
      " - 2s - loss: 0.0573 - accuracy: 0.9481 - val_loss: 29.1213 - val_accuracy: 0.0465\n",
      "Epoch 86/100\n",
      " - 2s - loss: 0.0540 - accuracy: 0.9532 - val_loss: 29.1520 - val_accuracy: 0.0465\n",
      "Epoch 87/100\n",
      " - 2s - loss: 0.0694 - accuracy: 0.9558 - val_loss: 26.6940 - val_accuracy: 0.0465\n",
      "Epoch 88/100\n",
      " - 2s - loss: 0.0678 - accuracy: 0.9532 - val_loss: 26.9373 - val_accuracy: 0.0465\n",
      "Epoch 89/100\n",
      " - 2s - loss: 0.0630 - accuracy: 0.9532 - val_loss: 25.7277 - val_accuracy: 0.0465\n",
      "Epoch 90/100\n",
      " - 2s - loss: 0.0576 - accuracy: 0.9584 - val_loss: 27.3441 - val_accuracy: 0.0465\n",
      "Epoch 91/100\n",
      " - 2s - loss: 0.0563 - accuracy: 0.9636 - val_loss: 28.8540 - val_accuracy: 0.0465\n",
      "Epoch 92/100\n",
      " - 2s - loss: 0.0556 - accuracy: 0.9584 - val_loss: 28.3155 - val_accuracy: 0.0465\n",
      "Epoch 93/100\n",
      " - 2s - loss: 0.0570 - accuracy: 0.9610 - val_loss: 28.8251 - val_accuracy: 0.0465\n",
      "Epoch 94/100\n",
      " - 2s - loss: 0.0544 - accuracy: 0.9558 - val_loss: 28.9158 - val_accuracy: 0.0465\n",
      "Epoch 95/100\n",
      " - 2s - loss: 0.0561 - accuracy: 0.9610 - val_loss: 28.9260 - val_accuracy: 0.0465\n",
      "Epoch 96/100\n",
      " - 2s - loss: 0.0543 - accuracy: 0.9610 - val_loss: 29.1577 - val_accuracy: 0.0465\n",
      "Epoch 97/100\n",
      " - 2s - loss: 0.0542 - accuracy: 0.9532 - val_loss: 29.4270 - val_accuracy: 0.0465\n",
      "Epoch 98/100\n",
      " - 2s - loss: 0.0548 - accuracy: 0.9506 - val_loss: 29.2512 - val_accuracy: 0.0465\n",
      "Epoch 99/100\n",
      " - 2s - loss: 0.0526 - accuracy: 0.9506 - val_loss: 29.3671 - val_accuracy: 0.0465\n",
      "Epoch 100/100\n",
      " - 2s - loss: 0.0549 - accuracy: 0.9584 - val_loss: 29.3886 - val_accuracy: 0.0465\n"
     ]
    }
   ],
   "source": [
    "rnn=rnn_model.fit(training, output, epochs=100,verbose = 2, batch_size=16,validation_split=0.1)"
   ]
  },
  {
   "cell_type": "markdown",
   "metadata": {},
   "source": [
    "### Accuracy (RNN) "
   ]
  },
  {
   "cell_type": "code",
   "execution_count": 18,
   "metadata": {},
   "outputs": [
    {
     "name": "stdout",
     "output_type": "stream",
     "text": [
      "Model saved successfully...\n",
      "428/428 [==============================] - 0s 771us/step\n",
      "Accuracy: 0.8738317489624023\n"
     ]
    }
   ],
   "source": [
    "rnn_model.save('model_covid_rnn.h5')\n",
    "print(\"Model saved successfully...\")\n",
    "\n",
    "scores = rnn_model.evaluate(training, output, verbose=1)\n",
    "print(\"Accuracy:\", scores[1])"
   ]
  },
  {
   "cell_type": "markdown",
   "metadata": {},
   "source": [
    "### Graph results of RNN "
   ]
  },
  {
   "cell_type": "code",
   "execution_count": 19,
   "metadata": {},
   "outputs": [
    {
     "data": {
      "text/plain": [
       "<matplotlib.legend.Legend at 0x26b57c55b08>"
      ]
     },
     "execution_count": 19,
     "metadata": {},
     "output_type": "execute_result"
    },
    {
     "data": {
      "image/png": "[encoded data removed]",
      "text/plain": [
       "<Figure size 432x288 with 1 Axes>"
      ]
     },
     "metadata": {
      "needs_background": "light"
     },
     "output_type": "display_data"
    }
   ],
   "source": [
    "%matplotlib inline\n",
    "import matplotlib.pyplot as plt\n",
    "\n",
    "acc=rnn.history['accuracy']\n",
    "loss=rnn.history['loss']\n",
    "\n",
    "\n",
    "epochs=range(len(acc))\n",
    "\n",
    "plt.plot(epochs,acc,'bo', alpha = 0.6, label='acc')\n",
    "plt.ylim(0,1.2)\n",
    "plt.plot(epochs, loss,'go',alpha=0.6, label='loss')\n",
    "plt.title('Model accuracy and Loss')\n",
    "plt.legend()"
   ]
  },
  {
   "cell_type": "code",
   "execution_count": null,
   "metadata": {},
   "outputs": [],
   "source": []
  }
 ],
 "metadata": {
  "accelerator": "GPU",
  "colab": {
   "collapsed_sections": [],
   "name": "AI_540.ipynb",
   "provenance": [],
   "toc_visible": true
  },
  "kernelspec": {
   "display_name": "Python 3",
   "language": "python",
   "name": "python3"
  },
  "language_info": {
   "codemirror_mode": {
    "name": "ipython",
    "version": 3
   },
   "file_extension": ".py",
   "mimetype": "text/x-python",
   "name": "python",
   "nbconvert_exporter": "python",
   "pygments_lexer": "ipython3",
   "version": "3.7.6"
  }
 },
 "nbformat": 4,
 "nbformat_minor": 1
}
