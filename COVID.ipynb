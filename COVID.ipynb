{
 "cells": [
  {
   "cell_type": "markdown",
   "metadata": {
    "colab": {
     "base_uri": "https://localhost:8080/",
     "height": 67
    },
    "colab_type": "code",
    "executionInfo": {
     "elapsed": 896,
     "status": "ok",
     "timestamp": 1587683971246,
     "user": {
      "displayName": "Pavithra Govardhanan",
      "photoUrl": "",
      "userId": "09897390697507392118"
     },
     "user_tz": 360
    },
    "id": "ALd0QEmzk6mr",
    "outputId": "f7c2be8a-e90a-4f1a-fe42-829554b06629"
   },
   "source": [
    "# *CS540 PROJECT : CS CHATBOT*"
   ]
  },
  {
   "cell_type": "markdown",
   "metadata": {},
   "source": [
    "-**_by TEAM F_**\n",
    "- **Pavithra Govardhanan**\n",
    "- **Saptarshi Chatterjee**\n",
    "- **Shree Harini Ravichandran**\n",
    "- **Rusha Lawande**\n",
    "\n",
    "\n"
   ]
  },
  {
   "cell_type": "markdown",
   "metadata": {},
   "source": [
    "### Importing Packages "
   ]
  },
  {
   "cell_type": "code",
   "execution_count": 1,
   "metadata": {},
   "outputs": [
    {
     "name": "stderr",
     "output_type": "stream",
     "text": [
      "C:\\Users\\pavig\\anaconda3\\lib\\site-packages\\tensorflow\\python\\framework\\dtypes.py:516: FutureWarning: Passing (type, 1) or '1type' as a synonym of type is deprecated; in a future version of numpy, it will be understood as (type, (1,)) / '(1,)type'.\n",
      "  _np_qint8 = np.dtype([(\"qint8\", np.int8, 1)])\n",
      "C:\\Users\\pavig\\anaconda3\\lib\\site-packages\\tensorflow\\python\\framework\\dtypes.py:517: FutureWarning: Passing (type, 1) or '1type' as a synonym of type is deprecated; in a future version of numpy, it will be understood as (type, (1,)) / '(1,)type'.\n",
      "  _np_quint8 = np.dtype([(\"quint8\", np.uint8, 1)])\n",
      "C:\\Users\\pavig\\anaconda3\\lib\\site-packages\\tensorflow\\python\\framework\\dtypes.py:518: FutureWarning: Passing (type, 1) or '1type' as a synonym of type is deprecated; in a future version of numpy, it will be understood as (type, (1,)) / '(1,)type'.\n",
      "  _np_qint16 = np.dtype([(\"qint16\", np.int16, 1)])\n",
      "C:\\Users\\pavig\\anaconda3\\lib\\site-packages\\tensorflow\\python\\framework\\dtypes.py:519: FutureWarning: Passing (type, 1) or '1type' as a synonym of type is deprecated; in a future version of numpy, it will be understood as (type, (1,)) / '(1,)type'.\n",
      "  _np_quint16 = np.dtype([(\"quint16\", np.uint16, 1)])\n",
      "C:\\Users\\pavig\\anaconda3\\lib\\site-packages\\tensorflow\\python\\framework\\dtypes.py:520: FutureWarning: Passing (type, 1) or '1type' as a synonym of type is deprecated; in a future version of numpy, it will be understood as (type, (1,)) / '(1,)type'.\n",
      "  _np_qint32 = np.dtype([(\"qint32\", np.int32, 1)])\n",
      "C:\\Users\\pavig\\anaconda3\\lib\\site-packages\\tensorflow\\python\\framework\\dtypes.py:525: FutureWarning: Passing (type, 1) or '1type' as a synonym of type is deprecated; in a future version of numpy, it will be understood as (type, (1,)) / '(1,)type'.\n",
      "  np_resource = np.dtype([(\"resource\", np.ubyte, 1)])\n",
      "C:\\Users\\pavig\\anaconda3\\lib\\site-packages\\tensorboard\\compat\\tensorflow_stub\\dtypes.py:541: FutureWarning: Passing (type, 1) or '1type' as a synonym of type is deprecated; in a future version of numpy, it will be understood as (type, (1,)) / '(1,)type'.\n",
      "  _np_qint8 = np.dtype([(\"qint8\", np.int8, 1)])\n",
      "C:\\Users\\pavig\\anaconda3\\lib\\site-packages\\tensorboard\\compat\\tensorflow_stub\\dtypes.py:542: FutureWarning: Passing (type, 1) or '1type' as a synonym of type is deprecated; in a future version of numpy, it will be understood as (type, (1,)) / '(1,)type'.\n",
      "  _np_quint8 = np.dtype([(\"quint8\", np.uint8, 1)])\n",
      "C:\\Users\\pavig\\anaconda3\\lib\\site-packages\\tensorboard\\compat\\tensorflow_stub\\dtypes.py:543: FutureWarning: Passing (type, 1) or '1type' as a synonym of type is deprecated; in a future version of numpy, it will be understood as (type, (1,)) / '(1,)type'.\n",
      "  _np_qint16 = np.dtype([(\"qint16\", np.int16, 1)])\n",
      "C:\\Users\\pavig\\anaconda3\\lib\\site-packages\\tensorboard\\compat\\tensorflow_stub\\dtypes.py:544: FutureWarning: Passing (type, 1) or '1type' as a synonym of type is deprecated; in a future version of numpy, it will be understood as (type, (1,)) / '(1,)type'.\n",
      "  _np_quint16 = np.dtype([(\"quint16\", np.uint16, 1)])\n",
      "C:\\Users\\pavig\\anaconda3\\lib\\site-packages\\tensorboard\\compat\\tensorflow_stub\\dtypes.py:545: FutureWarning: Passing (type, 1) or '1type' as a synonym of type is deprecated; in a future version of numpy, it will be understood as (type, (1,)) / '(1,)type'.\n",
      "  _np_qint32 = np.dtype([(\"qint32\", np.int32, 1)])\n",
      "C:\\Users\\pavig\\anaconda3\\lib\\site-packages\\tensorboard\\compat\\tensorflow_stub\\dtypes.py:550: FutureWarning: Passing (type, 1) or '1type' as a synonym of type is deprecated; in a future version of numpy, it will be understood as (type, (1,)) / '(1,)type'.\n",
      "  np_resource = np.dtype([(\"resource\", np.ubyte, 1)])\n",
      "[nltk_data] Downloading package punkt to\n",
      "[nltk_data]     C:\\Users\\pavig\\AppData\\Roaming\\nltk_data...\n",
      "[nltk_data]   Package punkt is already up-to-date!\n"
     ]
    },
    {
     "data": {
      "text/plain": [
       "True"
      ]
     },
     "execution_count": 1,
     "metadata": {},
     "output_type": "execute_result"
    }
   ],
   "source": [
    "import numpy\n",
    "import random\n",
    "import json\n",
    "import pickle\n",
    "import nltk\n",
    "import tensorflow as tf\n",
    "from flask import Flask,render_template\n",
    "import flask_restful as restful\n",
    "from flask_restful import reqparse, abort, Api, Resource\n",
    "from tensorflow.keras.preprocessing.text import Tokenizer\n",
    "from tensorflow.keras.preprocessing.sequence import pad_sequences\n",
    "from tensorflow.keras import backend\n",
    "from tensorflow.keras.models import Sequential, load_model\n",
    "from tensorflow.keras.layers import LSTM, Dense, RepeatVector, Masking, TimeDistributed\n",
    "from tensorflow. keras.utils import plot_model\n",
    "from tensorflow.keras.models import Sequential\n",
    "\n",
    "\n",
    "nltk.download('punkt')"
   ]
  },
  {
   "cell_type": "code",
   "execution_count": 2,
   "metadata": {},
   "outputs": [],
   "source": [
    "from nltk.stem.lancaster import LancasterStemmer\n",
    "word_stemmer = LancasterStemmer()\n"
   ]
  },
  {
   "cell_type": "markdown",
   "metadata": {
    "colab": {
     "base_uri": "https://localhost:8080/",
     "height": 34
    },
    "colab_type": "code",
    "executionInfo": {
     "elapsed": 1434,
     "status": "ok",
     "timestamp": 1587683971889,
     "user": {
      "displayName": "Pavithra Govardhanan",
      "photoUrl": "",
      "userId": "09897390697507392118"
     },
     "user_tz": 360
    },
    "id": "nJlK8MlKVJjX",
    "outputId": "726d21d0-f44f-4635-97ac-910932ac48f2"
   },
   "source": [
    "### Reading JSON File "
   ]
  },
  {
   "cell_type": "code",
   "execution_count": null,
   "metadata": {
    "colab": {},
    "colab_type": "code",
    "id": "yOYmZ2qxk6mv"
   },
   "outputs": [],
   "source": [
    "from nltk.stem.lancaster import LancasterStemmer\n",
    "with open(\"covid_dataset.json\",encoding=\"utf-8\") as file:\n",
    "        data = json.load(file)"
   ]
  },
  {
   "cell_type": "markdown",
   "metadata": {},
   "source": [
    "### Pre-Processing"
   ]
  },
  {
   "cell_type": "code",
   "execution_count": 3,
   "metadata": {
    "colab": {},
    "colab_type": "code",
    "id": "rifMludtk6mx"
   },
   "outputs": [],
   "source": [
    "try:   \n",
    "    with open(\"cache_covid.pickle\", \"rb\") as file:\n",
    "        vocab, label, train, test = pickle.load(file)\n",
    "\n",
    "except:\n",
    "\n",
    "    vocab = []\n",
    "    y = []\n",
    "    label = []\n",
    "    x = []\n",
    "    train = []\n",
    "    test = []\n",
    "  \n",
    "\n",
    "    for i in data[\"intents\"]:\n",
    "        for j in i[\"patterns\"]:\n",
    "\n",
    "            words_token = nltk.word_tokenize(j) \n",
    "            vocab.extend(words_token) \n",
    "            y.append(i[\"tag\"])\n",
    "            x.append(words_token)\n",
    "\n",
    "        if i[\"tag\"] not in label:\n",
    "            label.append(i[\"tag\"])\n",
    "\n",
    "   \n",
    "    for w in vocab:\n",
    "        if w != \"?\":\n",
    "            vocab=word_stemmer.stem(w.lower())\n",
    "    \n",
    "\n",
    "    label = sorted(label)\n",
    "    vocab = sorted(list(set(vocab)))\n",
    "\n",
    "\n",
    "    for _ in range(len(label)):\n",
    "        out=0\n",
    "   \n",
    "    for i, j in enumerate(x):\n",
    "        bow = []\n",
    "        for w in j:\n",
    "            stemmed_words=word_stemmer.stem(w)\n",
    "       \n",
    "        for w in vocab:\n",
    "            if w in stemmed_words:\n",
    "                bow.append(1)\n",
    "            else:\n",
    "                bow.append(0)\n",
    "\n",
    "        out_line = out[:]\n",
    "        out_line[labels.index(y[i])] = 1\n",
    "\n",
    "        test.append(out_line)\n",
    "        train.append(bow)\n",
    "        \n",
    "    \n",
    "    train = numpy.array(train)\n",
    "    test = numpy.array(test)\n",
    "\n",
    "    with open(\"cache_covid.pickle\", \"wb\") as file:\n",
    "        pickle.dump((vocab, label, train, test), file)\n"
   ]
  },
  {
   "cell_type": "code",
   "execution_count": 4,
   "metadata": {
    "colab": {
     "base_uri": "https://localhost:8080/",
     "height": 34
    },
    "colab_type": "code",
    "executionInfo": {
     "elapsed": 1014,
     "status": "ok",
     "timestamp": 1587683972145,
     "user": {
      "displayName": "Pavithra Govardhanan",
      "photoUrl": "",
      "userId": "09897390697507392118"
     },
     "user_tz": 360
    },
    "id": "NyAFGqrZk6mz",
    "outputId": "950e8724-0039-4a08-cc6c-8e835a9b926e",
    "scrolled": true
   },
   "outputs": [
    {
     "data": {
      "text/plain": [
       "304"
      ]
     },
     "execution_count": 4,
     "metadata": {},
     "output_type": "execute_result"
    }
   ],
   "source": [
    "\n",
    "len(vocab)"
   ]
  },
  {
   "cell_type": "markdown",
   "metadata": {
    "colab": {},
    "colab_type": "code",
    "id": "TbSL91ymk6m1"
   },
   "source": [
    "### Bag of Words "
   ]
  },
  {
   "cell_type": "code",
   "execution_count": 5,
   "metadata": {},
   "outputs": [],
   "source": [
    "def bag_words(inputs, vocab):\n",
    "    bagofwords = [0 for _ in range(len(vocab))]\n",
    "\n",
    "    word = nltk.word_tokenize(inputs)\n",
    "    word = [word_stemmer.stem(j.lower()) for j in word]\n",
    "\n",
    "    for v in word:\n",
    "        for i, w in enumerate(vocab):\n",
    "            if v == w:\n",
    "                bagofwords[i] = 1\n",
    "\n",
    "    return numpy.array(bagofwords)"
   ]
  },
  {
   "cell_type": "markdown",
   "metadata": {},
   "source": [
    "### Convolutional Neural Network(CNN) "
   ]
  },
  {
   "cell_type": "code",
   "execution_count": 8,
   "metadata": {
    "colab": {},
    "colab_type": "code",
    "id": "v7i98tuPk6m3"
   },
   "outputs": [],
   "source": [
    "from tensorflow.keras.models import Sequential\n",
    "from tensorflow.keras.layers import Dense, Dropout, Flatten\n",
    "from tensorflow.keras.layers import Conv1D, MaxPooling1D, Embedding, LSTM\n",
    "cnn_model = Sequential()\n",
    "cnn_model.add(Embedding(304, 32, input_length=304))\n",
    "cnn_model.add(Conv1D(128, 5, activation='relu'))\n",
    "cnn_model.add(MaxPooling1D(pool_size = 3))\n",
    "cnn_model.add(Flatten())\n",
    "cnn_model.add(Dense(50, activation='relu'))\n",
    "cnn_model.add(Dense(144,activation='softmax'))\n",
    "cnn_model.compile(optimizer='adam',\n",
    "              loss='binary_crossentropy',\n",
    "              metrics=['accuracy'])"
   ]
  },
  {
   "cell_type": "code",
   "execution_count": 9,
   "metadata": {
    "colab": {
     "base_uri": "https://localhost:8080/",
     "height": 353
    },
    "colab_type": "code",
    "executionInfo": {
     "elapsed": 1517,
     "status": "ok",
     "timestamp": 1587683973154,
     "user": {
      "displayName": "Pavithra Govardhanan",
      "photoUrl": "",
      "userId": "09897390697507392118"
     },
     "user_tz": 360
    },
    "id": "Zz4264rI-oqf",
    "outputId": "401e4a43-278f-4925-a8d4-544f0b326432"
   },
   "outputs": [
    {
     "name": "stdout",
     "output_type": "stream",
     "text": [
      "Model: \"sequential_1\"\n",
      "_________________________________________________________________\n",
      "Layer (type)                 Output Shape              Param #   \n",
      "=================================================================\n",
      "embedding_1 (Embedding)      (None, 304, 32)           9728      \n",
      "_________________________________________________________________\n",
      "conv1d_1 (Conv1D)            (None, 300, 128)          20608     \n",
      "_________________________________________________________________\n",
      "max_pooling1d_1 (MaxPooling1 (None, 100, 128)          0         \n",
      "_________________________________________________________________\n",
      "flatten_1 (Flatten)          (None, 12800)             0         \n",
      "_________________________________________________________________\n",
      "dense_2 (Dense)              (None, 50)                640050    \n",
      "_________________________________________________________________\n",
      "dense_3 (Dense)              (None, 144)               7344      \n",
      "=================================================================\n",
      "Total params: 677,730\n",
      "Trainable params: 677,730\n",
      "Non-trainable params: 0\n",
      "_________________________________________________________________\n"
     ]
    }
   ],
   "source": [
    "cnn_model.summary()"
   ]
  },
  {
   "cell_type": "code",
   "execution_count": 10,
   "metadata": {
    "colab": {
     "base_uri": "https://localhost:8080/",
     "height": 1000
    },
    "colab_type": "code",
    "executionInfo": {
     "elapsed": 5808,
     "status": "ok",
     "timestamp": 1587683977608,
     "user": {
      "displayName": "Pavithra Govardhanan",
      "photoUrl": "",
      "userId": "09897390697507392118"
     },
     "user_tz": 360
    },
    "id": "iK9z47C9q1pi",
    "outputId": "57576ceb-1159-46a9-96c9-f14eccc4fdb1"
   },
   "outputs": [
    {
     "name": "stdout",
     "output_type": "stream",
     "text": [
      "WARNING:tensorflow:From C:\\Users\\pavig\\anaconda3\\lib\\site-packages\\tensorflow\\python\\ops\\math_grad.py:1250: add_dispatch_support.<locals>.wrapper (from tensorflow.python.ops.array_ops) is deprecated and will be removed in a future version.\n",
      "Instructions for updating:\n",
      "Use tf.where in 2.0, which has the same broadcast rule as np.where\n",
      "Epoch 1/150\n",
      "415/415 - 0s - loss: 0.0412 - acc: 0.9931\n",
      "Epoch 2/150\n",
      "415/415 - 0s - loss: 0.0398 - acc: 0.9931\n",
      "Epoch 3/150\n",
      "415/415 - 0s - loss: 0.0380 - acc: 0.9931\n",
      "Epoch 4/150\n",
      "415/415 - 0s - loss: 0.0337 - acc: 0.9931\n",
      "Epoch 5/150\n",
      "415/415 - 0s - loss: 0.0267 - acc: 0.9937\n",
      "Epoch 6/150\n",
      "415/415 - 0s - loss: 0.0199 - acc: 0.9952\n",
      "Epoch 7/150\n",
      "415/415 - 0s - loss: 0.0155 - acc: 0.9964\n",
      "Epoch 8/150\n",
      "415/415 - 0s - loss: 0.0128 - acc: 0.9967\n",
      "Epoch 9/150\n",
      "415/415 - 0s - loss: 0.0105 - acc: 0.9970\n",
      "Epoch 10/150\n",
      "415/415 - 0s - loss: 0.0086 - acc: 0.9973\n",
      "Epoch 11/150\n",
      "415/415 - 0s - loss: 0.0070 - acc: 0.9978\n",
      "Epoch 12/150\n",
      "415/415 - 0s - loss: 0.0052 - acc: 0.9981\n",
      "Epoch 13/150\n",
      "415/415 - 0s - loss: 0.0044 - acc: 0.9983\n",
      "Epoch 14/150\n",
      "415/415 - 0s - loss: 0.0040 - acc: 0.9985\n",
      "Epoch 15/150\n",
      "415/415 - 0s - loss: 0.0036 - acc: 0.9986\n",
      "Epoch 16/150\n",
      "415/415 - 0s - loss: 0.0028 - acc: 0.9987\n",
      "Epoch 17/150\n",
      "415/415 - 0s - loss: 0.0021 - acc: 0.9990\n",
      "Epoch 18/150\n",
      "415/415 - 0s - loss: 0.0022 - acc: 0.9991\n",
      "Epoch 19/150\n",
      "415/415 - 0s - loss: 0.0018 - acc: 0.9990\n",
      "Epoch 20/150\n",
      "415/415 - 0s - loss: 0.0018 - acc: 0.9991\n",
      "Epoch 21/150\n",
      "415/415 - 0s - loss: 0.0018 - acc: 0.9990\n",
      "Epoch 22/150\n",
      "415/415 - 0s - loss: 0.0020 - acc: 0.9991\n",
      "Epoch 23/150\n",
      "415/415 - 0s - loss: 0.0020 - acc: 0.9990\n",
      "Epoch 24/150\n",
      "415/415 - 0s - loss: 0.0015 - acc: 0.9992\n",
      "Epoch 25/150\n",
      "415/415 - 0s - loss: 0.0016 - acc: 0.9990\n",
      "Epoch 26/150\n",
      "415/415 - 0s - loss: 0.0016 - acc: 0.9989\n",
      "Epoch 27/150\n",
      "415/415 - 0s - loss: 0.0016 - acc: 0.9990\n",
      "Epoch 28/150\n",
      "415/415 - 0s - loss: 0.0017 - acc: 0.9990\n",
      "Epoch 29/150\n",
      "415/415 - 0s - loss: 0.0016 - acc: 0.9989\n",
      "Epoch 30/150\n",
      "415/415 - 0s - loss: 0.0015 - acc: 0.9989\n",
      "Epoch 31/150\n",
      "415/415 - 0s - loss: 0.0017 - acc: 0.9990\n",
      "Epoch 32/150\n",
      "415/415 - 0s - loss: 0.0015 - acc: 0.9991\n",
      "Epoch 33/150\n",
      "415/415 - 0s - loss: 0.0014 - acc: 0.9991\n",
      "Epoch 34/150\n",
      "415/415 - 0s - loss: 0.0014 - acc: 0.9989\n",
      "Epoch 35/150\n",
      "415/415 - 0s - loss: 0.0014 - acc: 0.9990\n",
      "Epoch 36/150\n",
      "415/415 - 0s - loss: 0.0015 - acc: 0.9991\n",
      "Epoch 37/150\n",
      "415/415 - 0s - loss: 0.0013 - acc: 0.9992\n",
      "Epoch 38/150\n",
      "415/415 - 0s - loss: 0.0013 - acc: 0.9990\n",
      "Epoch 39/150\n",
      "415/415 - 0s - loss: 0.0013 - acc: 0.9990\n",
      "Epoch 40/150\n",
      "415/415 - 0s - loss: 0.0014 - acc: 0.9991\n",
      "Epoch 41/150\n",
      "415/415 - 0s - loss: 0.0014 - acc: 0.9991\n",
      "Epoch 42/150\n",
      "415/415 - 0s - loss: 0.0013 - acc: 0.9992\n",
      "Epoch 43/150\n",
      "415/415 - 0s - loss: 0.0015 - acc: 0.9991\n",
      "Epoch 44/150\n",
      "415/415 - 0s - loss: 0.0013 - acc: 0.9991\n",
      "Epoch 45/150\n",
      "415/415 - 0s - loss: 0.0013 - acc: 0.9990\n",
      "Epoch 46/150\n",
      "415/415 - 0s - loss: 0.0014 - acc: 0.9991\n",
      "Epoch 47/150\n",
      "415/415 - 0s - loss: 0.0013 - acc: 0.9992\n",
      "Epoch 48/150\n",
      "415/415 - 0s - loss: 0.0014 - acc: 0.9990\n",
      "Epoch 49/150\n",
      "415/415 - 0s - loss: 0.0013 - acc: 0.9990\n",
      "Epoch 50/150\n",
      "415/415 - 0s - loss: 0.0013 - acc: 0.9989\n",
      "Epoch 51/150\n",
      "415/415 - 0s - loss: 0.0013 - acc: 0.9991\n",
      "Epoch 52/150\n",
      "415/415 - 0s - loss: 0.0013 - acc: 0.9990\n",
      "Epoch 53/150\n",
      "415/415 - 0s - loss: 0.0012 - acc: 0.9990\n",
      "Epoch 54/150\n",
      "415/415 - 0s - loss: 0.0012 - acc: 0.9991\n",
      "Epoch 55/150\n",
      "415/415 - 0s - loss: 0.0013 - acc: 0.9990\n",
      "Epoch 56/150\n",
      "415/415 - 0s - loss: 0.0013 - acc: 0.9992\n",
      "Epoch 57/150\n",
      "415/415 - 0s - loss: 0.0012 - acc: 0.9991\n",
      "Epoch 58/150\n",
      "415/415 - 0s - loss: 0.0014 - acc: 0.9991\n",
      "Epoch 59/150\n",
      "415/415 - 0s - loss: 0.0013 - acc: 0.9991\n",
      "Epoch 60/150\n",
      "415/415 - 0s - loss: 0.0013 - acc: 0.9991\n",
      "Epoch 61/150\n",
      "415/415 - 0s - loss: 0.0013 - acc: 0.9990\n",
      "Epoch 62/150\n",
      "415/415 - 0s - loss: 0.0014 - acc: 0.9989\n",
      "Epoch 63/150\n",
      "415/415 - 0s - loss: 0.0013 - acc: 0.9991\n",
      "Epoch 64/150\n",
      "415/415 - 0s - loss: 0.0013 - acc: 0.9991\n",
      "Epoch 65/150\n",
      "415/415 - 0s - loss: 0.0013 - acc: 0.9991\n",
      "Epoch 66/150\n",
      "415/415 - 0s - loss: 0.0013 - acc: 0.9991\n",
      "Epoch 67/150\n",
      "415/415 - 0s - loss: 0.0012 - acc: 0.9990\n",
      "Epoch 68/150\n",
      "415/415 - 0s - loss: 0.0012 - acc: 0.9990\n",
      "Epoch 69/150\n",
      "415/415 - 0s - loss: 0.0012 - acc: 0.9991\n",
      "Epoch 70/150\n",
      "415/415 - 0s - loss: 0.0012 - acc: 0.9991\n",
      "Epoch 71/150\n",
      "415/415 - 0s - loss: 0.0012 - acc: 0.9990\n",
      "Epoch 72/150\n",
      "415/415 - 0s - loss: 0.0012 - acc: 0.9991\n",
      "Epoch 73/150\n",
      "415/415 - 0s - loss: 0.0013 - acc: 0.9990\n",
      "Epoch 74/150\n",
      "415/415 - 0s - loss: 0.0012 - acc: 0.9991\n",
      "Epoch 75/150\n",
      "415/415 - 0s - loss: 0.0012 - acc: 0.9990\n",
      "Epoch 76/150\n",
      "415/415 - 0s - loss: 0.0012 - acc: 0.9990\n",
      "Epoch 77/150\n",
      "415/415 - 0s - loss: 0.0012 - acc: 0.9990\n",
      "Epoch 78/150\n",
      "415/415 - 0s - loss: 0.0012 - acc: 0.9990\n",
      "Epoch 79/150\n",
      "415/415 - 0s - loss: 0.0012 - acc: 0.9991\n",
      "Epoch 80/150\n",
      "415/415 - 0s - loss: 0.0013 - acc: 0.9991\n",
      "Epoch 81/150\n",
      "415/415 - 0s - loss: 0.0013 - acc: 0.9991\n",
      "Epoch 82/150\n",
      "415/415 - 0s - loss: 0.0013 - acc: 0.9990\n",
      "Epoch 83/150\n",
      "415/415 - 0s - loss: 0.0012 - acc: 0.9991\n",
      "Epoch 84/150\n",
      "415/415 - 0s - loss: 0.0012 - acc: 0.9990\n",
      "Epoch 85/150\n",
      "415/415 - 0s - loss: 0.0012 - acc: 0.9992\n",
      "Epoch 86/150\n",
      "415/415 - 0s - loss: 0.0012 - acc: 0.9991\n",
      "Epoch 87/150\n",
      "415/415 - 0s - loss: 0.0012 - acc: 0.9992\n",
      "Epoch 88/150\n",
      "415/415 - 0s - loss: 0.0012 - acc: 0.9992\n",
      "Epoch 89/150\n",
      "415/415 - 0s - loss: 0.0012 - acc: 0.9991\n",
      "Epoch 90/150\n",
      "415/415 - 0s - loss: 0.0011 - acc: 0.9991\n",
      "Epoch 91/150\n",
      "415/415 - 0s - loss: 0.0012 - acc: 0.9991\n",
      "Epoch 92/150\n",
      "415/415 - 0s - loss: 0.0012 - acc: 0.9990\n",
      "Epoch 93/150\n",
      "415/415 - 0s - loss: 0.0012 - acc: 0.9990\n",
      "Epoch 94/150\n",
      "415/415 - 0s - loss: 0.0011 - acc: 0.9991\n",
      "Epoch 95/150\n",
      "415/415 - 0s - loss: 0.0012 - acc: 0.9990\n",
      "Epoch 96/150\n",
      "415/415 - 0s - loss: 0.0012 - acc: 0.9990\n",
      "Epoch 97/150\n",
      "415/415 - 0s - loss: 0.0011 - acc: 0.9990\n",
      "Epoch 98/150\n",
      "415/415 - 0s - loss: 0.0012 - acc: 0.9992\n",
      "Epoch 99/150\n",
      "415/415 - 0s - loss: 0.0012 - acc: 0.9991\n",
      "Epoch 100/150\n",
      "415/415 - 0s - loss: 0.0011 - acc: 0.9990\n",
      "Epoch 101/150\n",
      "415/415 - 0s - loss: 0.0011 - acc: 0.9990\n",
      "Epoch 102/150\n",
      "415/415 - 0s - loss: 0.0012 - acc: 0.9991\n",
      "Epoch 103/150\n",
      "415/415 - 0s - loss: 0.0012 - acc: 0.9991\n",
      "Epoch 104/150\n",
      "415/415 - 0s - loss: 0.0011 - acc: 0.9990\n",
      "Epoch 105/150\n",
      "415/415 - 0s - loss: 0.0013 - acc: 0.9990\n",
      "Epoch 106/150\n",
      "415/415 - 0s - loss: 0.0012 - acc: 0.9989\n",
      "Epoch 107/150\n",
      "415/415 - 0s - loss: 0.0012 - acc: 0.9991\n",
      "Epoch 108/150\n",
      "415/415 - 0s - loss: 0.0011 - acc: 0.9991\n",
      "Epoch 109/150\n",
      "415/415 - 0s - loss: 0.0013 - acc: 0.9990\n",
      "Epoch 110/150\n",
      "415/415 - 0s - loss: 0.0012 - acc: 0.9990\n",
      "Epoch 111/150\n",
      "415/415 - 0s - loss: 0.0019 - acc: 0.9990\n",
      "Epoch 112/150\n",
      "415/415 - 0s - loss: 0.0016 - acc: 0.9989\n",
      "Epoch 113/150\n",
      "415/415 - 0s - loss: 0.0014 - acc: 0.9990\n",
      "Epoch 114/150\n",
      "415/415 - 0s - loss: 0.0020 - acc: 0.9990\n",
      "Epoch 115/150\n",
      "415/415 - 0s - loss: 0.0024 - acc: 0.9988\n",
      "Epoch 116/150\n",
      "415/415 - 0s - loss: 0.0024 - acc: 0.9989\n",
      "Epoch 117/150\n",
      "415/415 - 0s - loss: 0.0015 - acc: 0.9991\n",
      "Epoch 118/150\n",
      "415/415 - 0s - loss: 0.0013 - acc: 0.9992\n",
      "Epoch 119/150\n",
      "415/415 - 0s - loss: 0.0012 - acc: 0.9991\n",
      "Epoch 120/150\n",
      "415/415 - 0s - loss: 0.0012 - acc: 0.9990\n",
      "Epoch 121/150\n",
      "415/415 - 0s - loss: 0.0012 - acc: 0.9992\n",
      "Epoch 122/150\n",
      "415/415 - 0s - loss: 0.0011 - acc: 0.9992\n",
      "Epoch 123/150\n",
      "415/415 - 0s - loss: 0.0012 - acc: 0.9991\n",
      "Epoch 124/150\n",
      "415/415 - 0s - loss: 0.0012 - acc: 0.9993\n",
      "Epoch 125/150\n",
      "415/415 - 0s - loss: 0.0012 - acc: 0.9989\n",
      "Epoch 126/150\n",
      "415/415 - 0s - loss: 0.0012 - acc: 0.9990\n",
      "Epoch 127/150\n",
      "415/415 - 0s - loss: 0.0012 - acc: 0.9990\n",
      "Epoch 128/150\n",
      "415/415 - 0s - loss: 0.0012 - acc: 0.9991\n",
      "Epoch 129/150\n",
      "415/415 - 0s - loss: 0.0011 - acc: 0.9989\n",
      "Epoch 130/150\n",
      "415/415 - 0s - loss: 0.0011 - acc: 0.9990\n",
      "Epoch 131/150\n",
      "415/415 - 0s - loss: 0.0012 - acc: 0.9990\n",
      "Epoch 132/150\n",
      "415/415 - 0s - loss: 0.0011 - acc: 0.9992\n",
      "Epoch 133/150\n",
      "415/415 - 0s - loss: 0.0011 - acc: 0.9992\n",
      "Epoch 134/150\n",
      "415/415 - 0s - loss: 0.0012 - acc: 0.9991\n",
      "Epoch 135/150\n",
      "415/415 - 0s - loss: 0.0011 - acc: 0.9991\n",
      "Epoch 136/150\n",
      "415/415 - 0s - loss: 0.0011 - acc: 0.9991\n",
      "Epoch 137/150\n",
      "415/415 - 0s - loss: 0.0011 - acc: 0.9992\n",
      "Epoch 138/150\n",
      "415/415 - 0s - loss: 0.0011 - acc: 0.9991\n",
      "Epoch 139/150\n",
      "415/415 - 0s - loss: 0.0012 - acc: 0.9992\n",
      "Epoch 140/150\n",
      "415/415 - 0s - loss: 0.0012 - acc: 0.9990\n",
      "Epoch 141/150\n",
      "415/415 - 0s - loss: 0.0012 - acc: 0.9991\n",
      "Epoch 142/150\n",
      "415/415 - 0s - loss: 0.0011 - acc: 0.9992\n",
      "Epoch 143/150\n",
      "415/415 - 0s - loss: 0.0011 - acc: 0.9989\n"
     ]
    },
    {
     "name": "stdout",
     "output_type": "stream",
     "text": [
      "Epoch 144/150\n",
      "415/415 - 0s - loss: 0.0011 - acc: 0.9991\n",
      "Epoch 145/150\n",
      "415/415 - 0s - loss: 0.0011 - acc: 0.9989\n",
      "Epoch 146/150\n",
      "415/415 - 0s - loss: 0.0011 - acc: 0.9991\n",
      "Epoch 147/150\n",
      "415/415 - 0s - loss: 0.0012 - acc: 0.9992\n",
      "Epoch 148/150\n",
      "415/415 - 0s - loss: 0.0011 - acc: 0.9989\n",
      "Epoch 149/150\n",
      "415/415 - 0s - loss: 0.0011 - acc: 0.9992\n",
      "Epoch 150/150\n",
      "415/415 - 0s - loss: 0.0011 - acc: 0.9991\n"
     ]
    }
   ],
   "source": [
    "cnn=cnn_model.fit(train, test, epochs=150,verbose = 2, batch_size=16)"
   ]
  },
  {
   "cell_type": "code",
   "execution_count": 11,
   "metadata": {
    "colab": {
     "base_uri": "https://localhost:8080/",
     "height": 34
    },
    "colab_type": "code",
    "executionInfo": {
     "elapsed": 5666,
     "status": "ok",
     "timestamp": 1587683977609,
     "user": {
      "displayName": "Pavithra Govardhanan",
      "photoUrl": "",
      "userId": "09897390697507392118"
     },
     "user_tz": 360
    },
    "id": "2DOgm44HHtcv",
    "outputId": "cf640d1a-9e5a-4e54-b7a8-f9320026d602"
   },
   "outputs": [
    {
     "name": "stdout",
     "output_type": "stream",
     "text": [
      "Model saved successfully...\n"
     ]
    }
   ],
   "source": [
    "cnn_model.save('model_covid_cnn.h5')\n",
    "print(\"Model saved successfully...\")"
   ]
  },
  {
   "cell_type": "markdown",
   "metadata": {},
   "source": [
    "### Accuracy (CNN) "
   ]
  },
  {
   "cell_type": "code",
   "execution_count": 13,
   "metadata": {},
   "outputs": [
    {
     "name": "stdout",
     "output_type": "stream",
     "text": [
      "415/415 [==============================] - 0s 196us/sample - loss: 0.0010 - acc: 0.9993\n",
      "Accuracy: 0.9992637\n"
     ]
    }
   ],
   "source": [
    "\n",
    "\n",
    "scores = cnn_model.evaluate(train, test, verbose=1)\n",
    "print(\"Accuracy:\", scores[1])"
   ]
  },
  {
   "cell_type": "markdown",
   "metadata": {},
   "source": [
    "### Graph results of CNN "
   ]
  },
  {
   "cell_type": "code",
   "execution_count": 22,
   "metadata": {
    "colab": {},
    "colab_type": "code",
    "id": "SSelAUXxk6m-"
   },
   "outputs": [
    {
     "data": {
      "image/png": "[encoded data removed]",
      "text/plain": [
       "<Figure size 432x288 with 1 Axes>"
      ]
     },
     "metadata": {
      "needs_background": "light"
     },
     "output_type": "display_data"
    }
   ],
   "source": [
    "%matplotlib inline\n",
    "import matplotlib.pyplot as plt\n",
    "\n",
    "plt.plot(cnn.history['acc'])\n",
    "plt.title('model accuracy')\n",
    "plt.ylim(0.994,1.002)\n",
    "plt.xlim(0,100)\n",
    "plt.ylabel('accuracy')\n",
    "plt.xlabel('epoch')\n",
    "plt.legend(['accuracy'], loc='upper left')\n",
    "plt.show()"
   ]
  },
  {
   "cell_type": "code",
   "execution_count": 23,
   "metadata": {
    "scrolled": false
   },
   "outputs": [
    {
     "data": {
      "image/png": "[encoded data removed]",
      "text/plain": [
       "<Figure size 432x288 with 1 Axes>"
      ]
     },
     "metadata": {
      "needs_background": "light"
     },
     "output_type": "display_data"
    }
   ],
   "source": [
    "%matplotlib inline\n",
    "import matplotlib.pyplot as plt\n",
    "\n",
    "plt.plot(cnn.history['loss'])\n",
    "plt.title('model loss')\n",
    "plt.ylim(-0.005,0.02)\n",
    "plt.xlim(0,100)\n",
    "plt.ylabel('loss')\n",
    "plt.xlabel('epoch')\n",
    "plt.legend(['loss'], loc='upper left')\n",
    "plt.show()"
   ]
  },
  {
   "cell_type": "markdown",
   "metadata": {},
   "source": [
    "### Recurrent Neural Network (RNN)"
   ]
  },
  {
   "cell_type": "code",
   "execution_count": 28,
   "metadata": {},
   "outputs": [],
   "source": [
    "from keras.models import Sequential\n",
    "from keras.layers import Dense, Dropout, Flatten\n",
    "from keras.layers import Conv1D, MaxPooling1D, Embedding, LSTM,SimpleRNN\n",
    "rnn_model = Sequential()\n",
    "rnn_model.add(Embedding(304, 32, input_length=304))\n",
    "rnn_model.add(SimpleRNN(128, activation='relu', return_sequences=True))\n",
    "rnn_model.add(Flatten())\n",
    "rnn_model.add(Dense(50, activation='relu'))\n",
    "rnn_model.add(Dense(144,activation='softmax'))\n",
    "rnn_model.compile(optimizer='adam',\n",
    "              loss='categorical_crossentropy',\n",
    "              metrics=['accuracy'])"
   ]
  },
  {
   "cell_type": "code",
   "execution_count": 29,
   "metadata": {},
   "outputs": [
    {
     "name": "stdout",
     "output_type": "stream",
     "text": [
      "Model: \"sequential_2\"\n",
      "_________________________________________________________________\n",
      "Layer (type)                 Output Shape              Param #   \n",
      "=================================================================\n",
      "embedding_2 (Embedding)      (None, 304, 32)           9728      \n",
      "_________________________________________________________________\n",
      "simple_rnn_2 (SimpleRNN)     (None, 304, 128)          20608     \n",
      "_________________________________________________________________\n",
      "flatten_2 (Flatten)          (None, 38912)             0         \n",
      "_________________________________________________________________\n",
      "dense_3 (Dense)              (None, 50)                1945650   \n",
      "_________________________________________________________________\n",
      "dense_4 (Dense)              (None, 144)               7344      \n",
      "=================================================================\n",
      "Total params: 1,983,330\n",
      "Trainable params: 1,983,330\n",
      "Non-trainable params: 0\n",
      "_________________________________________________________________\n"
     ]
    }
   ],
   "source": [
    "rnn_model.summary()"
   ]
  },
  {
   "cell_type": "code",
   "execution_count": 30,
   "metadata": {
    "scrolled": true
   },
   "outputs": [
    {
     "name": "stdout",
     "output_type": "stream",
     "text": [
      "WARNING:tensorflow:From C:\\Users\\pavig\\anaconda3\\lib\\site-packages\\keras\\backend\\tensorflow_backend.py:422: The name tf.global_variables is deprecated. Please use tf.compat.v1.global_variables instead.\n",
      "\n",
      "Train on 373 samples, validate on 42 samples\n",
      "Epoch 1/150\n",
      " - 2s - loss: 4.8860 - accuracy: 0.0214 - val_loss: 4.8879 - val_accuracy: 0.0000e+00\n",
      "Epoch 2/150\n",
      " - 1s - loss: 4.5046 - accuracy: 0.0563 - val_loss: 6.0793 - val_accuracy: 0.0000e+00\n",
      "Epoch 3/150\n",
      " - 1s - loss: 3.2919 - accuracy: 0.3110 - val_loss: 7.9831 - val_accuracy: 0.2143\n",
      "Epoch 4/150\n",
      " - 1s - loss: 2.2026 - accuracy: 0.5121 - val_loss: 10.0652 - val_accuracy: 0.2381\n",
      "Epoch 5/150\n",
      " - 1s - loss: 1.5952 - accuracy: 0.6193 - val_loss: 11.7201 - val_accuracy: 0.2381\n",
      "Epoch 6/150\n",
      " - 1s - loss: 1.1489 - accuracy: 0.7051 - val_loss: 19.5895 - val_accuracy: 0.2619\n",
      "Epoch 7/150\n",
      " - 1s - loss: 0.8538 - accuracy: 0.7721 - val_loss: 21.1731 - val_accuracy: 0.2381\n",
      "Epoch 8/150\n",
      " - 1s - loss: 0.6303 - accuracy: 0.8284 - val_loss: 24.6664 - val_accuracy: 0.2381\n",
      "Epoch 9/150\n",
      " - 1s - loss: 0.5358 - accuracy: 0.8606 - val_loss: 22.7640 - val_accuracy: 0.2619\n",
      "Epoch 10/150\n",
      " - 1s - loss: 0.3973 - accuracy: 0.8847 - val_loss: 27.6213 - val_accuracy: 0.1905\n",
      "Epoch 11/150\n",
      " - 1s - loss: 0.3825 - accuracy: 0.8954 - val_loss: 22.2404 - val_accuracy: 0.2619\n",
      "Epoch 12/150\n",
      " - 1s - loss: 0.2657 - accuracy: 0.9008 - val_loss: 24.1340 - val_accuracy: 0.2143\n",
      "Epoch 13/150\n",
      " - 1s - loss: 0.2127 - accuracy: 0.9169 - val_loss: 26.0952 - val_accuracy: 0.2143\n",
      "Epoch 14/150\n",
      " - 1s - loss: 0.2206 - accuracy: 0.9115 - val_loss: 22.9063 - val_accuracy: 0.2143\n",
      "Epoch 15/150\n",
      " - 1s - loss: 0.2018 - accuracy: 0.9196 - val_loss: 24.2980 - val_accuracy: 0.2143\n",
      "Epoch 16/150\n",
      " - 1s - loss: 0.1375 - accuracy: 0.9169 - val_loss: 26.4070 - val_accuracy: 0.2143\n",
      "Epoch 17/150\n",
      " - 1s - loss: 0.1409 - accuracy: 0.9276 - val_loss: 26.2481 - val_accuracy: 0.2143\n",
      "Epoch 18/150\n",
      " - 1s - loss: 0.1422 - accuracy: 0.9223 - val_loss: 23.9617 - val_accuracy: 0.2619\n",
      "Epoch 19/150\n",
      " - 1s - loss: 0.1632 - accuracy: 0.9142 - val_loss: 22.8223 - val_accuracy: 0.2143\n",
      "Epoch 20/150\n",
      " - 1s - loss: 0.1677 - accuracy: 0.9249 - val_loss: 20.0604 - val_accuracy: 0.2619\n",
      "Epoch 21/150\n",
      " - 1s - loss: 0.1185 - accuracy: 0.9410 - val_loss: 24.5427 - val_accuracy: 0.2619\n",
      "Epoch 22/150\n",
      " - 1s - loss: 0.1303 - accuracy: 0.9142 - val_loss: 23.2276 - val_accuracy: 0.2619\n",
      "Epoch 23/150\n",
      " - 1s - loss: 0.1174 - accuracy: 0.9276 - val_loss: 22.7260 - val_accuracy: 0.2619\n",
      "Epoch 24/150\n",
      " - 1s - loss: 0.1112 - accuracy: 0.9249 - val_loss: 24.4869 - val_accuracy: 0.2619\n",
      "Epoch 25/150\n",
      " - 1s - loss: 0.1154 - accuracy: 0.9303 - val_loss: 22.7020 - val_accuracy: 0.2619\n",
      "Epoch 26/150\n",
      " - 1s - loss: 0.1168 - accuracy: 0.9249 - val_loss: 22.7259 - val_accuracy: 0.2619\n",
      "Epoch 27/150\n",
      " - 1s - loss: 0.1197 - accuracy: 0.9169 - val_loss: 23.1260 - val_accuracy: 0.2619\n",
      "Epoch 28/150\n",
      " - 1s - loss: 0.1025 - accuracy: 0.9330 - val_loss: 22.1969 - val_accuracy: 0.2619\n",
      "Epoch 29/150\n",
      " - 1s - loss: 0.1201 - accuracy: 0.9223 - val_loss: 22.2016 - val_accuracy: 0.2619\n",
      "Epoch 30/150\n",
      " - 1s - loss: 0.1185 - accuracy: 0.9276 - val_loss: 21.4993 - val_accuracy: 0.2381\n",
      "Epoch 31/150\n",
      " - 1s - loss: 0.1296 - accuracy: 0.9330 - val_loss: 20.8222 - val_accuracy: 0.2619\n",
      "Epoch 32/150\n",
      " - 1s - loss: 0.1245 - accuracy: 0.9410 - val_loss: 20.9958 - val_accuracy: 0.2619\n",
      "Epoch 33/150\n",
      " - 1s - loss: 0.1017 - accuracy: 0.9303 - val_loss: 22.1203 - val_accuracy: 0.2619\n",
      "Epoch 34/150\n",
      " - 1s - loss: 0.1077 - accuracy: 0.9330 - val_loss: 21.5218 - val_accuracy: 0.2619\n",
      "Epoch 35/150\n",
      " - 1s - loss: 0.1001 - accuracy: 0.9196 - val_loss: 22.2516 - val_accuracy: 0.2619\n",
      "Epoch 36/150\n",
      " - 1s - loss: 0.1016 - accuracy: 0.9196 - val_loss: 22.9341 - val_accuracy: 0.2619\n",
      "Epoch 37/150\n",
      " - 1s - loss: 0.1063 - accuracy: 0.9303 - val_loss: 21.2964 - val_accuracy: 0.2619\n",
      "Epoch 38/150\n",
      " - 1s - loss: 0.1031 - accuracy: 0.9196 - val_loss: 22.2412 - val_accuracy: 0.2619\n",
      "Epoch 39/150\n",
      " - 1s - loss: 0.0992 - accuracy: 0.9437 - val_loss: 20.4454 - val_accuracy: 0.2619\n",
      "Epoch 40/150\n",
      " - 1s - loss: 0.1004 - accuracy: 0.9357 - val_loss: 22.1031 - val_accuracy: 0.2619\n",
      "Epoch 41/150\n",
      " - 1s - loss: 0.1003 - accuracy: 0.9303 - val_loss: 20.9354 - val_accuracy: 0.2619\n",
      "Epoch 42/150\n",
      " - 1s - loss: 0.1050 - accuracy: 0.9223 - val_loss: 21.5027 - val_accuracy: 0.2619\n",
      "Epoch 43/150\n",
      " - 1s - loss: 0.0982 - accuracy: 0.9330 - val_loss: 21.6920 - val_accuracy: 0.2619\n",
      "Epoch 44/150\n",
      " - 1s - loss: 0.1015 - accuracy: 0.9249 - val_loss: 21.5083 - val_accuracy: 0.2619\n",
      "Epoch 45/150\n",
      " - 1s - loss: 0.0951 - accuracy: 0.9330 - val_loss: 21.7094 - val_accuracy: 0.2619\n",
      "Epoch 46/150\n",
      " - 1s - loss: 0.0984 - accuracy: 0.9276 - val_loss: 20.8868 - val_accuracy: 0.2619\n",
      "Epoch 47/150\n",
      " - 1s - loss: 0.0926 - accuracy: 0.9196 - val_loss: 21.9057 - val_accuracy: 0.2619\n",
      "Epoch 48/150\n",
      " - 1s - loss: 0.0927 - accuracy: 0.9249 - val_loss: 22.4870 - val_accuracy: 0.2619\n",
      "Epoch 49/150\n",
      " - 1s - loss: 0.1024 - accuracy: 0.9303 - val_loss: 20.0793 - val_accuracy: 0.2619\n",
      "Epoch 50/150\n",
      " - 1s - loss: 0.0959 - accuracy: 0.9223 - val_loss: 21.2345 - val_accuracy: 0.2619\n",
      "Epoch 51/150\n",
      " - 1s - loss: 0.0941 - accuracy: 0.9330 - val_loss: 22.3670 - val_accuracy: 0.2619\n",
      "Epoch 52/150\n",
      " - 1s - loss: 0.0963 - accuracy: 0.9330 - val_loss: 21.6595 - val_accuracy: 0.2619\n",
      "Epoch 53/150\n",
      " - 1s - loss: 0.0943 - accuracy: 0.9223 - val_loss: 21.2220 - val_accuracy: 0.2619\n",
      "Epoch 54/150\n",
      " - 1s - loss: 0.0883 - accuracy: 0.9276 - val_loss: 22.1173 - val_accuracy: 0.2619\n",
      "Epoch 55/150\n",
      " - 1s - loss: 0.0929 - accuracy: 0.9223 - val_loss: 22.1294 - val_accuracy: 0.2619\n",
      "Epoch 56/150\n",
      " - 2s - loss: 0.0953 - accuracy: 0.9223 - val_loss: 21.4089 - val_accuracy: 0.2619\n",
      "Epoch 57/150\n",
      " - 2s - loss: 0.0897 - accuracy: 0.9330 - val_loss: 21.7505 - val_accuracy: 0.2619\n",
      "Epoch 58/150\n",
      " - 1s - loss: 0.0908 - accuracy: 0.9276 - val_loss: 21.8813 - val_accuracy: 0.2619\n",
      "Epoch 59/150\n",
      " - 1s - loss: 0.0883 - accuracy: 0.9383 - val_loss: 22.1617 - val_accuracy: 0.2619\n",
      "Epoch 60/150\n",
      " - 1s - loss: 0.0929 - accuracy: 0.9303 - val_loss: 22.1029 - val_accuracy: 0.2619\n",
      "Epoch 61/150\n",
      " - 1s - loss: 0.0919 - accuracy: 0.9249 - val_loss: 21.4610 - val_accuracy: 0.2619\n",
      "Epoch 62/150\n",
      " - 1s - loss: 0.0863 - accuracy: 0.9249 - val_loss: 22.4003 - val_accuracy: 0.2619\n",
      "Epoch 63/150\n",
      " - 1s - loss: 0.0923 - accuracy: 0.9169 - val_loss: 22.5016 - val_accuracy: 0.2619\n",
      "Epoch 64/150\n",
      " - 1s - loss: 0.0939 - accuracy: 0.9196 - val_loss: 21.3753 - val_accuracy: 0.2619\n",
      "Epoch 65/150\n",
      " - 1s - loss: 0.0932 - accuracy: 0.9357 - val_loss: 20.0135 - val_accuracy: 0.2619\n",
      "Epoch 66/150\n",
      " - 1s - loss: 0.0924 - accuracy: 0.9142 - val_loss: 21.3201 - val_accuracy: 0.2619\n",
      "Epoch 67/150\n",
      " - 1s - loss: 0.0917 - accuracy: 0.9249 - val_loss: 21.4442 - val_accuracy: 0.2619\n",
      "Epoch 68/150\n",
      " - 1s - loss: 0.0950 - accuracy: 0.9303 - val_loss: 21.0915 - val_accuracy: 0.2619\n",
      "Epoch 69/150\n",
      " - 1s - loss: 0.0919 - accuracy: 0.9383 - val_loss: 20.6420 - val_accuracy: 0.2619\n",
      "Epoch 70/150\n",
      " - 1s - loss: 0.0953 - accuracy: 0.9330 - val_loss: 21.0257 - val_accuracy: 0.2619\n",
      "Epoch 71/150\n",
      " - 1s - loss: 0.0895 - accuracy: 0.9464 - val_loss: 20.4164 - val_accuracy: 0.2619\n",
      "Epoch 72/150\n",
      " - 1s - loss: 0.0898 - accuracy: 0.9223 - val_loss: 20.4605 - val_accuracy: 0.2619\n",
      "Epoch 73/150\n",
      " - 1s - loss: 0.0885 - accuracy: 0.9330 - val_loss: 21.8325 - val_accuracy: 0.2619\n",
      "Epoch 74/150\n",
      " - 1s - loss: 0.0880 - accuracy: 0.9223 - val_loss: 21.9851 - val_accuracy: 0.2619\n",
      "Epoch 75/150\n",
      " - 1s - loss: 0.0915 - accuracy: 0.9357 - val_loss: 21.2650 - val_accuracy: 0.2619\n",
      "Epoch 76/150\n",
      " - 1s - loss: 0.0890 - accuracy: 0.9383 - val_loss: 20.7420 - val_accuracy: 0.2619\n",
      "Epoch 77/150\n",
      " - 1s - loss: 0.0894 - accuracy: 0.9196 - val_loss: 21.0447 - val_accuracy: 0.2619\n",
      "Epoch 78/150\n",
      " - 1s - loss: 0.0942 - accuracy: 0.9357 - val_loss: 20.1139 - val_accuracy: 0.2619\n",
      "Epoch 79/150\n",
      " - 1s - loss: 0.0890 - accuracy: 0.9383 - val_loss: 20.4307 - val_accuracy: 0.2619\n",
      "Epoch 80/150\n",
      " - 1s - loss: 0.0889 - accuracy: 0.9383 - val_loss: 21.8964 - val_accuracy: 0.2619\n",
      "Epoch 81/150\n",
      " - 1s - loss: 0.0910 - accuracy: 0.9276 - val_loss: 20.0581 - val_accuracy: 0.2619\n",
      "Epoch 82/150\n",
      " - 1s - loss: 0.0879 - accuracy: 0.9410 - val_loss: 21.5389 - val_accuracy: 0.2619\n",
      "Epoch 83/150\n",
      " - 1s - loss: 0.0861 - accuracy: 0.9303 - val_loss: 21.5830 - val_accuracy: 0.2619\n"
     ]
    },
    {
     "name": "stdout",
     "output_type": "stream",
     "text": [
      "Epoch 84/150\n",
      " - 1s - loss: 0.0913 - accuracy: 0.9223 - val_loss: 20.8531 - val_accuracy: 0.2619\n",
      "Epoch 85/150\n",
      " - 1s - loss: 0.0856 - accuracy: 0.9330 - val_loss: 21.3313 - val_accuracy: 0.2619\n",
      "Epoch 86/150\n",
      " - 1s - loss: 0.0893 - accuracy: 0.9357 - val_loss: 21.6719 - val_accuracy: 0.2619\n",
      "Epoch 87/150\n",
      " - 1s - loss: 0.0935 - accuracy: 0.9276 - val_loss: 19.9478 - val_accuracy: 0.2619\n",
      "Epoch 88/150\n",
      " - 1s - loss: 0.0880 - accuracy: 0.9383 - val_loss: 21.1478 - val_accuracy: 0.2619\n",
      "Epoch 89/150\n",
      " - 1s - loss: 0.0836 - accuracy: 0.9303 - val_loss: 22.1124 - val_accuracy: 0.2619\n",
      "Epoch 90/150\n",
      " - 1s - loss: 0.0877 - accuracy: 0.9223 - val_loss: 21.9811 - val_accuracy: 0.2619\n",
      "Epoch 91/150\n",
      " - 1s - loss: 0.0905 - accuracy: 0.9276 - val_loss: 20.4900 - val_accuracy: 0.2619\n",
      "Epoch 92/150\n",
      " - 1s - loss: 0.0889 - accuracy: 0.9196 - val_loss: 20.6689 - val_accuracy: 0.2619\n",
      "Epoch 93/150\n",
      " - 1s - loss: 0.0902 - accuracy: 0.9437 - val_loss: 18.8105 - val_accuracy: 0.2619\n",
      "Epoch 94/150\n",
      " - 1s - loss: 0.0896 - accuracy: 0.9357 - val_loss: 20.8061 - val_accuracy: 0.2619\n",
      "Epoch 95/150\n",
      " - 1s - loss: 0.0918 - accuracy: 0.9357 - val_loss: 19.8267 - val_accuracy: 0.2619\n",
      "Epoch 96/150\n",
      " - 1s - loss: 0.0883 - accuracy: 0.9196 - val_loss: 19.8536 - val_accuracy: 0.2619\n",
      "Epoch 97/150\n",
      " - 1s - loss: 0.0845 - accuracy: 0.9303 - val_loss: 22.3402 - val_accuracy: 0.2619\n",
      "Epoch 98/150\n",
      " - 1s - loss: 0.0908 - accuracy: 0.9357 - val_loss: 21.3128 - val_accuracy: 0.2619\n",
      "Epoch 99/150\n",
      " - 1s - loss: 0.0894 - accuracy: 0.9357 - val_loss: 20.2919 - val_accuracy: 0.2619\n",
      "Epoch 100/150\n",
      " - 1s - loss: 0.0920 - accuracy: 0.9303 - val_loss: 18.6724 - val_accuracy: 0.2619\n",
      "Epoch 101/150\n",
      " - 1s - loss: 0.0847 - accuracy: 0.9249 - val_loss: 21.0096 - val_accuracy: 0.2619\n",
      "Epoch 102/150\n",
      " - 1s - loss: 0.0862 - accuracy: 0.9330 - val_loss: 22.2842 - val_accuracy: 0.2619\n",
      "Epoch 103/150\n",
      " - 1s - loss: 0.0831 - accuracy: 0.9437 - val_loss: 19.2511 - val_accuracy: 0.2619\n",
      "Epoch 104/150\n",
      " - 1s - loss: 0.0909 - accuracy: 0.9383 - val_loss: 19.5555 - val_accuracy: 0.2619\n",
      "Epoch 105/150\n",
      " - 1s - loss: 0.0882 - accuracy: 0.9357 - val_loss: 20.4988 - val_accuracy: 0.2619\n",
      "Epoch 106/150\n",
      " - 1s - loss: 0.0904 - accuracy: 0.9383 - val_loss: 19.8631 - val_accuracy: 0.2619\n",
      "Epoch 107/150\n",
      " - 1s - loss: 0.0845 - accuracy: 0.9330 - val_loss: 20.6736 - val_accuracy: 0.2619\n",
      "Epoch 108/150\n",
      " - 1s - loss: 0.0882 - accuracy: 0.9410 - val_loss: 20.7432 - val_accuracy: 0.2619\n",
      "Epoch 109/150\n",
      " - 1s - loss: 0.0861 - accuracy: 0.9276 - val_loss: 20.9491 - val_accuracy: 0.2619\n",
      "Epoch 110/150\n",
      " - 1s - loss: 0.0854 - accuracy: 0.9249 - val_loss: 22.1262 - val_accuracy: 0.2619\n",
      "Epoch 111/150\n",
      " - 1s - loss: 0.0861 - accuracy: 0.9223 - val_loss: 21.4205 - val_accuracy: 0.2619\n",
      "Epoch 112/150\n",
      " - 1s - loss: 0.0812 - accuracy: 0.9303 - val_loss: 20.8057 - val_accuracy: 0.2619\n",
      "Epoch 113/150\n",
      " - 1s - loss: 0.0879 - accuracy: 0.9249 - val_loss: 20.2650 - val_accuracy: 0.2619\n",
      "Epoch 114/150\n",
      " - 1s - loss: 0.0873 - accuracy: 0.9330 - val_loss: 20.0035 - val_accuracy: 0.2619\n",
      "Epoch 115/150\n",
      " - 1s - loss: 0.0844 - accuracy: 0.9330 - val_loss: 21.0305 - val_accuracy: 0.2619\n",
      "Epoch 116/150\n",
      " - 1s - loss: 0.0836 - accuracy: 0.9249 - val_loss: 22.9774 - val_accuracy: 0.2619\n",
      "Epoch 117/150\n",
      " - 1s - loss: 0.1328 - accuracy: 0.9357 - val_loss: 16.7629 - val_accuracy: 0.2619\n",
      "Epoch 118/150\n",
      " - 1s - loss: 0.1375 - accuracy: 0.9276 - val_loss: 17.9467 - val_accuracy: 0.2619\n",
      "Epoch 119/150\n",
      " - 1s - loss: 0.1451 - accuracy: 0.9196 - val_loss: 15.6328 - val_accuracy: 0.2619\n",
      "Epoch 120/150\n",
      " - 1s - loss: 0.1452 - accuracy: 0.9115 - val_loss: 19.0891 - val_accuracy: 0.2619\n",
      "Epoch 121/150\n",
      " - 1s - loss: 0.1485 - accuracy: 0.9142 - val_loss: 24.2673 - val_accuracy: 0.2143\n",
      "Epoch 122/150\n",
      " - 1s - loss: 0.1227 - accuracy: 0.9142 - val_loss: 20.6475 - val_accuracy: 0.2143\n",
      "Epoch 123/150\n",
      " - 1s - loss: 0.0975 - accuracy: 0.9383 - val_loss: 21.9352 - val_accuracy: 0.2143\n",
      "Epoch 124/150\n",
      " - 1s - loss: 0.1124 - accuracy: 0.9330 - val_loss: 17.0972 - val_accuracy: 0.2143\n",
      "Epoch 125/150\n",
      " - 1s - loss: 0.0928 - accuracy: 0.9276 - val_loss: 19.6339 - val_accuracy: 0.2143\n",
      "Epoch 126/150\n",
      " - 1s - loss: 0.0911 - accuracy: 0.9303 - val_loss: 20.7613 - val_accuracy: 0.2143\n",
      "Epoch 127/150\n",
      " - 1s - loss: 0.0895 - accuracy: 0.9142 - val_loss: 20.3833 - val_accuracy: 0.2143\n",
      "Epoch 128/150\n",
      " - 1s - loss: 0.0890 - accuracy: 0.9303 - val_loss: 20.9680 - val_accuracy: 0.2143\n",
      "Epoch 129/150\n",
      " - 1s - loss: 0.0861 - accuracy: 0.9276 - val_loss: 20.7623 - val_accuracy: 0.2143\n",
      "Epoch 130/150\n",
      " - 1s - loss: 0.0869 - accuracy: 0.9249 - val_loss: 21.0390 - val_accuracy: 0.2143\n",
      "Epoch 131/150\n",
      " - 1s - loss: 0.0864 - accuracy: 0.9410 - val_loss: 21.0836 - val_accuracy: 0.2143\n",
      "Epoch 132/150\n",
      " - 1s - loss: 0.0865 - accuracy: 0.9249 - val_loss: 21.5963 - val_accuracy: 0.2143\n",
      "Epoch 133/150\n",
      " - 1s - loss: 0.0875 - accuracy: 0.9357 - val_loss: 20.7240 - val_accuracy: 0.2143\n",
      "Epoch 134/150\n",
      " - 1s - loss: 0.0929 - accuracy: 0.9303 - val_loss: 18.5419 - val_accuracy: 0.2143\n",
      "Epoch 135/150\n",
      " - 1s - loss: 0.0912 - accuracy: 0.9249 - val_loss: 19.0119 - val_accuracy: 0.2143\n",
      "Epoch 136/150\n",
      " - 1s - loss: 0.0900 - accuracy: 0.9330 - val_loss: 20.0648 - val_accuracy: 0.2143\n",
      "Epoch 137/150\n",
      " - 1s - loss: 0.0876 - accuracy: 0.9330 - val_loss: 18.9743 - val_accuracy: 0.2143\n",
      "Epoch 138/150\n",
      " - 1s - loss: 0.0934 - accuracy: 0.9249 - val_loss: 19.2598 - val_accuracy: 0.2143\n",
      "Epoch 139/150\n",
      " - 1s - loss: 0.0910 - accuracy: 0.9330 - val_loss: 18.7602 - val_accuracy: 0.2143\n",
      "Epoch 140/150\n",
      " - 1s - loss: 0.0861 - accuracy: 0.9383 - val_loss: 19.4364 - val_accuracy: 0.2143\n",
      "Epoch 141/150\n",
      " - 1s - loss: 0.0917 - accuracy: 0.9276 - val_loss: 19.5809 - val_accuracy: 0.2143\n",
      "Epoch 142/150\n",
      " - 1s - loss: 0.0862 - accuracy: 0.9303 - val_loss: 18.9154 - val_accuracy: 0.2143\n",
      "Epoch 143/150\n",
      " - 1s - loss: 0.0854 - accuracy: 0.9357 - val_loss: 20.0562 - val_accuracy: 0.2143\n",
      "Epoch 144/150\n",
      " - 1s - loss: 0.0858 - accuracy: 0.9303 - val_loss: 20.0756 - val_accuracy: 0.2143\n",
      "Epoch 145/150\n",
      " - 1s - loss: 0.0863 - accuracy: 0.9330 - val_loss: 20.1947 - val_accuracy: 0.2143\n",
      "Epoch 146/150\n",
      " - 1s - loss: 0.0871 - accuracy: 0.9276 - val_loss: 19.6517 - val_accuracy: 0.2143\n",
      "Epoch 147/150\n",
      " - 1s - loss: 0.0858 - accuracy: 0.9357 - val_loss: 20.0723 - val_accuracy: 0.2143\n",
      "Epoch 148/150\n",
      " - 1s - loss: 0.0865 - accuracy: 0.9276 - val_loss: 19.4037 - val_accuracy: 0.2143\n",
      "Epoch 149/150\n",
      " - 1s - loss: 0.0880 - accuracy: 0.9276 - val_loss: 18.8426 - val_accuracy: 0.2143\n",
      "Epoch 150/150\n",
      " - 1s - loss: 0.0858 - accuracy: 0.9276 - val_loss: 19.3429 - val_accuracy: 0.2143\n"
     ]
    }
   ],
   "source": [
    "rnn=rnn_model.fit(train, test, epochs=150,verbose = 2, batch_size=16,validation_split=0.1)"
   ]
  },
  {
   "cell_type": "markdown",
   "metadata": {},
   "source": [
    "### Accuracy (RNN) "
   ]
  },
  {
   "cell_type": "code",
   "execution_count": 33,
   "metadata": {},
   "outputs": [
    {
     "name": "stdout",
     "output_type": "stream",
     "text": [
      "Model saved successfully...\n",
      "415/415 [==============================] - 0s 654us/step\n",
      "Accuracy: 0.8698795437812805\n"
     ]
    }
   ],
   "source": [
    "rnn_model.save('model_covid_rnn.h5')\n",
    "print(\"Model saved successfully...\")\n",
    "\n",
    "scores = rnn_model.evaluate(train, test, verbose=1)\n",
    "print(\"Accuracy:\", scores[1])"
   ]
  },
  {
   "cell_type": "markdown",
   "metadata": {},
   "source": [
    "### Graph results of RNN "
   ]
  },
  {
   "cell_type": "code",
   "execution_count": 34,
   "metadata": {},
   "outputs": [
    {
     "data": {
      "text/plain": [
       "<matplotlib.legend.Legend at 0x1ae73ab1588>"
      ]
     },
     "execution_count": 34,
     "metadata": {},
     "output_type": "execute_result"
    },
    {
     "data": {
      "image/png": "[encoded data removed]",
      "text/plain": [
       "<Figure size 432x288 with 1 Axes>"
      ]
     },
     "metadata": {
      "needs_background": "light"
     },
     "output_type": "display_data"
    }
   ],
   "source": [
    "%matplotlib inline\n",
    "import matplotlib.pyplot as plt\n",
    "\n",
    "acc=rnn.history['accuracy']\n",
    "loss=rnn.history['loss']\n",
    "\n",
    "\n",
    "epochs=range(len(acc))\n",
    "\n",
    "plt.plot(epochs,acc,'bo', alpha = 0.6, label='acc')\n",
    "plt.ylim(0,1.2)\n",
    "plt.plot(epochs, loss,'go',alpha=0.6, label='loss')\n",
    "plt.title('Model accuracy and Loss')\n",
    "plt.legend()"
   ]
  },
  {
   "cell_type": "markdown",
   "metadata": {},
   "source": [
    "### Long Short Term Memory (LSTM)"
   ]
  },
  {
   "cell_type": "code",
   "execution_count": 41,
   "metadata": {},
   "outputs": [],
   "source": [
    "\n",
    "lstm_model = Sequential()\n",
    "lstm_model.add(Embedding(304, 32,input_length = 304))\n",
    "lstm_model.add(LSTM(196, dropout=0.2, recurrent_dropout=0.2))\n",
    "lstm_model.add(Dense(144,activation='sigmoid'))\n",
    "lstm_model.compile(loss = 'binary_crossentropy', optimizer='adam',metrics = ['accuracy'])\n",
    "\n",
    "\n"
   ]
  },
  {
   "cell_type": "code",
   "execution_count": 42,
   "metadata": {},
   "outputs": [
    {
     "name": "stdout",
     "output_type": "stream",
     "text": [
      "Model: \"sequential_5\"\n",
      "_________________________________________________________________\n",
      "Layer (type)                 Output Shape              Param #   \n",
      "=================================================================\n",
      "embedding_5 (Embedding)      (None, 304, 32)           9728      \n",
      "_________________________________________________________________\n",
      "lstm_3 (LSTM)                (None, 196)               179536    \n",
      "_________________________________________________________________\n",
      "dense_7 (Dense)              (None, 144)               28368     \n",
      "=================================================================\n",
      "Total params: 217,632\n",
      "Trainable params: 217,632\n",
      "Non-trainable params: 0\n",
      "_________________________________________________________________\n"
     ]
    }
   ],
   "source": [
    "lstm_model.summary()"
   ]
  },
  {
   "cell_type": "code",
   "execution_count": 43,
   "metadata": {},
   "outputs": [
    {
     "name": "stdout",
     "output_type": "stream",
     "text": [
      "Train on 373 samples, validate on 42 samples\n",
      "Epoch 1/150\n",
      " - 5s - loss: 0.3649 - accuracy: 0.9179 - val_loss: 0.0504 - val_accuracy: 0.9931\n",
      "Epoch 2/150\n",
      " - 4s - loss: 0.0409 - accuracy: 0.9931 - val_loss: 0.0443 - val_accuracy: 0.9931\n",
      "Epoch 3/150\n",
      " - 4s - loss: 0.0377 - accuracy: 0.9931 - val_loss: 0.0465 - val_accuracy: 0.9931\n",
      "Epoch 4/150\n",
      " - 4s - loss: 0.0372 - accuracy: 0.9931 - val_loss: 0.0475 - val_accuracy: 0.9931\n",
      "Epoch 5/150\n",
      " - 4s - loss: 0.0372 - accuracy: 0.9931 - val_loss: 0.0485 - val_accuracy: 0.9931\n",
      "Epoch 6/150\n",
      " - 4s - loss: 0.0372 - accuracy: 0.9931 - val_loss: 0.0498 - val_accuracy: 0.9931\n",
      "Epoch 7/150\n",
      " - 4s - loss: 0.0372 - accuracy: 0.9931 - val_loss: 0.0506 - val_accuracy: 0.9931\n",
      "Epoch 8/150\n",
      " - 4s - loss: 0.0372 - accuracy: 0.9931 - val_loss: 0.0514 - val_accuracy: 0.9931\n",
      "Epoch 9/150\n",
      " - 4s - loss: 0.0372 - accuracy: 0.9931 - val_loss: 0.0518 - val_accuracy: 0.9931\n",
      "Epoch 10/150\n",
      " - 4s - loss: 0.0372 - accuracy: 0.9931 - val_loss: 0.0526 - val_accuracy: 0.9931\n",
      "Epoch 11/150\n",
      " - 4s - loss: 0.0373 - accuracy: 0.9931 - val_loss: 0.0529 - val_accuracy: 0.9931\n",
      "Epoch 12/150\n",
      " - 4s - loss: 0.0374 - accuracy: 0.9931 - val_loss: 0.0540 - val_accuracy: 0.9931\n",
      "Epoch 13/150\n",
      " - 4s - loss: 0.0372 - accuracy: 0.9931 - val_loss: 0.0537 - val_accuracy: 0.9931\n",
      "Epoch 14/150\n",
      " - 4s - loss: 0.0372 - accuracy: 0.9931 - val_loss: 0.0545 - val_accuracy: 0.9931\n",
      "Epoch 15/150\n",
      " - 4s - loss: 0.0373 - accuracy: 0.9931 - val_loss: 0.0547 - val_accuracy: 0.9931\n",
      "Epoch 16/150\n",
      " - 4s - loss: 0.0373 - accuracy: 0.9931 - val_loss: 0.0555 - val_accuracy: 0.9931\n",
      "Epoch 17/150\n",
      " - 4s - loss: 0.0374 - accuracy: 0.9931 - val_loss: 0.0560 - val_accuracy: 0.9931\n",
      "Epoch 18/150\n",
      " - 4s - loss: 0.0373 - accuracy: 0.9931 - val_loss: 0.0560 - val_accuracy: 0.9931\n",
      "Epoch 19/150\n",
      " - 4s - loss: 0.0374 - accuracy: 0.9931 - val_loss: 0.0564 - val_accuracy: 0.9931\n",
      "Epoch 20/150\n",
      " - 4s - loss: 0.0372 - accuracy: 0.9931 - val_loss: 0.0571 - val_accuracy: 0.9931\n",
      "Epoch 21/150\n",
      " - 4s - loss: 0.0373 - accuracy: 0.9931 - val_loss: 0.0575 - val_accuracy: 0.9931\n",
      "Epoch 22/150\n",
      " - 4s - loss: 0.0373 - accuracy: 0.9931 - val_loss: 0.0578 - val_accuracy: 0.9931\n",
      "Epoch 23/150\n",
      " - 4s - loss: 0.0373 - accuracy: 0.9931 - val_loss: 0.0581 - val_accuracy: 0.9931\n",
      "Epoch 24/150\n",
      " - 4s - loss: 0.0374 - accuracy: 0.9931 - val_loss: 0.0584 - val_accuracy: 0.9931\n",
      "Epoch 25/150\n",
      " - 4s - loss: 0.0373 - accuracy: 0.9931 - val_loss: 0.0591 - val_accuracy: 0.9931\n",
      "Epoch 26/150\n",
      " - 4s - loss: 0.0372 - accuracy: 0.9931 - val_loss: 0.0584 - val_accuracy: 0.9931\n",
      "Epoch 27/150\n",
      " - 4s - loss: 0.0373 - accuracy: 0.9931 - val_loss: 0.0592 - val_accuracy: 0.9931\n",
      "Epoch 28/150\n",
      " - 4s - loss: 0.0374 - accuracy: 0.9931 - val_loss: 0.0600 - val_accuracy: 0.9931\n",
      "Epoch 29/150\n",
      " - 4s - loss: 0.0373 - accuracy: 0.9931 - val_loss: 0.0600 - val_accuracy: 0.9931\n",
      "Epoch 30/150\n",
      " - 4s - loss: 0.0374 - accuracy: 0.9931 - val_loss: 0.0597 - val_accuracy: 0.9931\n",
      "Epoch 31/150\n",
      " - 4s - loss: 0.0373 - accuracy: 0.9931 - val_loss: 0.0602 - val_accuracy: 0.9931\n",
      "Epoch 32/150\n",
      " - 4s - loss: 0.0374 - accuracy: 0.9931 - val_loss: 0.0606 - val_accuracy: 0.9931\n",
      "Epoch 33/150\n",
      " - 4s - loss: 0.0373 - accuracy: 0.9931 - val_loss: 0.0608 - val_accuracy: 0.9931\n",
      "Epoch 34/150\n",
      " - 4s - loss: 0.0373 - accuracy: 0.9931 - val_loss: 0.0604 - val_accuracy: 0.9931\n",
      "Epoch 35/150\n",
      " - 4s - loss: 0.0373 - accuracy: 0.9931 - val_loss: 0.0616 - val_accuracy: 0.9931\n",
      "Epoch 36/150\n",
      " - 4s - loss: 0.0374 - accuracy: 0.9931 - val_loss: 0.0617 - val_accuracy: 0.9931\n",
      "Epoch 37/150\n",
      " - 4s - loss: 0.0373 - accuracy: 0.9931 - val_loss: 0.0617 - val_accuracy: 0.9931\n",
      "Epoch 38/150\n",
      " - 4s - loss: 0.0373 - accuracy: 0.9931 - val_loss: 0.0618 - val_accuracy: 0.9931\n",
      "Epoch 39/150\n",
      " - 4s - loss: 0.0374 - accuracy: 0.9931 - val_loss: 0.0619 - val_accuracy: 0.9931\n",
      "Epoch 40/150\n",
      " - 4s - loss: 0.0374 - accuracy: 0.9931 - val_loss: 0.0619 - val_accuracy: 0.9931\n",
      "Epoch 41/150\n",
      " - 4s - loss: 0.0374 - accuracy: 0.9931 - val_loss: 0.0622 - val_accuracy: 0.9931\n",
      "Epoch 42/150\n",
      " - 4s - loss: 0.0374 - accuracy: 0.9931 - val_loss: 0.0627 - val_accuracy: 0.9931\n",
      "Epoch 43/150\n",
      " - 4s - loss: 0.0373 - accuracy: 0.9931 - val_loss: 0.0634 - val_accuracy: 0.9931\n",
      "Epoch 44/150\n",
      " - 4s - loss: 0.0374 - accuracy: 0.9931 - val_loss: 0.0623 - val_accuracy: 0.9931\n",
      "Epoch 45/150\n",
      " - 4s - loss: 0.0373 - accuracy: 0.9931 - val_loss: 0.0633 - val_accuracy: 0.9931\n",
      "Epoch 46/150\n",
      " - 4s - loss: 0.0373 - accuracy: 0.9931 - val_loss: 0.0632 - val_accuracy: 0.9931\n",
      "Epoch 47/150\n",
      " - 4s - loss: 0.0374 - accuracy: 0.9931 - val_loss: 0.0634 - val_accuracy: 0.9931\n",
      "Epoch 48/150\n",
      " - 4s - loss: 0.0374 - accuracy: 0.9931 - val_loss: 0.0636 - val_accuracy: 0.9931\n",
      "Epoch 49/150\n",
      " - 4s - loss: 0.0373 - accuracy: 0.9931 - val_loss: 0.0639 - val_accuracy: 0.9931\n",
      "Epoch 50/150\n",
      " - 4s - loss: 0.0375 - accuracy: 0.9931 - val_loss: 0.0637 - val_accuracy: 0.9931\n",
      "Epoch 51/150\n",
      " - 4s - loss: 0.0375 - accuracy: 0.9931 - val_loss: 0.0632 - val_accuracy: 0.9931\n",
      "Epoch 52/150\n",
      " - 4s - loss: 0.0373 - accuracy: 0.9931 - val_loss: 0.0639 - val_accuracy: 0.9931\n",
      "Epoch 53/150\n",
      " - 4s - loss: 0.0373 - accuracy: 0.9931 - val_loss: 0.0646 - val_accuracy: 0.9931\n",
      "Epoch 54/150\n",
      " - 4s - loss: 0.0373 - accuracy: 0.9931 - val_loss: 0.0640 - val_accuracy: 0.9931\n",
      "Epoch 55/150\n",
      " - 4s - loss: 0.0374 - accuracy: 0.9931 - val_loss: 0.0645 - val_accuracy: 0.9931\n",
      "Epoch 56/150\n",
      " - 4s - loss: 0.0373 - accuracy: 0.9931 - val_loss: 0.0644 - val_accuracy: 0.9931\n",
      "Epoch 57/150\n",
      " - 4s - loss: 0.0374 - accuracy: 0.9931 - val_loss: 0.0646 - val_accuracy: 0.9931\n",
      "Epoch 58/150\n",
      " - 4s - loss: 0.0375 - accuracy: 0.9931 - val_loss: 0.0647 - val_accuracy: 0.9931\n",
      "Epoch 59/150\n",
      " - 4s - loss: 0.0374 - accuracy: 0.9931 - val_loss: 0.0653 - val_accuracy: 0.9931\n",
      "Epoch 60/150\n",
      " - 4s - loss: 0.0374 - accuracy: 0.9931 - val_loss: 0.0651 - val_accuracy: 0.9931\n",
      "Epoch 61/150\n",
      " - 4s - loss: 0.0374 - accuracy: 0.9931 - val_loss: 0.0652 - val_accuracy: 0.9931\n",
      "Epoch 62/150\n",
      " - 4s - loss: 0.0373 - accuracy: 0.9931 - val_loss: 0.0653 - val_accuracy: 0.9931\n",
      "Epoch 63/150\n",
      " - 4s - loss: 0.0374 - accuracy: 0.9931 - val_loss: 0.0653 - val_accuracy: 0.9931\n",
      "Epoch 64/150\n",
      " - 4s - loss: 0.0374 - accuracy: 0.9931 - val_loss: 0.0652 - val_accuracy: 0.9931\n",
      "Epoch 65/150\n",
      " - 4s - loss: 0.0374 - accuracy: 0.9931 - val_loss: 0.0652 - val_accuracy: 0.9931\n",
      "Epoch 66/150\n",
      " - 4s - loss: 0.0374 - accuracy: 0.9931 - val_loss: 0.0659 - val_accuracy: 0.9931\n",
      "Epoch 67/150\n",
      " - 4s - loss: 0.0374 - accuracy: 0.9931 - val_loss: 0.0659 - val_accuracy: 0.9931\n",
      "Epoch 68/150\n",
      " - 4s - loss: 0.0373 - accuracy: 0.9931 - val_loss: 0.0660 - val_accuracy: 0.9931\n",
      "Epoch 69/150\n",
      " - 4s - loss: 0.0374 - accuracy: 0.9931 - val_loss: 0.0661 - val_accuracy: 0.9931\n",
      "Epoch 70/150\n",
      " - 4s - loss: 0.0374 - accuracy: 0.9931 - val_loss: 0.0660 - val_accuracy: 0.9931\n",
      "Epoch 71/150\n",
      " - 4s - loss: 0.0374 - accuracy: 0.9931 - val_loss: 0.0667 - val_accuracy: 0.9931\n",
      "Epoch 72/150\n",
      " - 4s - loss: 0.0374 - accuracy: 0.9931 - val_loss: 0.0662 - val_accuracy: 0.9931\n",
      "Epoch 73/150\n",
      " - 4s - loss: 0.0374 - accuracy: 0.9931 - val_loss: 0.0666 - val_accuracy: 0.9931\n",
      "Epoch 74/150\n",
      " - 4s - loss: 0.0375 - accuracy: 0.9931 - val_loss: 0.0664 - val_accuracy: 0.9931\n",
      "Epoch 75/150\n",
      " - 4s - loss: 0.0373 - accuracy: 0.9931 - val_loss: 0.0664 - val_accuracy: 0.9931\n",
      "Epoch 76/150\n",
      " - 4s - loss: 0.0374 - accuracy: 0.9931 - val_loss: 0.0669 - val_accuracy: 0.9931\n",
      "Epoch 77/150\n",
      " - 4s - loss: 0.0375 - accuracy: 0.9931 - val_loss: 0.0669 - val_accuracy: 0.9931\n",
      "Epoch 78/150\n",
      " - 4s - loss: 0.0374 - accuracy: 0.9931 - val_loss: 0.0670 - val_accuracy: 0.9931\n",
      "Epoch 79/150\n",
      " - 4s - loss: 0.0374 - accuracy: 0.9931 - val_loss: 0.0668 - val_accuracy: 0.9931\n",
      "Epoch 80/150\n",
      " - 4s - loss: 0.0374 - accuracy: 0.9931 - val_loss: 0.0671 - val_accuracy: 0.9931\n",
      "Epoch 81/150\n",
      " - 4s - loss: 0.0374 - accuracy: 0.9931 - val_loss: 0.0670 - val_accuracy: 0.9931\n",
      "Epoch 82/150\n",
      " - 4s - loss: 0.0374 - accuracy: 0.9931 - val_loss: 0.0675 - val_accuracy: 0.9931\n",
      "Epoch 83/150\n",
      " - 4s - loss: 0.0374 - accuracy: 0.9931 - val_loss: 0.0676 - val_accuracy: 0.9931\n",
      "Epoch 84/150\n",
      " - 4s - loss: 0.0374 - accuracy: 0.9931 - val_loss: 0.0673 - val_accuracy: 0.9931\n",
      "Epoch 85/150\n",
      " - 4s - loss: 0.0373 - accuracy: 0.9931 - val_loss: 0.0679 - val_accuracy: 0.9931\n",
      "Epoch 86/150\n",
      " - 4s - loss: 0.0373 - accuracy: 0.9931 - val_loss: 0.0678 - val_accuracy: 0.9931\n"
     ]
    },
    {
     "name": "stdout",
     "output_type": "stream",
     "text": [
      "Epoch 87/150\n",
      " - 4s - loss: 0.0374 - accuracy: 0.9931 - val_loss: 0.0675 - val_accuracy: 0.9931\n",
      "Epoch 88/150\n",
      " - 4s - loss: 0.0376 - accuracy: 0.9931 - val_loss: 0.0676 - val_accuracy: 0.9931\n",
      "Epoch 89/150\n",
      " - 4s - loss: 0.0373 - accuracy: 0.9931 - val_loss: 0.0680 - val_accuracy: 0.9931\n",
      "Epoch 90/150\n",
      " - 4s - loss: 0.0374 - accuracy: 0.9931 - val_loss: 0.0677 - val_accuracy: 0.9931\n",
      "Epoch 91/150\n",
      " - 4s - loss: 0.0374 - accuracy: 0.9931 - val_loss: 0.0680 - val_accuracy: 0.9931\n",
      "Epoch 92/150\n",
      " - 4s - loss: 0.0373 - accuracy: 0.9931 - val_loss: 0.0682 - val_accuracy: 0.9931\n",
      "Epoch 93/150\n",
      " - 4s - loss: 0.0374 - accuracy: 0.9931 - val_loss: 0.0682 - val_accuracy: 0.9931\n",
      "Epoch 94/150\n",
      " - 4s - loss: 0.0374 - accuracy: 0.9931 - val_loss: 0.0682 - val_accuracy: 0.9931\n",
      "Epoch 95/150\n",
      " - 4s - loss: 0.0375 - accuracy: 0.9931 - val_loss: 0.0681 - val_accuracy: 0.9931\n",
      "Epoch 96/150\n",
      " - 4s - loss: 0.0375 - accuracy: 0.9931 - val_loss: 0.0686 - val_accuracy: 0.9931\n",
      "Epoch 97/150\n",
      " - 4s - loss: 0.0373 - accuracy: 0.9931 - val_loss: 0.0689 - val_accuracy: 0.9931\n",
      "Epoch 98/150\n",
      " - 4s - loss: 0.0374 - accuracy: 0.9931 - val_loss: 0.0682 - val_accuracy: 0.9931\n",
      "Epoch 99/150\n",
      " - 4s - loss: 0.0375 - accuracy: 0.9931 - val_loss: 0.0687 - val_accuracy: 0.9931\n",
      "Epoch 100/150\n",
      " - 4s - loss: 0.0373 - accuracy: 0.9931 - val_loss: 0.0686 - val_accuracy: 0.9931\n",
      "Epoch 101/150\n",
      " - 4s - loss: 0.0373 - accuracy: 0.9931 - val_loss: 0.0692 - val_accuracy: 0.9931\n",
      "Epoch 102/150\n",
      " - 4s - loss: 0.0373 - accuracy: 0.9931 - val_loss: 0.0685 - val_accuracy: 0.9931\n",
      "Epoch 103/150\n",
      " - 4s - loss: 0.0375 - accuracy: 0.9931 - val_loss: 0.0693 - val_accuracy: 0.9931\n",
      "Epoch 104/150\n",
      " - 4s - loss: 0.0376 - accuracy: 0.9931 - val_loss: 0.0688 - val_accuracy: 0.9931\n",
      "Epoch 105/150\n",
      " - 4s - loss: 0.0374 - accuracy: 0.9931 - val_loss: 0.0689 - val_accuracy: 0.9931\n",
      "Epoch 106/150\n",
      " - 4s - loss: 0.0374 - accuracy: 0.9931 - val_loss: 0.0698 - val_accuracy: 0.9931\n",
      "Epoch 107/150\n",
      " - 4s - loss: 0.0374 - accuracy: 0.9931 - val_loss: 0.0696 - val_accuracy: 0.9931\n",
      "Epoch 108/150\n",
      " - 4s - loss: 0.0375 - accuracy: 0.9931 - val_loss: 0.0688 - val_accuracy: 0.9931\n",
      "Epoch 109/150\n",
      " - 4s - loss: 0.0374 - accuracy: 0.9931 - val_loss: 0.0697 - val_accuracy: 0.9931\n",
      "Epoch 110/150\n",
      " - 4s - loss: 0.0374 - accuracy: 0.9931 - val_loss: 0.0690 - val_accuracy: 0.9931\n",
      "Epoch 111/150\n",
      " - 4s - loss: 0.0374 - accuracy: 0.9931 - val_loss: 0.0696 - val_accuracy: 0.9931\n",
      "Epoch 112/150\n",
      " - 4s - loss: 0.0373 - accuracy: 0.9931 - val_loss: 0.0692 - val_accuracy: 0.9931\n",
      "Epoch 113/150\n",
      " - 4s - loss: 0.0375 - accuracy: 0.9931 - val_loss: 0.0695 - val_accuracy: 0.9931\n",
      "Epoch 114/150\n",
      " - 4s - loss: 0.0374 - accuracy: 0.9931 - val_loss: 0.0697 - val_accuracy: 0.9931\n",
      "Epoch 115/150\n",
      " - 4s - loss: 0.0374 - accuracy: 0.9931 - val_loss: 0.0696 - val_accuracy: 0.9931\n",
      "Epoch 116/150\n",
      " - 4s - loss: 0.0374 - accuracy: 0.9931 - val_loss: 0.0691 - val_accuracy: 0.9931\n",
      "Epoch 117/150\n",
      " - 4s - loss: 0.0374 - accuracy: 0.9931 - val_loss: 0.0697 - val_accuracy: 0.9931\n",
      "Epoch 118/150\n",
      " - 4s - loss: 0.0374 - accuracy: 0.9931 - val_loss: 0.0694 - val_accuracy: 0.9931\n",
      "Epoch 119/150\n",
      " - 4s - loss: 0.0375 - accuracy: 0.9931 - val_loss: 0.0697 - val_accuracy: 0.9931\n",
      "Epoch 120/150\n",
      " - 4s - loss: 0.0373 - accuracy: 0.9931 - val_loss: 0.0693 - val_accuracy: 0.9931\n",
      "Epoch 121/150\n",
      " - 4s - loss: 0.0373 - accuracy: 0.9931 - val_loss: 0.0690 - val_accuracy: 0.9931\n",
      "Epoch 122/150\n",
      " - 4s - loss: 0.0373 - accuracy: 0.9931 - val_loss: 0.0689 - val_accuracy: 0.9931\n",
      "Epoch 123/150\n",
      " - 4s - loss: 0.0372 - accuracy: 0.9931 - val_loss: 0.0692 - val_accuracy: 0.9931\n",
      "Epoch 124/150\n",
      " - 4s - loss: 0.0371 - accuracy: 0.9931 - val_loss: 0.0684 - val_accuracy: 0.9931\n",
      "Epoch 125/150\n",
      " - 4s - loss: 0.0370 - accuracy: 0.9931 - val_loss: 0.0688 - val_accuracy: 0.9931\n",
      "Epoch 126/150\n",
      " - 4s - loss: 0.0371 - accuracy: 0.9931 - val_loss: 0.0681 - val_accuracy: 0.9931\n",
      "Epoch 127/150\n",
      " - 4s - loss: 0.0369 - accuracy: 0.9931 - val_loss: 0.0691 - val_accuracy: 0.9931\n",
      "Epoch 128/150\n",
      " - 4s - loss: 0.0406 - accuracy: 0.9904 - val_loss: 0.0671 - val_accuracy: 0.9931\n",
      "Epoch 129/150\n",
      " - 4s - loss: 0.0368 - accuracy: 0.9931 - val_loss: 0.0662 - val_accuracy: 0.9931\n",
      "Epoch 130/150\n",
      " - 4s - loss: 0.0366 - accuracy: 0.9931 - val_loss: 0.0664 - val_accuracy: 0.9931\n",
      "Epoch 131/150\n",
      " - 4s - loss: 0.0365 - accuracy: 0.9931 - val_loss: 0.0671 - val_accuracy: 0.9931\n",
      "Epoch 132/150\n",
      " - 4s - loss: 0.0363 - accuracy: 0.9931 - val_loss: 0.0675 - val_accuracy: 0.9931\n",
      "Epoch 133/150\n",
      " - 4s - loss: 0.0361 - accuracy: 0.9931 - val_loss: 0.0672 - val_accuracy: 0.9931\n",
      "Epoch 134/150\n",
      " - 4s - loss: 0.0360 - accuracy: 0.9931 - val_loss: 0.0682 - val_accuracy: 0.9931\n",
      "Epoch 135/150\n",
      " - 4s - loss: 0.0359 - accuracy: 0.9931 - val_loss: 0.0690 - val_accuracy: 0.9931\n",
      "Epoch 136/150\n",
      " - 4s - loss: 0.0357 - accuracy: 0.9931 - val_loss: 0.0688 - val_accuracy: 0.9931\n",
      "Epoch 137/150\n",
      " - 4s - loss: 0.0356 - accuracy: 0.9931 - val_loss: 0.0692 - val_accuracy: 0.9931\n",
      "Epoch 138/150\n",
      " - 4s - loss: 0.0355 - accuracy: 0.9931 - val_loss: 0.0699 - val_accuracy: 0.9931\n",
      "Epoch 139/150\n",
      " - 4s - loss: 0.0352 - accuracy: 0.9931 - val_loss: 0.0700 - val_accuracy: 0.9931\n",
      "Epoch 140/150\n",
      " - 4s - loss: 0.0350 - accuracy: 0.9931 - val_loss: 0.0709 - val_accuracy: 0.9931\n",
      "Epoch 141/150\n",
      " - 4s - loss: 0.0350 - accuracy: 0.9931 - val_loss: 0.0712 - val_accuracy: 0.9931\n",
      "Epoch 142/150\n",
      " - 4s - loss: 0.0348 - accuracy: 0.9931 - val_loss: 0.0712 - val_accuracy: 0.9931\n",
      "Epoch 143/150\n",
      " - 4s - loss: 0.0348 - accuracy: 0.9931 - val_loss: 0.0720 - val_accuracy: 0.9931\n",
      "Epoch 144/150\n",
      " - 4s - loss: 0.0347 - accuracy: 0.9931 - val_loss: 0.0719 - val_accuracy: 0.9931\n",
      "Epoch 145/150\n",
      " - 4s - loss: 0.0345 - accuracy: 0.9931 - val_loss: 0.0726 - val_accuracy: 0.9931\n",
      "Epoch 146/150\n",
      " - 4s - loss: 0.0345 - accuracy: 0.9931 - val_loss: 0.0731 - val_accuracy: 0.9931\n",
      "Epoch 147/150\n",
      " - 4s - loss: 0.0344 - accuracy: 0.9931 - val_loss: 0.0740 - val_accuracy: 0.9931\n",
      "Epoch 148/150\n",
      " - 4s - loss: 0.0344 - accuracy: 0.9931 - val_loss: 0.0737 - val_accuracy: 0.9931\n",
      "Epoch 149/150\n",
      " - 4s - loss: 0.0341 - accuracy: 0.9931 - val_loss: 0.0742 - val_accuracy: 0.9931\n",
      "Epoch 150/150\n",
      " - 4s - loss: 0.0341 - accuracy: 0.9931 - val_loss: 0.0745 - val_accuracy: 0.9931\n"
     ]
    }
   ],
   "source": [
    "lstm=lstm_model.fit(train, test, epochs=150,verbose = 2, batch_size=16,validation_split=0.1)"
   ]
  },
  {
   "cell_type": "markdown",
   "metadata": {},
   "source": [
    "### Accuracy (LSTM) "
   ]
  },
  {
   "cell_type": "code",
   "execution_count": 44,
   "metadata": {},
   "outputs": [
    {
     "name": "stdout",
     "output_type": "stream",
     "text": [
      "Model saved successfully...\n",
      "415/415 [==============================] - 3s 7ms/step\n",
      "Accuracy: 0.9930722117424011\n"
     ]
    }
   ],
   "source": [
    "lstm_model.save('model_covid_lstm.h5')\n",
    "print(\"Model saved successfully...\")\n",
    "\n",
    "scores = lstm_model.evaluate(train, test, verbose=1)\n",
    "print(\"Accuracy:\", scores[1])"
   ]
  },
  {
   "cell_type": "markdown",
   "metadata": {},
   "source": [
    "### Graph results of LSTM"
   ]
  },
  {
   "cell_type": "code",
   "execution_count": 56,
   "metadata": {},
   "outputs": [
    {
     "data": {
      "image/png": "[encoded data removed]",
      "text/plain": [
       "<Figure size 432x288 with 1 Axes>"
      ]
     },
     "metadata": {
      "needs_background": "light"
     },
     "output_type": "display_data"
    }
   ],
   "source": [
    "%matplotlib inline\n",
    "import matplotlib.pyplot as plt\n",
    "\n",
    "plt.plot(lstm.history['accuracy'])\n",
    "plt.title('model accuracy')\n",
    "plt.ylim(0.98,0.9999)\n",
    "plt.xlim(-10,150)\n",
    "plt.ylabel('accuracy')\n",
    "plt.xlabel('epoch')\n",
    "plt.legend(['accuracy'], loc='upper left')\n",
    "plt.show()"
   ]
  },
  {
   "cell_type": "code",
   "execution_count": 61,
   "metadata": {},
   "outputs": [
    {
     "data": {
      "image/png": "[encoded data removed]",
      "text/plain": [
       "<Figure size 432x288 with 1 Axes>"
      ]
     },
     "metadata": {
      "needs_background": "light"
     },
     "output_type": "display_data"
    }
   ],
   "source": [
    "%matplotlib inline\n",
    "import matplotlib.pyplot as plt\n",
    "\n",
    "plt.plot(lstm.history['loss'])\n",
    "plt.title('model loss')\n",
    "plt.ylim(0.030,0.049)\n",
    "plt.xlim(-10,100)\n",
    "plt.ylabel('loss')\n",
    "plt.xlabel('epoch')\n",
    "plt.legend(['loss'], loc='upper left')\n",
    "plt.show()"
   ]
  },
  {
   "cell_type": "code",
   "execution_count": null,
   "metadata": {},
   "outputs": [],
   "source": []
  }
 ],
 "metadata": {
  "accelerator": "GPU",
  "colab": {
   "collapsed_sections": [],
   "name": "AI_540.ipynb",
   "provenance": [],
   "toc_visible": true
  },
  "kernelspec": {
   "display_name": "Python 3",
   "language": "python",
   "name": "python3"
  },
  "language_info": {
   "codemirror_mode": {
    "name": "ipython",
    "version": 3
   },
   "file_extension": ".py",
   "mimetype": "text/x-python",
   "name": "python",
   "nbconvert_exporter": "python",
   "pygments_lexer": "ipython3",
   "version": "3.7.6"
  }
 },
 "nbformat": 4,
 "nbformat_minor": 1
}
