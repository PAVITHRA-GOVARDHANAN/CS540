{
 "cells": [
  {
   "cell_type": "markdown",
   "metadata": {
    "scrolled": true
   },
   "source": [
    "# *CS540 PROJECT : CS CHATBOT*"
   ]
  },
  {
   "cell_type": "markdown",
   "metadata": {},
   "source": [
    "-**_by TEAM F_**\n",
    "- **Pavithra Govardhanan**\n",
    "- **Saptarshi Chatterjee**\n",
    "- **Shree Harini Ravichandran**\n",
    "- **Rusha Lawande**\n",
    "\n",
    "\n"
   ]
  },
  {
   "cell_type": "markdown",
   "metadata": {},
   "source": [
    "### Importing Packages "
   ]
  },
  {
   "cell_type": "code",
   "execution_count": 15,
   "metadata": {},
   "outputs": [
    {
     "name": "stderr",
     "output_type": "stream",
     "text": [
      "[nltk_data] Downloading package punkt to\n",
      "[nltk_data]     C:\\Users\\pavig\\AppData\\Roaming\\nltk_data...\n",
      "[nltk_data]   Package punkt is already up-to-date!\n"
     ]
    },
    {
     "data": {
      "text/plain": [
       "True"
      ]
     },
     "execution_count": 15,
     "metadata": {},
     "output_type": "execute_result"
    }
   ],
   "source": [
    "import numpy\n",
    "import random\n",
    "import json\n",
    "import pickle\n",
    "import nltk\n",
    "import tensorflow as tf\n",
    "from flask import Flask,render_template\n",
    "import flask_restful as restful\n",
    "from flask_restful import reqparse, abort, Api, Resource\n",
    "from tensorflow.keras.preprocessing.text import Tokenizer\n",
    "from tensorflow.keras.preprocessing.sequence import pad_sequences\n",
    "from tensorflow.keras import backend\n",
    "from tensorflow.keras.models import Sequential, load_model\n",
    "from tensorflow.keras.layers import LSTM, Dense, RepeatVector, Masking, TimeDistributed\n",
    "from tensorflow. keras.utils import plot_model\n",
    "from tensorflow.keras.models import Sequential\n",
    "from nltk.stem.lancaster import LancasterStemmer\n",
    "\n",
    "nltk.download('punkt')"
   ]
  },
  {
   "cell_type": "markdown",
   "metadata": {},
   "source": [
    "### Reading JSON File "
   ]
  },
  {
   "cell_type": "code",
   "execution_count": 16,
   "metadata": {},
   "outputs": [],
   "source": [
    "with open(\"cs_dataset.json\",encoding=\"utf-8\") as data:\n",
    "        contents = json.load(data)"
   ]
  },
  {
   "cell_type": "markdown",
   "metadata": {},
   "source": [
    "### Pre-Processing"
   ]
  },
  {
   "cell_type": "code",
   "execution_count": 18,
   "metadata": {},
   "outputs": [],
   "source": [
    "try:\n",
    "    # [IMP: If you changing the json input data, delete the pickle file and try running code again]\n",
    "    # Try loading already pre-processed data from the pickle file.\n",
    "    with open(\"cache.pickle\", \"rb\") as f:\n",
    "        vocabulary, labels, training, output = pickle.load(f)\n",
    "\n",
    "except:\n",
    "\n",
    "    # If no stored data in pickle file, pre-process the data, and store it now.\n",
    "    vocabulary = []\n",
    "    labels = []\n",
    "    docs_x = []\n",
    "    docs_y = []\n",
    "\n",
    "    # Extract words from the patterns, extract labels (tags)\n",
    "\n",
    "    for intent in data[\"intents\"]:\n",
    "        for pattern in intent[\"patterns\"]:\n",
    "\n",
    "            tokenized_words = nltk.word_tokenize(pattern) \n",
    "            vocabulary.extend(tokenized_words) \n",
    "            docs_x.append(tokenized_words)\n",
    "            docs_y.append(intent[\"tag\"])\n",
    "\n",
    "        if intent[\"tag\"] not in labels:\n",
    "            labels.append(intent[\"tag\"])\n",
    "\n",
    "    # Stem the words. This process will bring the words to its root (the main meaning)\n",
    "\n",
    "    vocabulary = [word_stemmer.stem(w.lower()) for w in vocabulary if w != \"?\"]  \n",
    "    vocabulary = sorted(list(set(vocabulary)))\n",
    "\n",
    "    labels = sorted(labels)\n",
    "\n",
    "    # Neural network doesn't understand strings at all so we need to convert our input and\n",
    "    # output into a list of numbers. This is called \"a bag of words\" in neural network terminoloy.\n",
    "    # And the process to covert string into numbers is called \"One hot encoding\".\n",
    "\n",
    "    training = []\n",
    "    output = []\n",
    "\n",
    "    out_empty = [0 for _ in range(len(labels))]\n",
    "\n",
    "    for x, doc in enumerate(docs_x):\n",
    "        bag_of_words = []\n",
    "\n",
    "        wrds = [word_stemmer.stem(w) for w in doc]\n",
    "\n",
    "        for w in vocabulary:\n",
    "            if w in wrds:\n",
    "                bag_of_words.append(1)\n",
    "            else:\n",
    "                bag_of_words.append(0)\n",
    "\n",
    "        output_row = out_empty[:]\n",
    "        output_row[labels.index(docs_y[x])] = 1\n",
    "\n",
    "        training.append(bag_of_words)\n",
    "        output.append(output_row)\n",
    "\n",
    "    # Convert the two lists (training input list) and (output) into numpy arrays.\n",
    "\n",
    "    training = numpy.array(training)\n",
    "    output = numpy.array(output)\n",
    "\n",
    "    # Write the pre-processed data into the pickle file to use it subsequent time.\n",
    "    with open(\"cache.pickle\", \"wb\") as f:\n",
    "        pickle.dump((vocabulary, labels, training, output), f)\n"
   ]
  },
  {
   "cell_type": "code",
   "execution_count": 19,
   "metadata": {},
   "outputs": [
    {
     "name": "stdout",
     "output_type": "stream",
     "text": [
      "304\n"
     ]
    }
   ],
   "source": [
    "print(len(vocabulary))"
   ]
  },
  {
   "cell_type": "markdown",
   "metadata": {},
   "source": [
    "### Bag of Words "
   ]
  },
  {
   "cell_type": "code",
   "execution_count": 20,
   "metadata": {},
   "outputs": [],
   "source": [
    "def bag_of_words(user_query, vocabulary):\n",
    "    bag = [0 for _ in range(len(vocabulary))]\n",
    "\n",
    "    s_words = nltk.word_tokenize(user_query)\n",
    "    s_words = [word_stemmer.stem(word.lower()) for word in s_words]\n",
    "\n",
    "    for se in s_words:\n",
    "        for i, w in enumerate(vocabulary):\n",
    "            if se == w:\n",
    "                bag[i] = 1\n",
    "\n",
    "    return numpy.array(bag)\n"
   ]
  },
  {
   "cell_type": "markdown",
   "metadata": {},
   "source": [
    "### Convolutional Neural Network(CNN) "
   ]
  },
  {
   "cell_type": "code",
   "execution_count": 21,
   "metadata": {},
   "outputs": [],
   "source": [
    "from tensorflow.keras.models import Sequential\n",
    "from tensorflow.keras.layers import Dense, Dropout, Flatten\n",
    "from tensorflow.keras.layers import Conv1D, MaxPooling1D, Embedding, LSTM\n",
    "cnn_model = Sequential()\n",
    "cnn_model.add(Embedding(304, 32, input_length=304))\n",
    "cnn_model.add(Conv1D(128, 5, activation='relu'))\n",
    "cnn_model.add(MaxPooling1D(pool_size = 3))\n",
    "# model.add(LSTM(100))\n",
    "cnn_model.add(Flatten())\n",
    "cnn_model.add(Dense(50, activation='relu'))\n",
    "cnn_model.add(Dense(172,activation='softmax'))\n",
    "cnn_model.compile(optimizer='adam',\n",
    "              loss='binary_crossentropy',\n",
    "              metrics=['accuracy'])"
   ]
  },
  {
   "cell_type": "code",
   "execution_count": 22,
   "metadata": {},
   "outputs": [
    {
     "name": "stdout",
     "output_type": "stream",
     "text": [
      "Model: \"sequential_1\"\n",
      "_________________________________________________________________\n",
      "Layer (type)                 Output Shape              Param #   \n",
      "=================================================================\n",
      "embedding_1 (Embedding)      (None, 304, 32)           9728      \n",
      "_________________________________________________________________\n",
      "conv1d_1 (Conv1D)            (None, 300, 128)          20608     \n",
      "_________________________________________________________________\n",
      "max_pooling1d_1 (MaxPooling1 (None, 100, 128)          0         \n",
      "_________________________________________________________________\n",
      "flatten_1 (Flatten)          (None, 12800)             0         \n",
      "_________________________________________________________________\n",
      "dense_2 (Dense)              (None, 50)                640050    \n",
      "_________________________________________________________________\n",
      "dense_3 (Dense)              (None, 172)               8772      \n",
      "=================================================================\n",
      "Total params: 679,158\n",
      "Trainable params: 679,158\n",
      "Non-trainable params: 0\n",
      "_________________________________________________________________\n"
     ]
    }
   ],
   "source": [
    "cnn_model.summary()"
   ]
  },
  {
   "cell_type": "code",
   "execution_count": 30,
   "metadata": {},
   "outputs": [
    {
     "name": "stdout",
     "output_type": "stream",
     "text": [
      "Epoch 1/100\n",
      "428/428 - 0s - loss: 5.9308e-04 - acc: 0.9996\n",
      "Epoch 2/100\n",
      "428/428 - 0s - loss: 6.1889e-04 - acc: 0.9995\n",
      "Epoch 3/100\n",
      "428/428 - 0s - loss: 5.6644e-04 - acc: 0.9996\n",
      "Epoch 4/100\n",
      "428/428 - 0s - loss: 5.6755e-04 - acc: 0.9996\n",
      "Epoch 5/100\n",
      "428/428 - 0s - loss: 5.5843e-04 - acc: 0.9995\n",
      "Epoch 6/100\n",
      "428/428 - 0s - loss: 5.8946e-04 - acc: 0.9995\n",
      "Epoch 7/100\n",
      "428/428 - 0s - loss: 5.7991e-04 - acc: 0.9996\n",
      "Epoch 8/100\n",
      "428/428 - 0s - loss: 5.8405e-04 - acc: 0.9995\n",
      "Epoch 9/100\n",
      "428/428 - 0s - loss: 5.7422e-04 - acc: 0.9996\n",
      "Epoch 10/100\n",
      "428/428 - 0s - loss: 5.6209e-04 - acc: 0.9995\n",
      "Epoch 11/100\n",
      "428/428 - 0s - loss: 5.9398e-04 - acc: 0.9995\n",
      "Epoch 12/100\n",
      "428/428 - 0s - loss: 5.6222e-04 - acc: 0.9995\n",
      "Epoch 13/100\n",
      "428/428 - 0s - loss: 5.6731e-04 - acc: 0.9996\n",
      "Epoch 14/100\n",
      "428/428 - 0s - loss: 5.4941e-04 - acc: 0.9995\n",
      "Epoch 15/100\n",
      "428/428 - 0s - loss: 5.6645e-04 - acc: 0.9996\n",
      "Epoch 16/100\n",
      "428/428 - 0s - loss: 6.0402e-04 - acc: 0.9995\n",
      "Epoch 17/100\n",
      "428/428 - 0s - loss: 5.7216e-04 - acc: 0.9995\n",
      "Epoch 18/100\n",
      "428/428 - 0s - loss: 5.5789e-04 - acc: 0.9995\n",
      "Epoch 19/100\n",
      "428/428 - 0s - loss: 5.6621e-04 - acc: 0.9995\n",
      "Epoch 20/100\n",
      "428/428 - 0s - loss: 5.6911e-04 - acc: 0.9995\n",
      "Epoch 21/100\n",
      "428/428 - 0s - loss: 5.7396e-04 - acc: 0.9995\n",
      "Epoch 22/100\n",
      "428/428 - 0s - loss: 6.3605e-04 - acc: 0.9995\n",
      "Epoch 23/100\n",
      "428/428 - 0s - loss: 5.9651e-04 - acc: 0.9996\n",
      "Epoch 24/100\n",
      "428/428 - 0s - loss: 5.7312e-04 - acc: 0.9996\n",
      "Epoch 25/100\n",
      "428/428 - 0s - loss: 5.8136e-04 - acc: 0.9995\n",
      "Epoch 26/100\n",
      "428/428 - 0s - loss: 5.5943e-04 - acc: 0.9995\n",
      "Epoch 27/100\n",
      "428/428 - 0s - loss: 5.5687e-04 - acc: 0.9996\n",
      "Epoch 28/100\n",
      "428/428 - 0s - loss: 5.8917e-04 - acc: 0.9995\n",
      "Epoch 29/100\n",
      "428/428 - 0s - loss: 5.5544e-04 - acc: 0.9996\n",
      "Epoch 30/100\n",
      "428/428 - 0s - loss: 6.2649e-04 - acc: 0.9995\n",
      "Epoch 31/100\n",
      "428/428 - 0s - loss: 5.3196e-04 - acc: 0.9995\n",
      "Epoch 32/100\n",
      "428/428 - 0s - loss: 5.6764e-04 - acc: 0.9995\n",
      "Epoch 33/100\n",
      "428/428 - 0s - loss: 5.5186e-04 - acc: 0.9995\n",
      "Epoch 34/100\n",
      "428/428 - 0s - loss: 5.6641e-04 - acc: 0.9996\n",
      "Epoch 35/100\n",
      "428/428 - 0s - loss: 5.5711e-04 - acc: 0.9995\n",
      "Epoch 36/100\n",
      "428/428 - 0s - loss: 5.8591e-04 - acc: 0.9995\n",
      "Epoch 37/100\n",
      "428/428 - 0s - loss: 5.5842e-04 - acc: 0.9996\n",
      "Epoch 38/100\n",
      "428/428 - 0s - loss: 5.5319e-04 - acc: 0.9996\n",
      "Epoch 39/100\n",
      "428/428 - 0s - loss: 5.5991e-04 - acc: 0.9996\n",
      "Epoch 40/100\n",
      "428/428 - 0s - loss: 5.5547e-04 - acc: 0.9996\n",
      "Epoch 41/100\n",
      "428/428 - 0s - loss: 5.4246e-04 - acc: 0.9996\n",
      "Epoch 42/100\n",
      "428/428 - 0s - loss: 5.6605e-04 - acc: 0.9996\n",
      "Epoch 43/100\n",
      "428/428 - 0s - loss: 5.4369e-04 - acc: 0.9996\n",
      "Epoch 44/100\n",
      "428/428 - 0s - loss: 5.4638e-04 - acc: 0.9995\n",
      "Epoch 45/100\n",
      "428/428 - 0s - loss: 5.5135e-04 - acc: 0.9994\n",
      "Epoch 46/100\n",
      "428/428 - 0s - loss: 5.5398e-04 - acc: 0.9995\n",
      "Epoch 47/100\n",
      "428/428 - 0s - loss: 5.5166e-04 - acc: 0.9996\n",
      "Epoch 48/100\n",
      "428/428 - 0s - loss: 5.5404e-04 - acc: 0.9995\n",
      "Epoch 49/100\n",
      "428/428 - 0s - loss: 5.4364e-04 - acc: 0.9996\n",
      "Epoch 50/100\n",
      "428/428 - 0s - loss: 5.6154e-04 - acc: 0.9996\n",
      "Epoch 51/100\n",
      "428/428 - 0s - loss: 5.3953e-04 - acc: 0.9996\n",
      "Epoch 52/100\n",
      "428/428 - 0s - loss: 5.4112e-04 - acc: 0.9996\n",
      "Epoch 53/100\n",
      "428/428 - 0s - loss: 5.9571e-04 - acc: 0.9995\n",
      "Epoch 54/100\n",
      "428/428 - 0s - loss: 5.4458e-04 - acc: 0.9996\n",
      "Epoch 55/100\n",
      "428/428 - 0s - loss: 5.9543e-04 - acc: 0.9995\n",
      "Epoch 56/100\n",
      "428/428 - 0s - loss: 5.5957e-04 - acc: 0.9996\n",
      "Epoch 57/100\n",
      "428/428 - 0s - loss: 5.3023e-04 - acc: 0.9996\n",
      "Epoch 58/100\n",
      "428/428 - 0s - loss: 5.5760e-04 - acc: 0.9995\n",
      "Epoch 59/100\n",
      "428/428 - 0s - loss: 5.4594e-04 - acc: 0.9995\n",
      "Epoch 60/100\n",
      "428/428 - 0s - loss: 5.5158e-04 - acc: 0.9996\n",
      "Epoch 61/100\n",
      "428/428 - 0s - loss: 5.3709e-04 - acc: 0.9996\n",
      "Epoch 62/100\n",
      "428/428 - 0s - loss: 5.3326e-04 - acc: 0.9995\n",
      "Epoch 63/100\n",
      "428/428 - 0s - loss: 5.5295e-04 - acc: 0.9996\n",
      "Epoch 64/100\n",
      "428/428 - 0s - loss: 5.5652e-04 - acc: 0.9996\n",
      "Epoch 65/100\n",
      "428/428 - 0s - loss: 5.4680e-04 - acc: 0.9995\n",
      "Epoch 66/100\n",
      "428/428 - 0s - loss: 6.2543e-04 - acc: 0.9995\n",
      "Epoch 67/100\n",
      "428/428 - 0s - loss: 5.6792e-04 - acc: 0.9995\n",
      "Epoch 68/100\n",
      "428/428 - 0s - loss: 5.8339e-04 - acc: 0.9995\n",
      "Epoch 69/100\n",
      "428/428 - 0s - loss: 5.3433e-04 - acc: 0.9995\n",
      "Epoch 70/100\n",
      "428/428 - 0s - loss: 5.3724e-04 - acc: 0.9996\n",
      "Epoch 71/100\n",
      "428/428 - 0s - loss: 5.5181e-04 - acc: 0.9995\n",
      "Epoch 72/100\n",
      "428/428 - 0s - loss: 5.5900e-04 - acc: 0.9995\n",
      "Epoch 73/100\n",
      "428/428 - 0s - loss: 5.3815e-04 - acc: 0.9996\n",
      "Epoch 74/100\n",
      "428/428 - 0s - loss: 5.6713e-04 - acc: 0.9996\n",
      "Epoch 75/100\n",
      "428/428 - 0s - loss: 5.3093e-04 - acc: 0.9996\n",
      "Epoch 76/100\n",
      "428/428 - 0s - loss: 5.5628e-04 - acc: 0.9996\n",
      "Epoch 77/100\n",
      "428/428 - 0s - loss: 5.4222e-04 - acc: 0.9996\n",
      "Epoch 78/100\n",
      "428/428 - 0s - loss: 5.2415e-04 - acc: 0.9995\n",
      "Epoch 79/100\n",
      "428/428 - 0s - loss: 5.4723e-04 - acc: 0.9995\n",
      "Epoch 80/100\n",
      "428/428 - 0s - loss: 5.4417e-04 - acc: 0.9996\n",
      "Epoch 81/100\n",
      "428/428 - 0s - loss: 5.8610e-04 - acc: 0.9996\n",
      "Epoch 82/100\n",
      "428/428 - 0s - loss: 5.3241e-04 - acc: 0.9995\n",
      "Epoch 83/100\n",
      "428/428 - 0s - loss: 5.5294e-04 - acc: 0.9996\n",
      "Epoch 84/100\n",
      "428/428 - 0s - loss: 5.3180e-04 - acc: 0.9996\n",
      "Epoch 85/100\n",
      "428/428 - 0s - loss: 7.7242e-04 - acc: 0.9996\n",
      "Epoch 86/100\n",
      "428/428 - 0s - loss: 6.4671e-04 - acc: 0.9995\n",
      "Epoch 87/100\n",
      "428/428 - 0s - loss: 8.1874e-04 - acc: 0.9994\n",
      "Epoch 88/100\n",
      "428/428 - 0s - loss: 0.0021 - acc: 0.9992\n",
      "Epoch 89/100\n",
      "428/428 - 0s - loss: 0.0032 - acc: 0.9990\n",
      "Epoch 90/100\n",
      "428/428 - 0s - loss: 0.0021 - acc: 0.9991\n",
      "Epoch 91/100\n",
      "428/428 - 0s - loss: 0.0013 - acc: 0.9994\n",
      "Epoch 92/100\n",
      "428/428 - 0s - loss: 9.8075e-04 - acc: 0.9994\n",
      "Epoch 93/100\n",
      "428/428 - 0s - loss: 8.9125e-04 - acc: 0.9995\n",
      "Epoch 94/100\n",
      "428/428 - 0s - loss: 6.8457e-04 - acc: 0.9995\n",
      "Epoch 95/100\n",
      "428/428 - 0s - loss: 6.2646e-04 - acc: 0.9996\n",
      "Epoch 96/100\n",
      "428/428 - 0s - loss: 5.5165e-04 - acc: 0.9996\n",
      "Epoch 97/100\n",
      "428/428 - 0s - loss: 5.8058e-04 - acc: 0.9995\n",
      "Epoch 98/100\n",
      "428/428 - 0s - loss: 5.7283e-04 - acc: 0.9996\n",
      "Epoch 99/100\n",
      "428/428 - 0s - loss: 5.5273e-04 - acc: 0.9995\n",
      "Epoch 100/100\n",
      "428/428 - 0s - loss: 5.5368e-04 - acc: 0.9995\n"
     ]
    }
   ],
   "source": [
    "cnn=cnn_model.fit(training, output, epochs=100,verbose = 2, batch_size=16)"
   ]
  },
  {
   "cell_type": "code",
   "execution_count": 45,
   "metadata": {},
   "outputs": [
    {
     "name": "stdout",
     "output_type": "stream",
     "text": [
      "Model saved successfully...\n"
     ]
    }
   ],
   "source": [
    "cnn_model.save('model_cs_cnn.h5')\n",
    "print(\"Model saved successfully...\")"
   ]
  },
  {
   "cell_type": "markdown",
   "metadata": {},
   "source": [
    "### Accuracy (CNN) "
   ]
  },
  {
   "cell_type": "code",
   "execution_count": 32,
   "metadata": {},
   "outputs": [
    {
     "name": "stdout",
     "output_type": "stream",
     "text": [
      "428/428 [==============================] - 0s 149us/sample - loss: 5.0551e-04 - acc: 0.9996\n",
      "Accuracy: 0.99964684\n"
     ]
    }
   ],
   "source": [
    "\n",
    "\n",
    "scores = cnn_model.evaluate(training, output, verbose=1)\n",
    "print(\"Accuracy:\", scores[1])"
   ]
  },
  {
   "cell_type": "markdown",
   "metadata": {},
   "source": [
    "### Graph results of CNN "
   ]
  },
  {
   "cell_type": "code",
   "execution_count": 38,
   "metadata": {},
   "outputs": [
    {
     "data": {
      "image/png": "[encoded data removed]",
      "text/plain": [
       "<Figure size 432x288 with 1 Axes>"
      ]
     },
     "metadata": {
      "needs_background": "light"
     },
     "output_type": "display_data"
    }
   ],
   "source": [
    "%matplotlib inline\n",
    "import matplotlib.pyplot as plt\n",
    "\n",
    "plt.plot(cnn.history['acc'])\n",
    "plt.title('model accuracy')\n",
    "plt.ylim(0.9990,0.9999)\n",
    "plt.xlim(0,100)\n",
    "plt.ylabel('accuracy')\n",
    "plt.xlabel('epoch')\n",
    "plt.legend(['accuracy'], loc='upper left')\n",
    "plt.show()"
   ]
  },
  {
   "cell_type": "code",
   "execution_count": 40,
   "metadata": {},
   "outputs": [
    {
     "data": {
      "image/png": "[encoded data removed]",
      "text/plain": [
       "<Figure size 432x288 with 1 Axes>"
      ]
     },
     "metadata": {
      "needs_background": "light"
     },
     "output_type": "display_data"
    }
   ],
   "source": [
    "%matplotlib inline\n",
    "import matplotlib.pyplot as plt\n",
    "\n",
    "plt.plot(cnn.history['loss'])\n",
    "plt.title('model loss')\n",
    "plt.ylim(-0.005,0.02)\n",
    "plt.xlim(10,100)\n",
    "plt.ylabel('loss')\n",
    "plt.xlabel('epoch')\n",
    "plt.legend(['loss'], loc='upper left')\n",
    "plt.show()"
   ]
  },
  {
   "cell_type": "markdown",
   "metadata": {},
   "source": [
    "### Recurrent Neural Network (RNN)"
   ]
  },
  {
   "cell_type": "code",
   "execution_count": 41,
   "metadata": {},
   "outputs": [
    {
     "name": "stderr",
     "output_type": "stream",
     "text": [
      "Using TensorFlow backend.\n"
     ]
    }
   ],
   "source": [
    "from keras.models import Sequential\n",
    "from keras.layers import Dense, Dropout, Flatten\n",
    "from keras.layers import Conv1D, MaxPooling1D, Embedding, LSTM,SimpleRNN\n",
    "rnn_model = Sequential()\n",
    "rnn_model.add(Embedding(304, 32, input_length=304))\n",
    "rnn_model.add(SimpleRNN(128, activation='relu', return_sequences=True))\n",
    "rnn_model.add(Flatten())\n",
    "rnn_model.add(Dense(50, activation='relu'))\n",
    "rnn_model.add(Dense(172,activation='softmax'))\n",
    "rnn_model.compile(optimizer='adam',\n",
    "              loss='categorical_crossentropy',\n",
    "              metrics=['accuracy'])"
   ]
  },
  {
   "cell_type": "code",
   "execution_count": 42,
   "metadata": {},
   "outputs": [
    {
     "name": "stdout",
     "output_type": "stream",
     "text": [
      "Model: \"sequential_1\"\n",
      "_________________________________________________________________\n",
      "Layer (type)                 Output Shape              Param #   \n",
      "=================================================================\n",
      "embedding_1 (Embedding)      (None, 304, 32)           9728      \n",
      "_________________________________________________________________\n",
      "simple_rnn_1 (SimpleRNN)     (None, 304, 128)          20608     \n",
      "_________________________________________________________________\n",
      "flatten_1 (Flatten)          (None, 38912)             0         \n",
      "_________________________________________________________________\n",
      "dense_1 (Dense)              (None, 50)                1945650   \n",
      "_________________________________________________________________\n",
      "dense_2 (Dense)              (None, 172)               8772      \n",
      "=================================================================\n",
      "Total params: 1,984,758\n",
      "Trainable params: 1,984,758\n",
      "Non-trainable params: 0\n",
      "_________________________________________________________________\n"
     ]
    }
   ],
   "source": [
    "rnn_model.summary()"
   ]
  },
  {
   "cell_type": "code",
   "execution_count": 44,
   "metadata": {},
   "outputs": [
    {
     "name": "stdout",
     "output_type": "stream",
     "text": [
      "WARNING:tensorflow:From C:\\Users\\pavig\\anaconda3\\lib\\site-packages\\keras\\backend\\tensorflow_backend.py:422: The name tf.global_variables is deprecated. Please use tf.compat.v1.global_variables instead.\n",
      "\n",
      "Train on 385 samples, validate on 43 samples\n",
      "Epoch 1/100\n",
      " - 2s - loss: 5.1600 - accuracy: 0.0130 - val_loss: 5.2098 - val_accuracy: 0.0000e+00\n",
      "Epoch 2/100\n",
      " - 2s - loss: 5.0602 - accuracy: 0.0078 - val_loss: 5.7191 - val_accuracy: 0.0000e+00\n",
      "Epoch 3/100\n",
      " - 2s - loss: 4.7020 - accuracy: 0.0701 - val_loss: 6.6595 - val_accuracy: 0.0000e+00\n",
      "Epoch 4/100\n",
      " - 2s - loss: 3.6596 - accuracy: 0.2571 - val_loss: 9.9189 - val_accuracy: 0.0000e+00\n",
      "Epoch 5/100\n",
      " - 2s - loss: 2.4401 - accuracy: 0.4494 - val_loss: 13.6074 - val_accuracy: 0.0233\n",
      "Epoch 6/100\n",
      " - 2s - loss: 1.5037 - accuracy: 0.6208 - val_loss: 20.1716 - val_accuracy: 0.0465\n",
      "Epoch 7/100\n",
      " - 2s - loss: 1.0062 - accuracy: 0.7558 - val_loss: 21.3136 - val_accuracy: 0.0465\n",
      "Epoch 8/100\n",
      " - 2s - loss: 0.6611 - accuracy: 0.8208 - val_loss: 28.7073 - val_accuracy: 0.0465\n",
      "Epoch 9/100\n",
      " - 2s - loss: 0.4992 - accuracy: 0.8779 - val_loss: 26.4922 - val_accuracy: 0.0465\n",
      "Epoch 10/100\n",
      " - 2s - loss: 0.3457 - accuracy: 0.9039 - val_loss: 33.1075 - val_accuracy: 0.0465\n",
      "Epoch 11/100\n",
      " - 2s - loss: 0.2671 - accuracy: 0.9273 - val_loss: 29.5476 - val_accuracy: 0.0465\n",
      "Epoch 12/100\n",
      " - 2s - loss: 0.1942 - accuracy: 0.9403 - val_loss: 31.7371 - val_accuracy: 0.0465\n",
      "Epoch 13/100\n",
      " - 2s - loss: 0.2151 - accuracy: 0.9299 - val_loss: 29.2233 - val_accuracy: 0.0465\n",
      "Epoch 14/100\n",
      " - 2s - loss: 0.1593 - accuracy: 0.9481 - val_loss: 31.4065 - val_accuracy: 0.0465\n",
      "Epoch 15/100\n",
      " - 2s - loss: 0.1168 - accuracy: 0.9429 - val_loss: 33.4355 - val_accuracy: 0.0465\n",
      "Epoch 16/100\n",
      " - 2s - loss: 0.3482 - accuracy: 0.9247 - val_loss: 23.5463 - val_accuracy: 0.0465\n",
      "Epoch 17/100\n",
      " - 2s - loss: 0.2027 - accuracy: 0.9377 - val_loss: 29.6447 - val_accuracy: 0.0465\n",
      "Epoch 18/100\n",
      " - 2s - loss: 0.1686 - accuracy: 0.9351 - val_loss: 29.0784 - val_accuracy: 0.0465\n",
      "Epoch 19/100\n",
      " - 2s - loss: 0.1333 - accuracy: 0.9481 - val_loss: 27.8976 - val_accuracy: 0.0465\n",
      "Epoch 20/100\n",
      " - 2s - loss: 0.1101 - accuracy: 0.9506 - val_loss: 29.8445 - val_accuracy: 0.0465\n",
      "Epoch 21/100\n",
      " - 2s - loss: 0.0972 - accuracy: 0.9481 - val_loss: 31.3200 - val_accuracy: 0.0465\n",
      "Epoch 22/100\n",
      " - 2s - loss: 0.1000 - accuracy: 0.9455 - val_loss: 30.2396 - val_accuracy: 0.0465\n",
      "Epoch 23/100\n",
      " - 2s - loss: 0.0924 - accuracy: 0.9532 - val_loss: 31.5618 - val_accuracy: 0.0465\n",
      "Epoch 24/100\n",
      " - 2s - loss: 0.0808 - accuracy: 0.9532 - val_loss: 31.2262 - val_accuracy: 0.0465\n",
      "Epoch 25/100\n",
      " - 2s - loss: 0.0747 - accuracy: 0.9584 - val_loss: 32.2290 - val_accuracy: 0.0465\n",
      "Epoch 26/100\n",
      " - 2s - loss: 0.0834 - accuracy: 0.9506 - val_loss: 31.0237 - val_accuracy: 0.0465\n",
      "Epoch 27/100\n",
      " - 2s - loss: 0.0975 - accuracy: 0.9403 - val_loss: 30.7477 - val_accuracy: 0.0465\n",
      "Epoch 28/100\n",
      " - 2s - loss: 0.0772 - accuracy: 0.9558 - val_loss: 32.5616 - val_accuracy: 0.0465\n",
      "Epoch 29/100\n",
      " - 2s - loss: 0.0788 - accuracy: 0.9506 - val_loss: 32.9398 - val_accuracy: 0.0465\n",
      "Epoch 30/100\n",
      " - 2s - loss: 0.0822 - accuracy: 0.9532 - val_loss: 32.9765 - val_accuracy: 0.0465\n",
      "Epoch 31/100\n",
      " - 2s - loss: 0.0994 - accuracy: 0.9610 - val_loss: 28.9946 - val_accuracy: 0.0465\n",
      "Epoch 32/100\n",
      " - 2s - loss: 0.0776 - accuracy: 0.9584 - val_loss: 29.1415 - val_accuracy: 0.0465\n",
      "Epoch 33/100\n",
      " - 2s - loss: 0.0936 - accuracy: 0.9455 - val_loss: 29.3905 - val_accuracy: 0.0465\n",
      "Epoch 34/100\n",
      " - 2s - loss: 0.0914 - accuracy: 0.9506 - val_loss: 29.4316 - val_accuracy: 0.0465\n",
      "Epoch 35/100\n",
      " - 2s - loss: 0.0776 - accuracy: 0.9506 - val_loss: 30.9023 - val_accuracy: 0.0465\n",
      "Epoch 36/100\n",
      " - 2s - loss: 0.0757 - accuracy: 0.9532 - val_loss: 32.0693 - val_accuracy: 0.0465\n",
      "Epoch 37/100\n",
      " - 2s - loss: 0.0759 - accuracy: 0.9558 - val_loss: 31.6264 - val_accuracy: 0.0465\n",
      "Epoch 38/100\n",
      " - 2s - loss: 0.0710 - accuracy: 0.9584 - val_loss: 31.4356 - val_accuracy: 0.0465\n",
      "Epoch 39/100\n",
      " - 2s - loss: 0.0731 - accuracy: 0.9481 - val_loss: 31.0027 - val_accuracy: 0.0465\n",
      "Epoch 40/100\n",
      " - 2s - loss: 0.0753 - accuracy: 0.9532 - val_loss: 31.0316 - val_accuracy: 0.0465\n",
      "Epoch 41/100\n",
      " - 2s - loss: 0.0711 - accuracy: 0.9584 - val_loss: 31.0073 - val_accuracy: 0.0465\n",
      "Epoch 42/100\n",
      " - 2s - loss: 0.0598 - accuracy: 0.9610 - val_loss: 31.6975 - val_accuracy: 0.0465\n",
      "Epoch 43/100\n",
      " - 2s - loss: 0.0708 - accuracy: 0.9610 - val_loss: 31.6739 - val_accuracy: 0.0465\n",
      "Epoch 44/100\n",
      " - 2s - loss: 0.0654 - accuracy: 0.9481 - val_loss: 31.9817 - val_accuracy: 0.0465\n",
      "Epoch 45/100\n",
      " - 2s - loss: 0.0634 - accuracy: 0.9506 - val_loss: 31.9736 - val_accuracy: 0.0465\n",
      "Epoch 46/100\n",
      " - 2s - loss: 0.0619 - accuracy: 0.9584 - val_loss: 32.6193 - val_accuracy: 0.0465\n",
      "Epoch 47/100\n",
      " - 2s - loss: 0.0613 - accuracy: 0.9584 - val_loss: 32.8318 - val_accuracy: 0.0465\n",
      "Epoch 48/100\n",
      " - 2s - loss: 0.0579 - accuracy: 0.9584 - val_loss: 33.0715 - val_accuracy: 0.0465\n",
      "Epoch 49/100\n",
      " - 2s - loss: 0.0633 - accuracy: 0.9532 - val_loss: 32.8454 - val_accuracy: 0.0465\n",
      "Epoch 50/100\n",
      " - 2s - loss: 0.0630 - accuracy: 0.9610 - val_loss: 42.4688 - val_accuracy: 0.0465\n",
      "Epoch 51/100\n",
      " - 2s - loss: 0.0737 - accuracy: 0.9506 - val_loss: 29.7494 - val_accuracy: 0.0465\n",
      "Epoch 52/100\n",
      " - 2s - loss: 0.0838 - accuracy: 0.9455 - val_loss: 29.2868 - val_accuracy: 0.0465\n",
      "Epoch 53/100\n",
      " - 2s - loss: 0.0746 - accuracy: 0.9532 - val_loss: 31.6465 - val_accuracy: 0.0465\n",
      "Epoch 54/100\n",
      " - 2s - loss: 0.0832 - accuracy: 0.9506 - val_loss: 30.4017 - val_accuracy: 0.0465\n",
      "Epoch 55/100\n",
      " - 2s - loss: 0.0734 - accuracy: 0.9506 - val_loss: 29.5100 - val_accuracy: 0.0465\n",
      "Epoch 56/100\n",
      " - 2s - loss: 0.0718 - accuracy: 0.9506 - val_loss: 31.1367 - val_accuracy: 0.0465\n",
      "Epoch 57/100\n",
      " - 2s - loss: 0.0683 - accuracy: 0.9481 - val_loss: 30.2586 - val_accuracy: 0.0465\n",
      "Epoch 58/100\n",
      " - 2s - loss: 0.0629 - accuracy: 0.9506 - val_loss: 31.4568 - val_accuracy: 0.0465\n",
      "Epoch 59/100\n",
      " - 2s - loss: 0.0600 - accuracy: 0.9610 - val_loss: 32.1401 - val_accuracy: 0.0465\n",
      "Epoch 60/100\n",
      " - 2s - loss: 0.0630 - accuracy: 0.9636 - val_loss: 31.3974 - val_accuracy: 0.0465\n",
      "Epoch 61/100\n",
      " - 2s - loss: 0.0650 - accuracy: 0.9506 - val_loss: 31.1028 - val_accuracy: 0.0465\n",
      "Epoch 62/100\n",
      " - 2s - loss: 0.0567 - accuracy: 0.9584 - val_loss: 31.9012 - val_accuracy: 0.0465\n",
      "Epoch 63/100\n",
      " - 2s - loss: 0.0632 - accuracy: 0.9558 - val_loss: 31.6660 - val_accuracy: 0.0465\n",
      "Epoch 64/100\n",
      " - 2s - loss: 0.0576 - accuracy: 0.9558 - val_loss: 31.8017 - val_accuracy: 0.0465\n",
      "Epoch 65/100\n",
      " - 2s - loss: 0.0597 - accuracy: 0.9636 - val_loss: 32.4334 - val_accuracy: 0.0465\n",
      "Epoch 66/100\n",
      " - 2s - loss: 0.0574 - accuracy: 0.9558 - val_loss: 32.3204 - val_accuracy: 0.0465\n",
      "Epoch 67/100\n",
      " - 2s - loss: 0.0569 - accuracy: 0.9558 - val_loss: 32.6678 - val_accuracy: 0.0465\n",
      "Epoch 68/100\n",
      " - 2s - loss: 0.0560 - accuracy: 0.9584 - val_loss: 32.9082 - val_accuracy: 0.0465\n",
      "Epoch 69/100\n",
      " - 2s - loss: 0.0565 - accuracy: 0.9558 - val_loss: 33.3599 - val_accuracy: 0.0465\n",
      "Epoch 70/100\n",
      " - 2s - loss: 0.0583 - accuracy: 0.9558 - val_loss: 32.6082 - val_accuracy: 0.0465\n",
      "Epoch 71/100\n",
      " - 2s - loss: 0.0902 - accuracy: 0.9481 - val_loss: 27.1437 - val_accuracy: 0.0465\n",
      "Epoch 72/100\n",
      " - 2s - loss: 0.0957 - accuracy: 0.9532 - val_loss: 28.3794 - val_accuracy: 0.0465\n",
      "Epoch 73/100\n",
      " - 2s - loss: 0.1539 - accuracy: 0.9455 - val_loss: 25.4907 - val_accuracy: 0.0465\n",
      "Epoch 74/100\n",
      " - 2s - loss: 0.0921 - accuracy: 0.9558 - val_loss: 27.8875 - val_accuracy: 0.0465\n",
      "Epoch 75/100\n",
      " - 2s - loss: 0.0799 - accuracy: 0.9558 - val_loss: 29.9912 - val_accuracy: 0.0465\n",
      "Epoch 76/100\n",
      " - 2s - loss: 0.0780 - accuracy: 0.9558 - val_loss: 29.4010 - val_accuracy: 0.0465\n",
      "Epoch 77/100\n",
      " - 2s - loss: 0.0658 - accuracy: 0.9558 - val_loss: 30.1841 - val_accuracy: 0.0465\n",
      "Epoch 78/100\n",
      " - 2s - loss: 0.0584 - accuracy: 0.9506 - val_loss: 32.1942 - val_accuracy: 0.0465\n",
      "Epoch 79/100\n",
      " - 2s - loss: 0.0588 - accuracy: 0.9558 - val_loss: 31.9016 - val_accuracy: 0.0465\n",
      "Epoch 80/100\n",
      " - 2s - loss: 0.0580 - accuracy: 0.9636 - val_loss: 32.3260 - val_accuracy: 0.0465\n",
      "Epoch 81/100\n",
      " - 2s - loss: 0.0586 - accuracy: 0.9584 - val_loss: 32.5945 - val_accuracy: 0.0465\n",
      "Epoch 82/100\n",
      " - 2s - loss: 0.0585 - accuracy: 0.9584 - val_loss: 32.3753 - val_accuracy: 0.0465\n",
      "Epoch 83/100\n",
      " - 2s - loss: 0.0555 - accuracy: 0.9636 - val_loss: 33.4703 - val_accuracy: 0.0465\n"
     ]
    },
    {
     "name": "stdout",
     "output_type": "stream",
     "text": [
      "Epoch 84/100\n",
      " - 2s - loss: 0.0560 - accuracy: 0.9481 - val_loss: 34.6715 - val_accuracy: 0.0465\n",
      "Epoch 85/100\n",
      " - 2s - loss: 0.0532 - accuracy: 0.9429 - val_loss: 35.1030 - val_accuracy: 0.0465\n",
      "Epoch 86/100\n",
      " - 2s - loss: 0.0529 - accuracy: 0.9610 - val_loss: 35.6363 - val_accuracy: 0.0465\n",
      "Epoch 87/100\n",
      " - 2s - loss: 0.0523 - accuracy: 0.9532 - val_loss: 36.3590 - val_accuracy: 0.0465\n",
      "Epoch 88/100\n",
      " - 2s - loss: 0.0539 - accuracy: 0.9558 - val_loss: 36.0615 - val_accuracy: 0.0465\n",
      "Epoch 89/100\n",
      " - 2s - loss: 0.0569 - accuracy: 0.9558 - val_loss: 35.2247 - val_accuracy: 0.0465\n",
      "Epoch 90/100\n",
      " - 2s - loss: 0.0552 - accuracy: 0.9584 - val_loss: 34.7313 - val_accuracy: 0.0465\n",
      "Epoch 91/100\n",
      " - 2s - loss: 0.0522 - accuracy: 0.9558 - val_loss: 34.8928 - val_accuracy: 0.0465\n",
      "Epoch 92/100\n",
      " - 2s - loss: 0.0611 - accuracy: 0.9584 - val_loss: 33.5334 - val_accuracy: 0.0465\n",
      "Epoch 93/100\n",
      " - 2s - loss: 0.0537 - accuracy: 0.9610 - val_loss: 33.2570 - val_accuracy: 0.0465\n",
      "Epoch 94/100\n",
      " - 2s - loss: 0.0699 - accuracy: 0.9532 - val_loss: 36.0882 - val_accuracy: 0.0465\n",
      "Epoch 95/100\n",
      " - 2s - loss: 0.5957 - accuracy: 0.9013 - val_loss: 20.2978 - val_accuracy: 0.0465\n",
      "Epoch 96/100\n",
      " - 2s - loss: 0.3961 - accuracy: 0.8779 - val_loss: 24.1709 - val_accuracy: 0.0233\n",
      "Epoch 97/100\n",
      " - 2s - loss: 0.1798 - accuracy: 0.9273 - val_loss: 25.9057 - val_accuracy: 0.0465\n",
      "Epoch 98/100\n",
      " - 2s - loss: 0.1283 - accuracy: 0.9403 - val_loss: 28.0505 - val_accuracy: 0.0465\n",
      "Epoch 99/100\n",
      " - 2s - loss: 0.1419 - accuracy: 0.9377 - val_loss: 25.6015 - val_accuracy: 0.0465\n",
      "Epoch 100/100\n",
      " - 2s - loss: 0.1046 - accuracy: 0.9429 - val_loss: 25.6931 - val_accuracy: 0.0465\n"
     ]
    }
   ],
   "source": [
    "rnn=rnn_model.fit(training, output, epochs=100,verbose = 2, batch_size=16,validation_split=0.1)"
   ]
  },
  {
   "cell_type": "markdown",
   "metadata": {},
   "source": [
    "### Accuracy (RNN) "
   ]
  },
  {
   "cell_type": "code",
   "execution_count": 47,
   "metadata": {},
   "outputs": [
    {
     "name": "stdout",
     "output_type": "stream",
     "text": [
      "Model saved successfully...\n",
      "428/428 [==============================] - 0s 745us/step\n",
      "Accuracy: 0.8644859790802002\n"
     ]
    }
   ],
   "source": [
    "rnn_model.save('model_cs_rnn.h5')\n",
    "print(\"Model saved successfully...\")\n",
    "\n",
    "scores = rnn_model.evaluate(training, output, verbose=1)\n",
    "print(\"Accuracy:\", scores[1])"
   ]
  },
  {
   "cell_type": "markdown",
   "metadata": {},
   "source": [
    "### Graph results of RNN "
   ]
  },
  {
   "cell_type": "code",
   "execution_count": 51,
   "metadata": {},
   "outputs": [
    {
     "data": {
      "text/plain": [
       "<matplotlib.legend.Legend at 0x183643d1448>"
      ]
     },
     "execution_count": 51,
     "metadata": {},
     "output_type": "execute_result"
    },
    {
     "data": {
      "image/png": "[encoded data removed]",
      "text/plain": [
       "<Figure size 432x288 with 1 Axes>"
      ]
     },
     "metadata": {
      "needs_background": "light"
     },
     "output_type": "display_data"
    }
   ],
   "source": [
    "%matplotlib inline\n",
    "import matplotlib.pyplot as plt\n",
    "\n",
    "acc=rnn.history['accuracy']\n",
    "loss=rnn.history['loss']\n",
    "\n",
    "\n",
    "epochs=range(len(acc))\n",
    "\n",
    "plt.plot(epochs,acc,'bo', alpha = 0.6, label='acc')\n",
    "plt.ylim(0,1.2)\n",
    "plt.plot(epochs, loss,'go',alpha=0.6, label='loss')\n",
    "plt.title('Model accuracy and Loss')\n",
    "plt.legend()"
   ]
  },
  {
   "cell_type": "code",
   "execution_count": null,
   "metadata": {},
   "outputs": [],
   "source": []
  },
  {
   "cell_type": "code",
   "execution_count": null,
   "metadata": {},
   "outputs": [],
   "source": []
  },
  {
   "cell_type": "code",
   "execution_count": null,
   "metadata": {},
   "outputs": [],
   "source": []
  },
  {
   "cell_type": "code",
   "execution_count": null,
   "metadata": {},
   "outputs": [],
   "source": []
  },
  {
   "cell_type": "code",
   "execution_count": null,
   "metadata": {},
   "outputs": [],
   "source": []
  }
 ],
 "metadata": {
  "kernelspec": {
   "display_name": "Python 3",
   "language": "python",
   "name": "python3"
  },
  "language_info": {
   "codemirror_mode": {
    "name": "ipython",
    "version": 3
   },
   "file_extension": ".py",
   "mimetype": "text/x-python",
   "name": "python",
   "nbconvert_exporter": "python",
   "pygments_lexer": "ipython3",
   "version": "3.7.6"
  }
 },
 "nbformat": 4,
 "nbformat_minor": 4
}
